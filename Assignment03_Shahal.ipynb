{
 "cells": [
  {
   "cell_type": "markdown",
   "metadata": {
    "azdata_cell_guid": "e9cc3667-0039-49a5-aa57-352316c53893",
    "extensions": {
     "azuredatastudio": {
      "views": []
     }
    }
   },
   "source": [
    "**Step 1: Use a SELECT query to select all records from the customer table. Limit the displayed results to 10 records.**"
   ]
  },
  {
   "cell_type": "code",
   "execution_count": 3,
   "metadata": {
    "azdata_cell_guid": "ade65c8c-712c-40d2-ac0a-de2d146e019f",
    "language": "sql"
   },
   "outputs": [
    {
     "data": {
      "text/html": [
       "(10 row(s) affected)"
      ]
     },
     "metadata": {},
     "output_type": "display_data"
    },
    {
     "data": {
      "text/html": [
       "Total execution time: 00:00:00.005"
      ]
     },
     "metadata": {},
     "output_type": "display_data"
    },
    {
     "data": {
      "application/vnd.dataresource+json": {
       "data": [
        {
         "cus_add_num": "67500",
         "cus_address": "Beckley",
         "cus_app_cd": "1",
         "cus_app_lvl": "Low",
         "cus_app_num": "OPC87242708",
         "cus_city": " Hitt",
         "cus_first_name": "Taylor",
         "cus_id": "471",
         "cus_join_date": "2016-08-22",
         "cus_last_name": "Smith",
         "cus_num": "Smi63500",
         "cus_phone": "6449498245",
         "cus_state": "20",
         "cus_zip": "34262",
         "tot_ord_qty": "48",
         "tot_ord_value": "31106"
        },
        {
         "cus_add_num": "33079",
         "cus_address": " Colonial Panda Pike",
         "cus_app_cd": "1",
         "cus_app_lvl": "Low",
         "cus_app_num": "OPC81648129",
         "cus_city": " Howe",
         "cus_first_name": "Erin",
         "cus_id": "627",
         "cus_join_date": "2018-11-26",
         "cus_last_name": "Presley",
         "cus_num": "Pre95680",
         "cus_phone": "7227621838",
         "cus_state": "5",
         "cus_zip": "31456",
         "tot_ord_qty": "64",
         "tot_ord_value": "21532"
        },
        {
         "cus_add_num": "54499",
         "cus_address": " Blue Stead",
         "cus_app_cd": "1",
         "cus_app_lvl": "Low",
         "cus_app_num": "OPC81381401",
         "cus_city": " North Brewster",
         "cus_first_name": "Carl",
         "cus_id": "1255",
         "cus_join_date": "2016-03-27",
         "cus_last_name": "Cooper",
         "cus_num": "Coo931",
         "cus_phone": "7462214127",
         "cus_state": "16",
         "cus_zip": "97377",
         "tot_ord_qty": "97",
         "tot_ord_value": "16208"
        },
        {
         "cus_add_num": "27541",
         "cus_address": "Bean Creek",
         "cus_app_cd": "4",
         "cus_app_lvl": "Low",
         "cus_app_num": "OPC84608351",
         "cus_city": " Montello",
         "cus_first_name": "Joshua",
         "cus_id": "2283",
         "cus_join_date": "2005-05-06",
         "cus_last_name": "Tankersly",
         "cus_num": "Tan94186",
         "cus_phone": "95964736",
         "cus_state": "25",
         "cus_zip": "76506",
         "tot_ord_qty": "8",
         "tot_ord_value": "14859"
        },
        {
         "cus_add_num": "81291",
         "cus_address": "Quaking Embers Quay",
         "cus_app_cd": "2",
         "cus_app_lvl": "Low",
         "cus_app_num": "OPC79124424",
         "cus_city": " Cowan",
         "cus_first_name": "Noel",
         "cus_id": "2241",
         "cus_join_date": "2012-11-24",
         "cus_last_name": "Jamieson",
         "cus_num": "Jam71966",
         "cus_phone": "7971817866",
         "cus_state": "10",
         "cus_zip": "82205",
         "tot_ord_qty": "52",
         "tot_ord_value": "24171"
        },
        {
         "cus_add_num": "155",
         "cus_address": "Foxrun",
         "cus_app_cd": "18",
         "cus_app_lvl": "High",
         "cus_app_num": "OPC85649476",
         "cus_city": "Loganville",
         "cus_first_name": "Ulrich",
         "cus_id": "2617",
         "cus_join_date": "2020-01-27",
         "cus_last_name": "Mathiasen",
         "cus_num": "NULL",
         "cus_phone": "2948717959",
         "cus_state": "9",
         "cus_zip": "30052",
         "tot_ord_qty": "45",
         "tot_ord_value": "27099.12"
        },
        {
         "cus_add_num": "75162",
         "cus_address": "Rustic Grove Orchard",
         "cus_app_cd": "1",
         "cus_app_lvl": "Low",
         "cus_app_num": "OPC87398388",
         "cus_city": " Laffertys Trailer Court",
         "cus_first_name": "Piper",
         "cus_id": "21",
         "cus_join_date": "2019-02-18",
         "cus_last_name": "Jones",
         "cus_num": "Jon39709",
         "cus_phone": "1992380878",
         "cus_state": "28",
         "cus_zip": "8544",
         "tot_ord_qty": "23",
         "tot_ord_value": "32288"
        },
        {
         "cus_add_num": "25138",
         "cus_address": "Crystal Cove",
         "cus_app_cd": "7",
         "cus_app_lvl": "Moderate",
         "cus_app_num": "OPC80243377",
         "cus_city": " North Star",
         "cus_first_name": "Brian",
         "cus_id": "22",
         "cus_join_date": "2011-05-18",
         "cus_last_name": "Ridgley",
         "cus_num": "Rid36041",
         "cus_phone": "5593513806",
         "cus_state": "23",
         "cus_zip": "70033",
         "tot_ord_qty": "95",
         "tot_ord_value": "12960"
        },
        {
         "cus_add_num": "64092",
         "cus_address": "Honey Creek Autoroute",
         "cus_app_cd": "2",
         "cus_app_lvl": "Low",
         "cus_app_num": "OPC79478730",
         "cus_city": " Norton Shores",
         "cus_first_name": "Mike",
         "cus_id": "23",
         "cus_join_date": "2009-07-15",
         "cus_last_name": "Seiler",
         "cus_num": "Sei48735",
         "cus_phone": "476557784",
         "cus_state": "1",
         "cus_zip": "78116",
         "tot_ord_qty": "86",
         "tot_ord_value": "343"
        },
        {
         "cus_add_num": "29529",
         "cus_address": "Hazy Road",
         "cus_app_cd": "7",
         "cus_app_lvl": "Moderate",
         "cus_app_num": "OPC85629135",
         "cus_city": " Holiday Park",
         "cus_first_name": "Erin",
         "cus_id": "24",
         "cus_join_date": "2016-02-10",
         "cus_last_name": "Smith",
         "cus_num": "Smi73882",
         "cus_phone": "4748917378",
         "cus_state": "19",
         "cus_zip": "36253",
         "tot_ord_qty": "24",
         "tot_ord_value": "18141"
        }
       ],
       "schema": {
        "fields": [
         {
          "name": "cus_id"
         },
         {
          "name": "cus_num"
         },
         {
          "name": "cus_last_name"
         },
         {
          "name": "cus_first_name"
         },
         {
          "name": "cus_add_num"
         },
         {
          "name": "cus_address"
         },
         {
          "name": "cus_city"
         },
         {
          "name": "cus_state"
         },
         {
          "name": "cus_zip"
         },
         {
          "name": "cus_phone"
         },
         {
          "name": "cus_join_date"
         },
         {
          "name": "cus_app_cd"
         },
         {
          "name": "cus_app_num"
         },
         {
          "name": "tot_ord_qty"
         },
         {
          "name": "tot_ord_value"
         },
         {
          "name": "cus_app_lvl"
         }
        ]
       }
      },
      "text/html": [
       "<table><tr><th>cus_id</th><th>cus_num</th><th>cus_last_name</th><th>cus_first_name</th><th>cus_add_num</th><th>cus_address</th><th>cus_city</th><th>cus_state</th><th>cus_zip</th><th>cus_phone</th><th>cus_join_date</th><th>cus_app_cd</th><th>cus_app_num</th><th>tot_ord_qty</th><th>tot_ord_value</th><th>cus_app_lvl</th></tr><tr><td>471</td><td>Smi63500</td><td>Smith</td><td>Taylor</td><td>67500</td><td>Beckley</td><td> Hitt</td><td>20</td><td>34262</td><td>6449498245</td><td>2016-08-22</td><td>1</td><td>OPC87242708</td><td>48</td><td>31106</td><td>Low</td></tr><tr><td>627</td><td>Pre95680</td><td>Presley</td><td>Erin</td><td>33079</td><td> Colonial Panda Pike</td><td> Howe</td><td>5</td><td>31456</td><td>7227621838</td><td>2018-11-26</td><td>1</td><td>OPC81648129</td><td>64</td><td>21532</td><td>Low</td></tr><tr><td>1255</td><td>Coo931</td><td>Cooper</td><td>Carl</td><td>54499</td><td> Blue Stead</td><td> North Brewster</td><td>16</td><td>97377</td><td>7462214127</td><td>2016-03-27</td><td>1</td><td>OPC81381401</td><td>97</td><td>16208</td><td>Low</td></tr><tr><td>2283</td><td>Tan94186</td><td>Tankersly</td><td>Joshua</td><td>27541</td><td>Bean Creek</td><td> Montello</td><td>25</td><td>76506</td><td>95964736</td><td>2005-05-06</td><td>4</td><td>OPC84608351</td><td>8</td><td>14859</td><td>Low</td></tr><tr><td>2241</td><td>Jam71966</td><td>Jamieson</td><td>Noel</td><td>81291</td><td>Quaking Embers Quay</td><td> Cowan</td><td>10</td><td>82205</td><td>7971817866</td><td>2012-11-24</td><td>2</td><td>OPC79124424</td><td>52</td><td>24171</td><td>Low</td></tr><tr><td>2617</td><td>NULL</td><td>Mathiasen</td><td>Ulrich</td><td>155</td><td>Foxrun</td><td>Loganville</td><td>9</td><td>30052</td><td>2948717959</td><td>2020-01-27</td><td>18</td><td>OPC85649476</td><td>45</td><td>27099.12</td><td>High</td></tr><tr><td>21</td><td>Jon39709</td><td>Jones</td><td>Piper</td><td>75162</td><td>Rustic Grove Orchard</td><td> Laffertys Trailer Court</td><td>28</td><td>8544</td><td>1992380878</td><td>2019-02-18</td><td>1</td><td>OPC87398388</td><td>23</td><td>32288</td><td>Low</td></tr><tr><td>22</td><td>Rid36041</td><td>Ridgley</td><td>Brian</td><td>25138</td><td>Crystal Cove</td><td> North Star</td><td>23</td><td>70033</td><td>5593513806</td><td>2011-05-18</td><td>7</td><td>OPC80243377</td><td>95</td><td>12960</td><td>Moderate</td></tr><tr><td>23</td><td>Sei48735</td><td>Seiler</td><td>Mike</td><td>64092</td><td>Honey Creek Autoroute</td><td> Norton Shores</td><td>1</td><td>78116</td><td>476557784</td><td>2009-07-15</td><td>2</td><td>OPC79478730</td><td>86</td><td>343</td><td>Low</td></tr><tr><td>24</td><td>Smi73882</td><td>Smith</td><td>Erin</td><td>29529</td><td>Hazy Road</td><td> Holiday Park</td><td>19</td><td>36253</td><td>4748917378</td><td>2016-02-10</td><td>7</td><td>OPC85629135</td><td>24</td><td>18141</td><td>Moderate</td></tr></table>"
      ]
     },
     "execution_count": 3,
     "metadata": {},
     "output_type": "execute_result"
    }
   ],
   "source": [
    "SELECT *\n",
    "FROM dsci_504.customers\n",
    "LIMIT 10;"
   ]
  },
  {
   "cell_type": "markdown",
   "metadata": {
    "azdata_cell_guid": "d637e552-88ff-4b95-ac5e-326d6d61c568",
    "extensions": {
     "azuredatastudio": {
      "views": []
     }
    }
   },
   "source": [
    "**Q: Of the first ten customers returned, what is the Customer ID  and City of the 5th customer?**\n",
    "\n",
    "```\n",
    "cus_id for 5th customer = 2241\n",
    "\n",
    "```\n",
    "```\n",
    "cus_city for 5th customer = Cowan\n",
    "\n",
    "```"
   ]
  },
  {
   "cell_type": "code",
   "execution_count": 9,
   "metadata": {
    "azdata_cell_guid": "b9e61934-75dd-4562-88f6-f82fd6211803",
    "language": "sql"
   },
   "outputs": [
    {
     "data": {
      "text/html": [
       "(1 row(s) affected)"
      ]
     },
     "metadata": {},
     "output_type": "display_data"
    },
    {
     "data": {
      "text/html": [
       "Total execution time: 00:00:00.003"
      ]
     },
     "metadata": {},
     "output_type": "display_data"
    },
    {
     "data": {
      "application/vnd.dataresource+json": {
       "data": [
        {
         "cus_city": " Cowan",
         "cus_id": "2241"
        }
       ],
       "schema": {
        "fields": [
         {
          "name": "cus_id"
         },
         {
          "name": "cus_city"
         }
        ]
       }
      },
      "text/html": [
       "<table><tr><th>cus_id</th><th>cus_city</th></tr><tr><td>2241</td><td> Cowan</td></tr></table>"
      ]
     },
     "execution_count": 9,
     "metadata": {},
     "output_type": "execute_result"
    }
   ],
   "source": [
    "select customers.cus_id,customers.cus_city\n",
    "from dsci_504.customers\n",
    "LIMIT 1 OFFSET 4;"
   ]
  },
  {
   "cell_type": "markdown",
   "metadata": {
    "azdata_cell_guid": "f392c54f-b012-46d1-8e4f-84ed4eda1e69",
    "extensions": {
     "azuredatastudio": {
      "views": []
     }
    }
   },
   "source": [
    "**Step 2: Use a SELECT query to select the Customer ID, Last Name, State, and Customer Appreciation Code of all customers who joined _from_ September 11, 2001 _through_ October 1, 2001**"
   ]
  },
  {
   "cell_type": "code",
   "execution_count": 10,
   "metadata": {
    "azdata_cell_guid": "e713f9c7-b083-4288-a313-928b355d6cfb",
    "language": "sql"
   },
   "outputs": [
    {
     "data": {
      "text/html": [
       "(8 row(s) affected)"
      ]
     },
     "metadata": {},
     "output_type": "display_data"
    },
    {
     "data": {
      "text/html": [
       "Total execution time: 00:00:00.006"
      ]
     },
     "metadata": {},
     "output_type": "display_data"
    },
    {
     "data": {
      "application/vnd.dataresource+json": {
       "data": [
        {
         "cus_app_cd": "6",
         "cus_id": "356",
         "cus_last_name": "Delacruz",
         "cus_state": "2"
        },
        {
         "cus_app_cd": "1",
         "cus_id": "464",
         "cus_last_name": "Sherman",
         "cus_state": "3"
        },
        {
         "cus_app_cd": "1",
         "cus_id": "495",
         "cus_last_name": "Delacruz",
         "cus_state": "18"
        },
        {
         "cus_app_cd": "4",
         "cus_id": "1587",
         "cus_last_name": "Applewood",
         "cus_state": "17"
        },
        {
         "cus_app_cd": "3",
         "cus_id": "1907",
         "cus_last_name": "Acosta",
         "cus_state": "29"
        },
        {
         "cus_app_cd": "6",
         "cus_id": "1936",
         "cus_last_name": "Manchester",
         "cus_state": "11"
        },
        {
         "cus_app_cd": "4",
         "cus_id": "2141",
         "cus_last_name": "Brooks",
         "cus_state": "19"
        },
        {
         "cus_app_cd": "4",
         "cus_id": "2194",
         "cus_last_name": "Moore",
         "cus_state": "28"
        }
       ],
       "schema": {
        "fields": [
         {
          "name": "cus_id"
         },
         {
          "name": "cus_last_name"
         },
         {
          "name": "cus_state"
         },
         {
          "name": "cus_app_cd"
         }
        ]
       }
      },
      "text/html": [
       "<table><tr><th>cus_id</th><th>cus_last_name</th><th>cus_state</th><th>cus_app_cd</th></tr><tr><td>356</td><td>Delacruz</td><td>2</td><td>6</td></tr><tr><td>464</td><td>Sherman</td><td>3</td><td>1</td></tr><tr><td>495</td><td>Delacruz</td><td>18</td><td>1</td></tr><tr><td>1587</td><td>Applewood</td><td>17</td><td>4</td></tr><tr><td>1907</td><td>Acosta</td><td>29</td><td>3</td></tr><tr><td>1936</td><td>Manchester</td><td>11</td><td>6</td></tr><tr><td>2141</td><td>Brooks</td><td>19</td><td>4</td></tr><tr><td>2194</td><td>Moore</td><td>28</td><td>4</td></tr></table>"
      ]
     },
     "execution_count": 10,
     "metadata": {},
     "output_type": "execute_result"
    }
   ],
   "source": [
    "SELECT\n",
    "    cus_id,\n",
    "    cus_last_name,\n",
    "    cus_state,\n",
    "    cus_app_cd\n",
    "FROM\n",
    "    dsci_504.customers\n",
    "WHERE\n",
    "   cus_join_date >= '2001-09-11' AND cus_join_date <= '2001-10-01';\n"
   ]
  },
  {
   "cell_type": "markdown",
   "metadata": {
    "azdata_cell_guid": "3849b462-7f31-4feb-9a54-1cb1a431c99f",
    "extensions": {
     "azuredatastudio": {
      "views": []
     }
    }
   },
   "source": [
    "**Q: How many customers joined in teh period from September 11, 2001 throught October 1, 2001?**\n",
    "\n",
    "```\n",
    "A: eight customers joined (8)\n",
    "\n",
    "```"
   ]
  },
  {
   "cell_type": "markdown",
   "metadata": {
    "azdata_cell_guid": "60a3d5b6-ce24-4123-8cf3-f214fd6a074a",
    "extensions": {
     "azuredatastudio": {
      "views": []
     }
    }
   },
   "source": [
    "**Part 3: Looking at the same query from Part 2, write a SELECT query that returns all information for the two customers with the last name Delacruz**"
   ]
  },
  {
   "cell_type": "code",
   "execution_count": 11,
   "metadata": {
    "azdata_cell_guid": "bb151380-7a4d-467d-b6a5-62e682fc2e7e",
    "language": "sql"
   },
   "outputs": [
    {
     "data": {
      "text/html": [
       "(2 row(s) affected)"
      ]
     },
     "metadata": {},
     "output_type": "display_data"
    },
    {
     "data": {
      "text/html": [
       "Total execution time: 00:00:00.005"
      ]
     },
     "metadata": {},
     "output_type": "display_data"
    },
    {
     "data": {
      "application/vnd.dataresource+json": {
       "data": [
        {
         "cus_add_num": "63740",
         "cus_address": " Crystal Spring Corners",
         "cus_app_cd": "6",
         "cus_app_lvl": "Moderate",
         "cus_app_num": "OPC81506974",
         "cus_city": " Mcarthur Estates",
         "cus_first_name": "Margo",
         "cus_id": "356",
         "cus_join_date": "2001-09-25",
         "cus_last_name": "Delacruz",
         "cus_num": "Del73426",
         "cus_phone": "3875686732",
         "cus_state": "2",
         "cus_zip": "89443",
         "tot_ord_qty": "70",
         "tot_ord_value": "34773"
        },
        {
         "cus_add_num": "53556",
         "cus_address": "Apache",
         "cus_app_cd": "1",
         "cus_app_lvl": "Low",
         "cus_app_num": "OPC84687770",
         "cus_city": " Wolfs Mill",
         "cus_first_name": "Brandon",
         "cus_id": "495",
         "cus_join_date": "2001-09-23",
         "cus_last_name": "Delacruz",
         "cus_num": "Del44118",
         "cus_phone": "7593410556",
         "cus_state": "18",
         "cus_zip": "18151",
         "tot_ord_qty": "85",
         "tot_ord_value": "2396"
        }
       ],
       "schema": {
        "fields": [
         {
          "name": "cus_id"
         },
         {
          "name": "cus_num"
         },
         {
          "name": "cus_last_name"
         },
         {
          "name": "cus_first_name"
         },
         {
          "name": "cus_add_num"
         },
         {
          "name": "cus_address"
         },
         {
          "name": "cus_city"
         },
         {
          "name": "cus_state"
         },
         {
          "name": "cus_zip"
         },
         {
          "name": "cus_phone"
         },
         {
          "name": "cus_join_date"
         },
         {
          "name": "cus_app_cd"
         },
         {
          "name": "cus_app_num"
         },
         {
          "name": "tot_ord_qty"
         },
         {
          "name": "tot_ord_value"
         },
         {
          "name": "cus_app_lvl"
         }
        ]
       }
      },
      "text/html": [
       "<table><tr><th>cus_id</th><th>cus_num</th><th>cus_last_name</th><th>cus_first_name</th><th>cus_add_num</th><th>cus_address</th><th>cus_city</th><th>cus_state</th><th>cus_zip</th><th>cus_phone</th><th>cus_join_date</th><th>cus_app_cd</th><th>cus_app_num</th><th>tot_ord_qty</th><th>tot_ord_value</th><th>cus_app_lvl</th></tr><tr><td>356</td><td>Del73426</td><td>Delacruz</td><td>Margo</td><td>63740</td><td> Crystal Spring Corners</td><td> Mcarthur Estates</td><td>2</td><td>89443</td><td>3875686732</td><td>2001-09-25</td><td>6</td><td>OPC81506974</td><td>70</td><td>34773</td><td>Moderate</td></tr><tr><td>495</td><td>Del44118</td><td>Delacruz</td><td>Brandon</td><td>53556</td><td>Apache</td><td> Wolfs Mill</td><td>18</td><td>18151</td><td>7593410556</td><td>2001-09-23</td><td>1</td><td>OPC84687770</td><td>85</td><td>2396</td><td>Low</td></tr></table>"
      ]
     },
     "execution_count": 11,
     "metadata": {},
     "output_type": "execute_result"
    }
   ],
   "source": [
    "SELECT *\n",
    "FROM dsci_504.customers\n",
    "where cus_join_date >= '2001-09-11' AND cus_join_date <= '2001-10-01'\n",
    "AND cus_last_name = 'Delacruz';"
   ]
  },
  {
   "cell_type": "markdown",
   "metadata": {
    "azdata_cell_guid": "04127bab-07e9-446a-a2f3-a0979214bb54",
    "extensions": {
     "azuredatastudio": {
      "views": []
     }
    }
   },
   "source": [
    "**Q: What are three unique features about these two customers?**\n",
    "\n",
    "**Customer ID: Each customer has a unique Customer ID.**\n",
    "\n",
    "**Customer 1: 356**\n",
    "\n",
    "**Customer 2: 495**\n",
    "\n",
    "**Join Date: The customers have different join dates.**\n",
    "\n",
    "**Customer 1: 2001/09/25**\n",
    "\n",
    "**Customer 2: 2001/09/23**\n",
    "\n",
    "**State: They have different states associated with them.**\n",
    "\n",
    "**Customer 1: State 2**\n",
    "\n",
    "**Customer 2: State 18**"
   ]
  },
  {
   "cell_type": "markdown",
   "metadata": {
    "azdata_cell_guid": "8234ad8c-945b-4994-86cb-101516980c5d",
    "extensions": {
     "azuredatastudio": {
      "views": []
     }
    }
   },
   "source": [
    "**Part 4: Write a query to return all order data for the two Delacruz customers above. Be sure to include minimal person information to assist in identifying which person placed which order. You may need to use a simple join to get both the customer and order data. A template for that is below. Use the following data points in your query:**\n",
    "\n",
    "- **Customer ID**\n",
    "- **Customer Last Name**\n",
    "- **Customer First Name**\n",
    "- **Total Order Quantity**\n",
    "- **Total Order Value**\n",
    "- **All Order Data**\n",
    "\n",
    "```\n",
    "SELECT [table1.column], [table2.column]..\n",
    "FROM [table1], [table2]\n",
    "WHERE [conditions]\n",
    "\n",
    "```"
   ]
  },
  {
   "cell_type": "code",
   "execution_count": 13,
   "metadata": {
    "azdata_cell_guid": "9c8bd337-2166-42f4-9b5c-2f37b7fb4078",
    "language": "sql"
   },
   "outputs": [
    {
     "data": {
      "text/html": [
       "(2 row(s) affected)"
      ]
     },
     "metadata": {},
     "output_type": "display_data"
    },
    {
     "data": {
      "text/html": [
       "Total execution time: 00:00:00.007"
      ]
     },
     "metadata": {},
     "output_type": "display_data"
    },
    {
     "data": {
      "application/vnd.dataresource+json": {
       "data": [
        {
         "build_id": "37",
         "cus_first_name": "Margo",
         "cus_id": "356",
         "cus_last_name": "Delacruz",
         "ord_date": "2002-08-21",
         "ord_id": "2614702",
         "ord_ship_add": "false",
         "ord_ship_date": "2002-08-25",
         "ord_tax_loc": "2",
         "ord_track_num": "PAC7774446-3    ",
         "order_tot": "5200",
         "prod_id": "42",
         "tot_ord_qty": "70",
         "tot_ord_value": "34773",
         "warehouse_id": "3"
        },
        {
         "build_id": "50",
         "cus_first_name": "Brandon",
         "cus_id": "495",
         "cus_last_name": "Delacruz",
         "ord_date": "2005-07-28",
         "ord_id": "2051970",
         "ord_ship_add": "false",
         "ord_ship_date": "2005-07-30",
         "ord_tax_loc": "18",
         "ord_track_num": "PAC2382180-2    ",
         "order_tot": "5631.35",
         "prod_id": "48",
         "tot_ord_qty": "85",
         "tot_ord_value": "2396",
         "warehouse_id": "1"
        }
       ],
       "schema": {
        "fields": [
         {
          "name": "cus_id"
         },
         {
          "name": "cus_last_name"
         },
         {
          "name": "cus_first_name"
         },
         {
          "name": "tot_ord_qty"
         },
         {
          "name": "tot_ord_value"
         },
         {
          "name": "ord_id"
         },
         {
          "name": "ord_date"
         },
         {
          "name": "ord_tax_loc"
         },
         {
          "name": "order_tot"
         },
         {
          "name": "ord_ship_add"
         },
         {
          "name": "ord_ship_date"
         },
         {
          "name": "ord_track_num"
         },
         {
          "name": "prod_id"
         },
         {
          "name": "warehouse_id"
         },
         {
          "name": "cus_id"
         },
         {
          "name": "build_id"
         }
        ]
       }
      },
      "text/html": [
       "<table><tr><th>cus_id</th><th>cus_last_name</th><th>cus_first_name</th><th>tot_ord_qty</th><th>tot_ord_value</th><th>ord_id</th><th>ord_date</th><th>ord_tax_loc</th><th>order_tot</th><th>ord_ship_add</th><th>ord_ship_date</th><th>ord_track_num</th><th>prod_id</th><th>warehouse_id</th><th>cus_id</th><th>build_id</th></tr><tr><td>356</td><td>Delacruz</td><td>Margo</td><td>70</td><td>34773</td><td>2614702</td><td>2002-08-21</td><td>2</td><td>5200</td><td>false</td><td>2002-08-25</td><td>PAC7774446-3    </td><td>42</td><td>3</td><td>356</td><td>37</td></tr><tr><td>495</td><td>Delacruz</td><td>Brandon</td><td>85</td><td>2396</td><td>2051970</td><td>2005-07-28</td><td>18</td><td>5631.35</td><td>false</td><td>2005-07-30</td><td>PAC2382180-2    </td><td>48</td><td>1</td><td>495</td><td>50</td></tr></table>"
      ]
     },
     "execution_count": 13,
     "metadata": {},
     "output_type": "execute_result"
    }
   ],
   "source": [
    "SELECT\n",
    "    Customers.cus_id,\n",
    "    Customers.cus_last_name,\n",
    "    Customers.cus_first_name,\n",
    "    Customers.tot_ord_qty,\n",
    "    Customers.tot_ord_value,\n",
    "    orders.*\n",
    "FROM\n",
    "    dsci_504.Customers,   \n",
    "    dsci_504.orders\n",
    "WHERE\n",
    "    Customers.cus_id = Orders.cus_id   \n",
    "AND\n",
    "    Customers.cus_last_name = 'Delacruz'\n",
    "AND \n",
    "    cus_join_date >= '2001-09-11' AND cus_join_date <= '2001-10-01'  \n",
    "   \n",
    "\n"
   ]
  },
  {
   "cell_type": "markdown",
   "metadata": {
    "azdata_cell_guid": "e011870f-3edd-4cfe-bcc1-5c3aeb0d602b",
    "extensions": {
     "azuredatastudio": {
      "views": []
     }
    }
   },
   "source": [
    "**Q: What is one interesting fact revealed in addition** **the new data?**\n",
    "\n",
    "**Customer Margo Delacruz (Customer ID: 356) has  a tot\\_ord\\_qty of  70, tot\\_ord\\_value of 34,773, and ord\\_id 2614702**\n",
    "\n",
    "**Customer Brandon Delacruz (Customer ID: 495)**  **has  a tot\\_ord\\_qty of** **85****, tot\\_ord\\_value** **of 2,396 and ord\\_id 2051970**\n",
    "\n",
    "**This indicates that these two customers have distinct preferences.**"
   ]
  },
  {
   "cell_type": "markdown",
   "metadata": {
    "azdata_cell_guid": "c9a65c1b-bcd9-4b8b-91a0-0e5a20f7fc18",
    "extensions": {
     "azuredatastudio": {
      "views": []
     }
    }
   },
   "source": [
    "**Q: Explain how the addition of additional data aided in your assessment.**\n",
    "\n",
    "```\n",
    "The additional data allowed a more comprehensive assessment of these customers' profiles and behaviors. It is valuable for businesses aiming to personalize customer interactions and enhance customer satisfaction and retention.\n",
    "\n",
    "```"
   ]
  },
  {
   "cell_type": "markdown",
   "metadata": {
    "azdata_cell_guid": "a99dd09e-8f2c-4753-ac62-3bdab8c755e6",
    "extensions": {
     "azuredatastudio": {
      "views": []
     }
    }
   },
   "source": [
    "**Part 5: Some of the most unique features mountain bikers seek out in their bikes are wheel sets, shocks, forks, and dropper posts. These items make or break a top- notch mountain bike. You know that part of the identification of whether or not OPC should break into the luxury MTB market is that they can build and market competitive bikes. Use a SELECT query to determine how many unique type of components there are in the components table. Specifically query for forks and dropper posts. Order your results by component category and component name in alphabetical order.**"
   ]
  },
  {
   "cell_type": "code",
   "execution_count": 16,
   "metadata": {
    "azdata_cell_guid": "1a77544a-0296-4928-8dbf-07c91361329e",
    "language": "sql"
   },
   "outputs": [
    {
     "data": {
      "text/html": [
       "(85 row(s) affected)"
      ]
     },
     "metadata": {},
     "output_type": "display_data"
    },
    {
     "data": {
      "text/html": [
       "Total execution time: 00:00:00.004"
      ]
     },
     "metadata": {},
     "output_type": "display_data"
    },
    {
     "data": {
      "application/vnd.dataresource+json": {
       "data": [
        {
         "comp_cat": "dropper",
         "comp_name": "Bike Yoke Devine Stealth"
        },
        {
         "comp_cat": "dropper",
         "comp_name": "Bike Yoke Revive"
        },
        {
         "comp_cat": "dropper",
         "comp_name": "BrandX Ascend"
        },
        {
         "comp_cat": "dropper",
         "comp_name": "Cannondale 2"
        },
        {
         "comp_cat": "dropper",
         "comp_name": "Cannondale DownLow"
        },
        {
         "comp_cat": "dropper",
         "comp_name": "Cube Dropper"
        },
        {
         "comp_cat": "dropper",
         "comp_name": "DropWH18"
        },
        {
         "comp_cat": "fork",
         "comp_name": "DVO Onyx D1 160"
        },
        {
         "comp_cat": "fork",
         "comp_name": "DVO Onyx D2 170 Air"
        },
        {
         "comp_cat": "fork",
         "comp_name": "Fox 32 Factory 100"
        },
        {
         "comp_cat": "fork",
         "comp_name": "Fox 32 Float Perf 100 Air"
        },
        {
         "comp_cat": "fork",
         "comp_name": "Fox 34 Float Factory Grip 2 120"
        },
        {
         "comp_cat": "fork",
         "comp_name": "Fox 34 Float Factory Grip 2 140"
        },
        {
         "comp_cat": "fork",
         "comp_name": "Fox 34 Float Factory Grip 2 140 Air"
        },
        {
         "comp_cat": "fork",
         "comp_name": "Fox 34 Float Perf 120"
        },
        {
         "comp_cat": "fork",
         "comp_name": "Fox 34 Float Perf 140"
        },
        {
         "comp_cat": "fork",
         "comp_name": "Fox 34 Float Perf 140 Air"
        },
        {
         "comp_cat": "fork",
         "comp_name": "Fox 34 Perf 130"
        },
        {
         "comp_cat": "fork",
         "comp_name": "Fox 34 Perf 130 Air"
        },
        {
         "comp_cat": "fork",
         "comp_name": "Fox 34 Rhythm 120"
        },
        {
         "comp_cat": "fork",
         "comp_name": "Fox 36 Factory 150 Air"
        },
        {
         "comp_cat": "fork",
         "comp_name": "Fox 36 Factory 160 Air"
        },
        {
         "comp_cat": "fork",
         "comp_name": "Fox 36 Float Factory 160 Air"
        },
        {
         "comp_cat": "fork",
         "comp_name": "Fox 36 Float Factory 170 Air"
        },
        {
         "comp_cat": "fork",
         "comp_name": "Fox 36 Float Perf 140 Air"
        },
        {
         "comp_cat": "fork",
         "comp_name": "Fox 36 Float Perf 150"
        },
        {
         "comp_cat": "fork",
         "comp_name": "Fox 36 Float Perf 160 Air"
        },
        {
         "comp_cat": "fork",
         "comp_name": "Fox 36 Perf 160 Air"
        },
        {
         "comp_cat": "fork",
         "comp_name": "Fox 36 Perf 1650 Air"
        },
        {
         "comp_cat": "fork",
         "comp_name": "Fox 36 Perf 170 Air"
        },
        {
         "comp_cat": "fork",
         "comp_name": "Fox 36 Perf Elite 140 Air"
        },
        {
         "comp_cat": "fork",
         "comp_name": "Fox 36 Perf Elite 150 Air"
        },
        {
         "comp_cat": "fork",
         "comp_name": "Fox 36 Perf Elite 160 Air"
        },
        {
         "comp_cat": "fork",
         "comp_name": "Fox 36 Perf Elite 180 Air"
        },
        {
         "comp_cat": "fork",
         "comp_name": "Fox 36 Rhythm 160 Air"
        },
        {
         "comp_cat": "fork",
         "comp_name": "Fox 36 Rhythm Fit 3 150"
        },
        {
         "comp_cat": "fork",
         "comp_name": "Fox 38 Factory Grip 2 180 Air"
        },
        {
         "comp_cat": "fork",
         "comp_name": "Fox 38 Factory Grip2 170 Air"
        },
        {
         "comp_cat": "fork",
         "comp_name": "Fox 38 Float Perf 170 Air"
        },
        {
         "comp_cat": "fork",
         "comp_name": "Fox 38 Grip 2 170 Air"
        },
        {
         "comp_cat": "dropper",
         "comp_name": "Fox Transfer"
        },
        {
         "comp_cat": "dropper",
         "comp_name": "Fox Transfer Factory"
        },
        {
         "comp_cat": "dropper",
         "comp_name": "FusionX Manic"
        },
        {
         "comp_cat": "dropper",
         "comp_name": "Giant Contact Switch"
        },
        {
         "comp_cat": "dropper",
         "comp_name": "GT Dropkick"
        },
        {
         "comp_cat": "dropper",
         "comp_name": "Ibis"
        },
        {
         "comp_cat": "dropper",
         "comp_name": "KS Lev"
        },
        {
         "comp_cat": "dropper",
         "comp_name": "KS Lev Integra"
        },
        {
         "comp_cat": "dropper",
         "comp_name": "KS Lev SI"
        },
        {
         "comp_cat": "dropper",
         "comp_name": "KS Rage-i"
        },
        {
         "comp_cat": "fork",
         "comp_name": "Lefty Ocho 100 Air"
        },
        {
         "comp_cat": "fork",
         "comp_name": "Marzocchi Bomber Z2 130 Air"
        },
        {
         "comp_cat": "fork",
         "comp_name": "Marzocchi Bomber Z2 Rail 120 Air"
        },
        {
         "comp_cat": "dropper",
         "comp_name": "Niner RDO"
        },
        {
         "comp_cat": "dropper",
         "comp_name": "OC2"
        },
        {
         "comp_cat": "dropper",
         "comp_name": "OC2 Carbon"
        },
        {
         "comp_cat": "fork",
         "comp_name": "Ohlins RXF36 M.2 170 Air"
        },
        {
         "comp_cat": "dropper",
         "comp_name": "OneUp V2"
        },
        {
         "comp_cat": "dropper",
         "comp_name": "OnOff Pija"
        },
        {
         "comp_cat": "dropper",
         "comp_name": "Recon Dropper"
        },
        {
         "comp_cat": "dropper",
         "comp_name": "Recon Elite Dropper"
        },
        {
         "comp_cat": "dropper",
         "comp_name": "Ride Alpha"
        },
        {
         "comp_cat": "fork",
         "comp_name": "RockShox 35 Gold RL 140 Air"
        },
        {
         "comp_cat": "fork",
         "comp_name": "RockShox 35 Gold RL 150 Air"
        },
        {
         "comp_cat": "fork",
         "comp_name": "RockShox 35 Gold RL 160 Air"
        },
        {
         "comp_cat": "fork",
         "comp_name": "RockShox Lyric Sel 150 Air"
        },
        {
         "comp_cat": "fork",
         "comp_name": "RockShox Lyric Ult 150 Air"
        },
        {
         "comp_cat": "fork",
         "comp_name": "RockShox Lyric Ult RC2 160"
        },
        {
         "comp_cat": "fork",
         "comp_name": "RockShox Lyric Ult RC2 160 Air"
        },
        {
         "comp_cat": "fork",
         "comp_name": "RockShox Lyric Ult RC2 170"
        },
        {
         "comp_cat": "fork",
         "comp_name": "RockShox Pike Sel RC 140"
        },
        {
         "comp_cat": "fork",
         "comp_name": "RockShox Pike Sel+ 140 Air"
        },
        {
         "comp_cat": "fork",
         "comp_name": "RockShox Pike Ult 150 Air"
        },
        {
         "comp_cat": "fork",
         "comp_name": "RockShox Pike Ult RC 130 Air"
        },
        {
         "comp_cat": "fork",
         "comp_name": "RockShox Recon RL 120"
        },
        {
         "comp_cat": "fork",
         "comp_name": "RockShox Recon RL 120 Air"
        },
        {
         "comp_cat": "fork",
         "comp_name": "RockShox Recon RL 130"
        },
        {
         "comp_cat": "fork",
         "comp_name": "RockShox Recon RL 130 Air"
        },
        {
         "comp_cat": "dropper",
         "comp_name": "RockShox Reverb Steakth"
        },
        {
         "comp_cat": "fork",
         "comp_name": "RockShox YariRC 160"
        },
        {
         "comp_cat": "fork",
         "comp_name": "RockShox YarRC 180 Air"
        },
        {
         "comp_cat": "fork",
         "comp_name": "RockShox ZEB Ult 170 Air"
        },
        {
         "comp_cat": "dropper",
         "comp_name": "SDG Tellis"
        },
        {
         "comp_cat": "dropper",
         "comp_name": "TransX"
        },
        {
         "comp_cat": "dropper",
         "comp_name": "X-Fusion Manix"
        }
       ],
       "schema": {
        "fields": [
         {
          "name": "comp_name"
         },
         {
          "name": "comp_cat"
         }
        ]
       }
      },
      "text/html": [
       "<table><tr><th>comp_name</th><th>comp_cat</th></tr><tr><td>Bike Yoke Devine Stealth</td><td>dropper</td></tr><tr><td>Bike Yoke Revive</td><td>dropper</td></tr><tr><td>BrandX Ascend</td><td>dropper</td></tr><tr><td>Cannondale 2</td><td>dropper</td></tr><tr><td>Cannondale DownLow</td><td>dropper</td></tr><tr><td>Cube Dropper</td><td>dropper</td></tr><tr><td>DropWH18</td><td>dropper</td></tr><tr><td>DVO Onyx D1 160</td><td>fork</td></tr><tr><td>DVO Onyx D2 170 Air</td><td>fork</td></tr><tr><td>Fox 32 Factory 100</td><td>fork</td></tr><tr><td>Fox 32 Float Perf 100 Air</td><td>fork</td></tr><tr><td>Fox 34 Float Factory Grip 2 120</td><td>fork</td></tr><tr><td>Fox 34 Float Factory Grip 2 140</td><td>fork</td></tr><tr><td>Fox 34 Float Factory Grip 2 140 Air</td><td>fork</td></tr><tr><td>Fox 34 Float Perf 120</td><td>fork</td></tr><tr><td>Fox 34 Float Perf 140</td><td>fork</td></tr><tr><td>Fox 34 Float Perf 140 Air</td><td>fork</td></tr><tr><td>Fox 34 Perf 130</td><td>fork</td></tr><tr><td>Fox 34 Perf 130 Air</td><td>fork</td></tr><tr><td>Fox 34 Rhythm 120</td><td>fork</td></tr><tr><td>Fox 36 Factory 150 Air</td><td>fork</td></tr><tr><td>Fox 36 Factory 160 Air</td><td>fork</td></tr><tr><td>Fox 36 Float Factory 160 Air</td><td>fork</td></tr><tr><td>Fox 36 Float Factory 170 Air</td><td>fork</td></tr><tr><td>Fox 36 Float Perf 140 Air</td><td>fork</td></tr><tr><td>Fox 36 Float Perf 150</td><td>fork</td></tr><tr><td>Fox 36 Float Perf 160 Air</td><td>fork</td></tr><tr><td>Fox 36 Perf 160 Air</td><td>fork</td></tr><tr><td>Fox 36 Perf 1650 Air</td><td>fork</td></tr><tr><td>Fox 36 Perf 170 Air</td><td>fork</td></tr><tr><td>Fox 36 Perf Elite 140 Air</td><td>fork</td></tr><tr><td>Fox 36 Perf Elite 150 Air</td><td>fork</td></tr><tr><td>Fox 36 Perf Elite 160 Air</td><td>fork</td></tr><tr><td>Fox 36 Perf Elite 180 Air</td><td>fork</td></tr><tr><td>Fox 36 Rhythm 160 Air</td><td>fork</td></tr><tr><td>Fox 36 Rhythm Fit 3 150</td><td>fork</td></tr><tr><td>Fox 38 Factory Grip 2 180 Air</td><td>fork</td></tr><tr><td>Fox 38 Factory Grip2 170 Air</td><td>fork</td></tr><tr><td>Fox 38 Float Perf 170 Air</td><td>fork</td></tr><tr><td>Fox 38 Grip 2 170 Air</td><td>fork</td></tr><tr><td>Fox Transfer</td><td>dropper</td></tr><tr><td>Fox Transfer Factory</td><td>dropper</td></tr><tr><td>FusionX Manic</td><td>dropper</td></tr><tr><td>Giant Contact Switch</td><td>dropper</td></tr><tr><td>GT Dropkick</td><td>dropper</td></tr><tr><td>Ibis</td><td>dropper</td></tr><tr><td>KS Lev</td><td>dropper</td></tr><tr><td>KS Lev Integra</td><td>dropper</td></tr><tr><td>KS Lev SI</td><td>dropper</td></tr><tr><td>KS Rage-i</td><td>dropper</td></tr><tr><td>Lefty Ocho 100 Air</td><td>fork</td></tr><tr><td>Marzocchi Bomber Z2 130 Air</td><td>fork</td></tr><tr><td>Marzocchi Bomber Z2 Rail 120 Air</td><td>fork</td></tr><tr><td>Niner RDO</td><td>dropper</td></tr><tr><td>OC2</td><td>dropper</td></tr><tr><td>OC2 Carbon</td><td>dropper</td></tr><tr><td>Ohlins RXF36 M.2 170 Air</td><td>fork</td></tr><tr><td>OneUp V2</td><td>dropper</td></tr><tr><td>OnOff Pija</td><td>dropper</td></tr><tr><td>Recon Dropper</td><td>dropper</td></tr><tr><td>Recon Elite Dropper</td><td>dropper</td></tr><tr><td>Ride Alpha</td><td>dropper</td></tr><tr><td>RockShox 35 Gold RL 140 Air</td><td>fork</td></tr><tr><td>RockShox 35 Gold RL 150 Air</td><td>fork</td></tr><tr><td>RockShox 35 Gold RL 160 Air</td><td>fork</td></tr><tr><td>RockShox Lyric Sel 150 Air</td><td>fork</td></tr><tr><td>RockShox Lyric Ult 150 Air</td><td>fork</td></tr><tr><td>RockShox Lyric Ult RC2 160</td><td>fork</td></tr><tr><td>RockShox Lyric Ult RC2 160 Air</td><td>fork</td></tr><tr><td>RockShox Lyric Ult RC2 170</td><td>fork</td></tr><tr><td>RockShox Pike Sel RC 140</td><td>fork</td></tr><tr><td>RockShox Pike Sel+ 140 Air</td><td>fork</td></tr><tr><td>RockShox Pike Ult 150 Air</td><td>fork</td></tr><tr><td>RockShox Pike Ult RC 130 Air</td><td>fork</td></tr><tr><td>RockShox Recon RL 120</td><td>fork</td></tr><tr><td>RockShox Recon RL 120 Air</td><td>fork</td></tr><tr><td>RockShox Recon RL 130</td><td>fork</td></tr><tr><td>RockShox Recon RL 130 Air</td><td>fork</td></tr><tr><td>RockShox Reverb Steakth</td><td>dropper</td></tr><tr><td>RockShox YariRC 160</td><td>fork</td></tr><tr><td>RockShox YarRC 180 Air</td><td>fork</td></tr><tr><td>RockShox ZEB Ult 170 Air</td><td>fork</td></tr><tr><td>SDG Tellis</td><td>dropper</td></tr><tr><td>TransX</td><td>dropper</td></tr><tr><td>X-Fusion Manix</td><td>dropper</td></tr></table>"
      ]
     },
     "execution_count": 16,
     "metadata": {},
     "output_type": "execute_result"
    }
   ],
   "source": [
    "SELECT DISTINCT\n",
    "    components.comp_name,\n",
    "    Components.comp_cat\n",
    "FROM\n",
    "    dsci_504.components\n",
    "WHERE\n",
    "    Components.comp_cat IN ('fork', 'dropper')\n",
    "ORDER BY\n",
    "    components.comp_name ASC,\n",
    "    Components.comp_cat ASC;"
   ]
  },
  {
   "cell_type": "markdown",
   "metadata": {
    "azdata_cell_guid": "d5dd8cd6-257f-4758-b6e5-8dd5c413ec64",
    "extensions": {
     "azuredatastudio": {
      "views": []
     }
    }
   },
   "source": [
    "**Q: How many unique combination of fork and dropper post were there in the data?**\n",
    "\n",
    "```\n",
    "A: 85\n",
    "\n",
    "```"
   ]
  },
  {
   "cell_type": "markdown",
   "metadata": {
    "azdata_cell_guid": "d0d853e9-e61f-466e-becd-f3fc1c8f5a64",
    "extensions": {
     "azuredatastudio": {
      "views": []
     }
    }
   },
   "source": [
    "**Part 6: Write a new query to identify all builds that the fork in row 60 is included on in the data. Include the accompanying build data in your query. Use a conditional query and search for the component name in the query.**"
   ]
  },
  {
   "cell_type": "code",
   "execution_count": 21,
   "metadata": {
    "azdata_cell_guid": "0b72a542-ed2d-4987-93c2-c871b77b84df",
    "language": "sql"
   },
   "outputs": [
    {
     "data": {
      "text/html": [
       "(1 row(s) affected)"
      ]
     },
     "metadata": {},
     "output_type": "display_data"
    },
    {
     "data": {
      "text/html": [
       "Total execution time: 00:00:00"
      ]
     },
     "metadata": {},
     "output_type": "display_data"
    },
    {
     "data": {
      "application/vnd.dataresource+json": {
       "data": [
        {
         "build_id": "60",
         "build_name": "quick strike",
         "comp_brake": "63",
         "comp_cassette": "275",
         "comp_chain_ring": "275",
         "comp_crank": "275",
         "comp_derail": "275",
         "comp_dropper": "250",
         "comp_fork": "141",
         "comp_hbar": "40",
         "comp_name": "Sram Code RS",
         "comp_shifter": "275",
         "comp_shock": "193",
         "comp_wheels": "86"
        }
       ],
       "schema": {
        "fields": [
         {
          "name": "build_id"
         },
         {
          "name": "comp_hbar"
         },
         {
          "name": "comp_brake"
         },
         {
          "name": "comp_wheels"
         },
         {
          "name": "comp_fork"
         },
         {
          "name": "comp_shock"
         },
         {
          "name": "comp_shifter"
         },
         {
          "name": "comp_cassette"
         },
         {
          "name": "comp_derail"
         },
         {
          "name": "comp_dropper"
         },
         {
          "name": "comp_crank"
         },
         {
          "name": "comp_chain_ring"
         },
         {
          "name": "build_name"
         },
         {
          "name": "comp_name"
         }
        ]
       }
      },
      "text/html": [
       "<table><tr><th>build_id</th><th>comp_hbar</th><th>comp_brake</th><th>comp_wheels</th><th>comp_fork</th><th>comp_shock</th><th>comp_shifter</th><th>comp_cassette</th><th>comp_derail</th><th>comp_dropper</th><th>comp_crank</th><th>comp_chain_ring</th><th>build_name</th><th>comp_name</th></tr><tr><td>60</td><td>40</td><td>63</td><td>86</td><td>141</td><td>193</td><td>275</td><td>275</td><td>275</td><td>250</td><td>275</td><td>275</td><td>quick strike</td><td>Sram Code RS</td></tr></table>"
      ]
     },
     "execution_count": 21,
     "metadata": {},
     "output_type": "execute_result"
    }
   ],
   "source": [
    "SELECT builds.*,components.comp_name\n",
    "FROM dsci_504.builds,dsci_504.components\n",
    "where builds.build_id = '60'\n",
    "and components.comp_name = 'Sram Code RS';\n",
    "\n",
    "\n"
   ]
  },
  {
   "cell_type": "markdown",
   "metadata": {
    "azdata_cell_guid": "83a7ecae-602e-4746-91de-6513c06a72af",
    "extensions": {
     "azuredatastudio": {
      "views": []
     }
    }
   },
   "source": [
    "**Q: What happened in the query?**\n",
    "\n",
    "```\n",
    "A: the query gave me the build name and all information when the build id = 60 and component name = Sram Code RS\n",
    "\n",
    "```"
   ]
  },
  {
   "cell_type": "markdown",
   "metadata": {
    "azdata_cell_guid": "edc8be23-1945-4b96-9374-7e54b4c07f20"
   },
   "source": [
    "**Part 7: Use the simple join concept from Part 4 to complete the query by joining the componet and build tables. Return all Build columns in your query, but not the component data.**"
   ]
  },
  {
   "cell_type": "code",
   "execution_count": 24,
   "metadata": {
    "azdata_cell_guid": "4a68adc7-2376-47f6-8990-9efe620194a5",
    "language": "sql",
    "tags": []
   },
   "outputs": [
    {
     "data": {
      "text/html": [
       "(4 row(s) affected)"
      ]
     },
     "metadata": {},
     "output_type": "display_data"
    },
    {
     "data": {
      "text/html": [
       "Total execution time: 00:00:00.004"
      ]
     },
     "metadata": {},
     "output_type": "display_data"
    },
    {
     "data": {
      "application/vnd.dataresource+json": {
       "data": [
        {
         "build_id": "71",
         "build_name": "precision",
         "comp_brake": "67",
         "comp_cassette": "219",
         "comp_chain_ring": "273",
         "comp_crank": "273",
         "comp_derail": "273",
         "comp_dropper": "260",
         "comp_fork": "123",
         "comp_hbar": "43",
         "comp_shifter": "61",
         "comp_shock": "184",
         "comp_wheels": "91"
        },
        {
         "build_id": "42",
         "build_name": "electric",
         "comp_brake": "67",
         "comp_cassette": "219",
         "comp_chain_ring": "273",
         "comp_crank": "273",
         "comp_derail": "273",
         "comp_dropper": "260",
         "comp_fork": "123",
         "comp_hbar": "30",
         "comp_shifter": "61",
         "comp_shock": "184",
         "comp_wheels": "88"
        },
        {
         "build_id": "45",
         "build_name": "megalodon",
         "comp_brake": "67",
         "comp_cassette": "274",
         "comp_chain_ring": "273",
         "comp_crank": "273",
         "comp_derail": "229",
         "comp_dropper": "259",
         "comp_fork": "123",
         "comp_hbar": "26",
         "comp_shifter": "273",
         "comp_shock": "192",
         "comp_wheels": "72"
        },
        {
         "build_id": "57",
         "build_name": "strikeforce",
         "comp_brake": "56",
         "comp_cassette": "223",
         "comp_chain_ring": "279",
         "comp_crank": "269",
         "comp_derail": "279",
         "comp_dropper": "237",
         "comp_fork": "123",
         "comp_hbar": "6",
         "comp_shifter": "279",
         "comp_shock": "188",
         "comp_wheels": "85"
        }
       ],
       "schema": {
        "fields": [
         {
          "name": "build_id"
         },
         {
          "name": "comp_hbar"
         },
         {
          "name": "comp_brake"
         },
         {
          "name": "comp_wheels"
         },
         {
          "name": "comp_fork"
         },
         {
          "name": "comp_shock"
         },
         {
          "name": "comp_shifter"
         },
         {
          "name": "comp_cassette"
         },
         {
          "name": "comp_derail"
         },
         {
          "name": "comp_dropper"
         },
         {
          "name": "comp_crank"
         },
         {
          "name": "comp_chain_ring"
         },
         {
          "name": "build_name"
         }
        ]
       }
      },
      "text/html": [
       "<table><tr><th>build_id</th><th>comp_hbar</th><th>comp_brake</th><th>comp_wheels</th><th>comp_fork</th><th>comp_shock</th><th>comp_shifter</th><th>comp_cassette</th><th>comp_derail</th><th>comp_dropper</th><th>comp_crank</th><th>comp_chain_ring</th><th>build_name</th></tr><tr><td>71</td><td>43</td><td>67</td><td>91</td><td>123</td><td>184</td><td>61</td><td>219</td><td>273</td><td>260</td><td>273</td><td>273</td><td>precision</td></tr><tr><td>42</td><td>30</td><td>67</td><td>88</td><td>123</td><td>184</td><td>61</td><td>219</td><td>273</td><td>260</td><td>273</td><td>273</td><td>electric</td></tr><tr><td>45</td><td>26</td><td>67</td><td>72</td><td>123</td><td>192</td><td>273</td><td>274</td><td>229</td><td>259</td><td>273</td><td>273</td><td>megalodon</td></tr><tr><td>57</td><td>6</td><td>56</td><td>85</td><td>123</td><td>188</td><td>279</td><td>223</td><td>279</td><td>237</td><td>269</td><td>279</td><td>strikeforce</td></tr></table>"
      ]
     },
     "execution_count": 24,
     "metadata": {},
     "output_type": "execute_result"
    }
   ],
   "source": [
    "SELECT Builds.*\n",
    "FROM dsci_504.builds, dsci_504.components\n",
    "where builds.comp_fork = '123'\n",
    "and  Components.comp_id ='123'\n",
    "\n"
   ]
  },
  {
   "cell_type": "markdown",
   "metadata": {
    "azdata_cell_guid": "8a715a0a-7c1a-4c81-98dc-de3ff2ec034f",
    "language": "sql"
   },
   "source": [
    "**Q: How many builds is the 'Fox 38 Factory Grip2 170 Air' included in?**\n",
    "\n",
    "```\n",
    "A: four (4)\n",
    "\n",
    "```"
   ]
  },
  {
   "cell_type": "markdown",
   "metadata": {
    "azdata_cell_guid": "2efb9dee-8467-4e56-b2eb-d5708891bcb1",
    "extensions": {
     "azuredatastudio": {
      "views": []
     }
    }
   },
   "source": [
    "**Part 8: Write a query to find the build names of the four builds from Part 7 above.**"
   ]
  },
  {
   "cell_type": "code",
   "execution_count": 25,
   "metadata": {
    "azdata_cell_guid": "cc270b3b-cf64-4ec9-95ab-b1cec2121e15",
    "language": "sql"
   },
   "outputs": [
    {
     "data": {
      "text/html": [
       "(4 row(s) affected)"
      ]
     },
     "metadata": {},
     "output_type": "display_data"
    },
    {
     "data": {
      "text/html": [
       "Total execution time: 00:00:00.003"
      ]
     },
     "metadata": {},
     "output_type": "display_data"
    },
    {
     "data": {
      "application/vnd.dataresource+json": {
       "data": [
        {
         "build_name": "precision",
         "comp_name": "Fox 38 Factory Grip2 170 Air"
        },
        {
         "build_name": "electric",
         "comp_name": "Fox 38 Factory Grip2 170 Air"
        },
        {
         "build_name": "megalodon",
         "comp_name": "Fox 38 Factory Grip2 170 Air"
        },
        {
         "build_name": "strikeforce",
         "comp_name": "Fox 38 Factory Grip2 170 Air"
        }
       ],
       "schema": {
        "fields": [
         {
          "name": "build_name"
         },
         {
          "name": "comp_name"
         }
        ]
       }
      },
      "text/html": [
       "<table><tr><th>build_name</th><th>comp_name</th></tr><tr><td>precision</td><td>Fox 38 Factory Grip2 170 Air</td></tr><tr><td>electric</td><td>Fox 38 Factory Grip2 170 Air</td></tr><tr><td>megalodon</td><td>Fox 38 Factory Grip2 170 Air</td></tr><tr><td>strikeforce</td><td>Fox 38 Factory Grip2 170 Air</td></tr></table>"
      ]
     },
     "execution_count": 25,
     "metadata": {},
     "output_type": "execute_result"
    }
   ],
   "source": [
    "SELECT Builds.build_name,components.comp_name\n",
    "FROM dsci_504.builds, dsci_504.components\n",
    "where builds.comp_fork = '123'\n",
    "and  Components.comp_id ='123'\n"
   ]
  },
  {
   "cell_type": "markdown",
   "metadata": {
    "azdata_cell_guid": "cb2acb8d-b4a4-4248-97a3-c7d9f3f8ce69",
    "language": "sql"
   },
   "source": [
    "**Part 9: Identify the most expensive product of 2019. Since we haven't learned aggregate functions yet, please do not use the max() function. Use conditional statements to return a single row with the product with the highest order value**"
   ]
  },
  {
   "cell_type": "code",
   "execution_count": 70,
   "metadata": {
    "azdata_cell_guid": "ac0f25a8-6435-4121-a2b8-9a3f59e37f95",
    "language": "sql"
   },
   "outputs": [
    {
     "data": {
      "text/html": [
       "(1 row(s) affected)"
      ]
     },
     "metadata": {},
     "output_type": "display_data"
    },
    {
     "data": {
      "text/html": [
       "Total execution time: 00:00:00.004"
      ]
     },
     "metadata": {},
     "output_type": "display_data"
    },
    {
     "data": {
      "application/vnd.dataresource+json": {
       "data": [
        {
         "order_tot": "7813.34",
         "prod_name": "Rail",
         "prod_price": "7399"
        }
       ],
       "schema": {
        "fields": [
         {
          "name": "prod_name"
         },
         {
          "name": "prod_price"
         },
         {
          "name": "order_tot"
         }
        ]
       }
      },
      "text/html": [
       "<table><tr><th>prod_name</th><th>prod_price</th><th>order_tot</th></tr><tr><td>Rail</td><td>7399</td><td>7813.34</td></tr></table>"
      ]
     },
     "execution_count": 70,
     "metadata": {},
     "output_type": "execute_result"
    }
   ],
   "source": [
    "SELECT products.prod_name, products.prod_price, orders.order_tot\n",
    "FROM dsci_504.orders,dsci_504.products \n",
    "WHERE orders.prod_id = products.prod_id\n",
    "AND orders.ord_date >= '2019-01-01' AND orders.ord_date <= '2019-12-31'\n",
    "ORDER BY products.prod_price   DESC\n",
    "limit 1;"
   ]
  },
  {
   "cell_type": "markdown",
   "metadata": {
    "azdata_cell_guid": "f12588ec-451e-4209-b5ca-1160a283c71f",
    "language": "sql"
   },
   "source": [
    "**Q: What is the product name of the product and the price of the mountain bike with the highest prive ordered in 2019?**\n",
    "\n",
    "```\n",
    "A: rail = 7399\n",
    "\n",
    "```"
   ]
  },
  {
   "cell_type": "markdown",
   "metadata": {
    "azdata_cell_guid": "374bb956-e53d-498f-9135-0955bd04ec24",
    "language": "sql"
   },
   "source": [
    "**Part 10: Execute three additional queries on tables you haven't used yet. These can be at your discretion.**"
   ]
  },
  {
   "cell_type": "code",
   "execution_count": 72,
   "metadata": {
    "azdata_cell_guid": "88dc6018-7ab1-45ef-ba03-72e29ae74e78",
    "language": "sql"
   },
   "outputs": [
    {
     "data": {
      "text/html": [
       "(1326 row(s) affected)"
      ]
     },
     "metadata": {},
     "output_type": "display_data"
    },
    {
     "data": {
      "text/html": [
       "Total execution time: 00:00:00.018"
      ]
     },
     "metadata": {},
     "output_type": "display_data"
    },
    {
     "data": {
      "application/vnd.dataresource+json": {
       "data": [
        {
         "ord_date": "2017-03-28",
         "ord_id": "4825298",
         "order_tot": "5275"
        },
        {
         "ord_date": "2010-10-14",
         "ord_id": "7009183",
         "order_tot": "4503.2"
        },
        {
         "ord_date": "2001-05-12",
         "ord_id": "5186311",
         "order_tot": "8073.44"
        },
        {
         "ord_date": "2002-03-19",
         "ord_id": "4274782",
         "order_tot": "3572.2"
        },
        {
         "ord_date": "2012-11-10",
         "ord_id": "2579402",
         "order_tot": "4158.96"
        },
        {
         "ord_date": "2012-02-26",
         "ord_id": "6921547",
         "order_tot": "5006.53"
        },
        {
         "ord_date": "2008-07-03",
         "ord_id": "6707258",
         "order_tot": "5095.44"
        },
        {
         "ord_date": "2002-05-22",
         "ord_id": "2553970",
         "order_tot": "3640"
        },
        {
         "ord_date": "2007-10-08",
         "ord_id": "4160529",
         "order_tot": "3905.39"
        },
        {
         "ord_date": "2003-09-29",
         "ord_id": "5140837",
         "order_tot": "3999"
        },
        {
         "ord_date": "2013-09-05",
         "ord_id": "2715724",
         "order_tot": "5856.44"
        },
        {
         "ord_date": "2019-03-28",
         "ord_id": "4066723",
         "order_tot": "4399"
        },
        {
         "ord_date": "2013-11-27",
         "ord_id": "7151327",
         "order_tot": "6024.08"
        },
        {
         "ord_date": "2010-12-18",
         "ord_id": "1912588",
         "order_tot": "3999"
        },
        {
         "ord_date": "2019-02-25",
         "ord_id": "1449568",
         "order_tot": "4449.9"
        },
        {
         "ord_date": "2011-04-25",
         "ord_id": "5155394",
         "order_tot": "5856.44"
        },
        {
         "ord_date": "2003-06-19",
         "ord_id": "4595626",
         "order_tot": "2066.99"
        },
        {
         "ord_date": "2003-11-07",
         "ord_id": "1895617",
         "order_tot": "8320"
        },
        {
         "ord_date": "2004-10-20",
         "ord_id": "3417447",
         "order_tot": "4685.19"
        },
        {
         "ord_date": "2013-10-18",
         "ord_id": "4533036",
         "order_tot": "1951.75"
        },
        {
         "ord_date": "2010-04-12",
         "ord_id": "5440045",
         "order_tot": "5698.55"
        },
        {
         "ord_date": "2014-03-05",
         "ord_id": "3846551",
         "order_tot": "4640.95"
        },
        {
         "ord_date": "2000-12-26",
         "ord_id": "4679322",
         "order_tot": "4924.75"
        },
        {
         "ord_date": "2004-03-27",
         "ord_id": "5835237",
         "order_tot": "3948.38"
        },
        {
         "ord_date": "2016-01-13",
         "ord_id": "3333624",
         "order_tot": "6252.94"
        },
        {
         "ord_date": "2006-10-03",
         "ord_id": "4305349",
         "order_tot": "6794.27"
        },
        {
         "ord_date": "2008-01-09",
         "ord_id": "4469762",
         "order_tot": "4706.93"
        },
        {
         "ord_date": "2013-05-07",
         "ord_id": "6072149",
         "order_tot": "5736.5"
        },
        {
         "ord_date": "2015-04-10",
         "ord_id": "2016400",
         "order_tot": "4574.96"
        },
        {
         "ord_date": "2008-11-13",
         "ord_id": "3608797",
         "order_tot": "2086.49"
        },
        {
         "ord_date": "2010-09-08",
         "ord_id": "4044365",
         "order_tot": "4982"
        },
        {
         "ord_date": "2008-07-08",
         "ord_id": "2900047",
         "order_tot": "4200"
        },
        {
         "ord_date": "2001-06-08",
         "ord_id": "2588796",
         "order_tot": "4600.99"
        },
        {
         "ord_date": "2014-11-15",
         "ord_id": "3485081",
         "order_tot": "6058.1"
        },
        {
         "ord_date": "2018-06-10",
         "ord_id": "2358239",
         "order_tot": "3199"
        },
        {
         "ord_date": "2009-11-18",
         "ord_id": "7112703",
         "order_tot": "6146.94"
        },
        {
         "ord_date": "2001-03-24",
         "ord_id": "4185159",
         "order_tot": "3399"
        },
        {
         "ord_date": "2002-05-01",
         "ord_id": "1526982",
         "order_tot": "6810.68"
        },
        {
         "ord_date": "2002-03-19",
         "ord_id": "3357050",
         "order_tot": "3807"
        },
        {
         "ord_date": "2010-12-07",
         "ord_id": "6771690",
         "order_tot": "4609"
        },
        {
         "ord_date": "2014-12-16",
         "ord_id": "1911288",
         "order_tot": "4450.94"
        },
        {
         "ord_date": "2004-09-19",
         "ord_id": "1930308",
         "order_tot": "4158.96"
        },
        {
         "ord_date": "2015-04-23",
         "ord_id": "4218977",
         "order_tot": "3798"
        },
        {
         "ord_date": "2012-02-13",
         "ord_id": "5186226",
         "order_tot": "5752.31"
        },
        {
         "ord_date": "2008-11-16",
         "ord_id": "2208177",
         "order_tot": "4664"
        },
        {
         "ord_date": "2009-05-02",
         "ord_id": "5788991",
         "order_tot": "4880.2"
        },
        {
         "ord_date": "2000-10-12",
         "ord_id": "5105818",
         "order_tot": "3672.44"
        },
        {
         "ord_date": "2004-07-08",
         "ord_id": "4157138",
         "order_tot": "5302.96"
        },
        {
         "ord_date": "2013-06-08",
         "ord_id": "3031547",
         "order_tot": "3534.96"
        },
        {
         "ord_date": "2018-10-23",
         "ord_id": "6960628",
         "order_tot": "4797.81"
        },
        {
         "ord_date": "2002-01-25",
         "ord_id": "4054195",
         "order_tot": "5510.94"
        },
        {
         "ord_date": "2017-02-08",
         "ord_id": "3937927",
         "order_tot": "4523.95"
        },
        {
         "ord_date": "2015-08-24",
         "ord_id": "3307281",
         "order_tot": "4416.14"
        },
        {
         "ord_date": "2010-03-09",
         "ord_id": "6585838",
         "order_tot": "5406.96"
        },
        {
         "ord_date": "2004-01-04",
         "ord_id": "3220422",
         "order_tot": "4018.48"
        },
        {
         "ord_date": "2019-05-02",
         "ord_id": "6711968",
         "order_tot": "3999.99"
        },
        {
         "ord_date": "2009-06-06",
         "ord_id": "5065896",
         "order_tot": "4627.9"
        },
        {
         "ord_date": "2006-04-03",
         "ord_id": "3624763",
         "order_tot": "5654.21"
        },
        {
         "ord_date": "2008-03-02",
         "ord_id": "7187392",
         "order_tot": "2797.34"
        },
        {
         "ord_date": "2005-09-07",
         "ord_id": "3364980",
         "order_tot": "2330.94"
        },
        {
         "ord_date": "2006-05-20",
         "ord_id": "3178673",
         "order_tot": "4192.95"
        },
        {
         "ord_date": "2007-02-26",
         "ord_id": "4521021",
         "order_tot": "3430.93"
        },
        {
         "ord_date": "2017-07-21",
         "ord_id": "1539389",
         "order_tot": "3689.85"
        },
        {
         "ord_date": "2011-12-10",
         "ord_id": "6293114",
         "order_tot": "4519.88"
        },
        {
         "ord_date": "2017-06-24",
         "ord_id": "7197660",
         "order_tot": "1932.33"
        },
        {
         "ord_date": "2000-06-01",
         "ord_id": "5305378",
         "order_tot": "6395"
        },
        {
         "ord_date": "2004-09-19",
         "ord_id": "2356703",
         "order_tot": "4543.58"
        },
        {
         "ord_date": "2010-06-06",
         "ord_id": "5242761",
         "order_tot": "4524"
        },
        {
         "ord_date": "2017-08-20",
         "ord_id": "4080696",
         "order_tot": "2199"
        },
        {
         "ord_date": "2011-04-06",
         "ord_id": "3570845",
         "order_tot": "6220.5"
        },
        {
         "ord_date": "2007-06-14",
         "ord_id": "4389481",
         "order_tot": "2350.18"
        },
        {
         "ord_date": "2013-02-15",
         "ord_id": "6953949",
         "order_tot": "6693.46"
        },
        {
         "ord_date": "2014-11-21",
         "ord_id": "2748922",
         "order_tot": "3999"
        },
        {
         "ord_date": "2005-07-25",
         "ord_id": "1409838",
         "order_tot": "4176.96"
        },
        {
         "ord_date": "2007-12-27",
         "ord_id": "4882154",
         "order_tot": "4222.94"
        },
        {
         "ord_date": "2016-09-27",
         "ord_id": "1499647",
         "order_tot": "7399"
        },
        {
         "ord_date": "2007-07-20",
         "ord_id": "5775992",
         "order_tot": "5659.99"
        },
        {
         "ord_date": "2001-05-21",
         "ord_id": "4711571",
         "order_tot": "5591.03"
        },
        {
         "ord_date": "2011-09-16",
         "ord_id": "5687001",
         "order_tot": "5375.99"
        },
        {
         "ord_date": "2010-03-25",
         "ord_id": "6077808",
         "order_tot": "4218.95"
        },
        {
         "ord_date": "2009-01-22",
         "ord_id": "6241665",
         "order_tot": "3602.94"
        },
        {
         "ord_date": "2014-06-16",
         "ord_id": "6047294",
         "order_tot": "8200.49"
        },
        {
         "ord_date": "2001-10-26",
         "ord_id": "3236261",
         "order_tot": "4701.43"
        },
        {
         "ord_date": "2017-10-03",
         "ord_id": "5868564",
         "order_tot": "3399"
        },
        {
         "ord_date": "2006-04-05",
         "ord_id": "5255967",
         "order_tot": "5800"
        },
        {
         "ord_date": "2015-02-13",
         "ord_id": "6894826",
         "order_tot": "4273.93"
        },
        {
         "ord_date": "2011-01-11",
         "ord_id": "3560653",
         "order_tot": "4158.96"
        },
        {
         "ord_date": "2004-06-30",
         "ord_id": "3779453",
         "order_tot": "7757.85"
        },
        {
         "ord_date": "2012-05-20",
         "ord_id": "7311476",
         "order_tot": "3001.93"
        },
        {
         "ord_date": "2016-01-19",
         "ord_id": "2177932",
         "order_tot": "3745"
        },
        {
         "ord_date": "2006-02-22",
         "ord_id": "4205221",
         "order_tot": "3710"
        },
        {
         "ord_date": "2007-06-02",
         "ord_id": "3193964",
         "order_tot": "5609.99"
        },
        {
         "ord_date": "2015-04-07",
         "ord_id": "6464145",
         "order_tot": "7842.94"
        },
        {
         "ord_date": "2015-06-03",
         "ord_id": "5236088",
         "order_tot": "4158.96"
        },
        {
         "ord_date": "2004-05-08",
         "ord_id": "3681241",
         "order_tot": "4611"
        },
        {
         "ord_date": "2001-08-05",
         "ord_id": "1929235",
         "order_tot": "6842.65"
        },
        {
         "ord_date": "2019-07-11",
         "ord_id": "1694460",
         "order_tot": "5995.79"
        },
        {
         "ord_date": "2018-02-01",
         "ord_id": "6755650",
         "order_tot": "4761.39"
        },
        {
         "ord_date": "2008-08-23",
         "ord_id": "2629583",
         "order_tot": "5499"
        },
        {
         "ord_date": "2006-07-25",
         "ord_id": "1458147",
         "order_tot": "2341.94"
        },
        {
         "ord_date": "2000-07-26",
         "ord_id": "5651788",
         "order_tot": "4400"
        },
        {
         "ord_date": "2017-09-23",
         "ord_id": "6556364",
         "order_tot": "4557.99"
        },
        {
         "ord_date": "2005-02-11",
         "ord_id": "3272347",
         "order_tot": "5830"
        },
        {
         "ord_date": "2004-08-27",
         "ord_id": "2845076",
         "order_tot": "3390.94"
        },
        {
         "ord_date": "2014-08-31",
         "ord_id": "3293788",
         "order_tot": "3199"
        },
        {
         "ord_date": "2011-01-08",
         "ord_id": "2679922",
         "order_tot": "4409.79"
        },
        {
         "ord_date": "2003-03-26",
         "ord_id": "3872219",
         "order_tot": "4228.94"
        },
        {
         "ord_date": "2015-10-14",
         "ord_id": "5417203",
         "order_tot": "5967.51"
        },
        {
         "ord_date": "2006-10-07",
         "ord_id": "6976313",
         "order_tot": "4040.24"
        },
        {
         "ord_date": "2006-06-17",
         "ord_id": "3353836",
         "order_tot": "4260.13"
        },
        {
         "ord_date": "2012-08-11",
         "ord_id": "2140430",
         "order_tot": "3401.62"
        },
        {
         "ord_date": "2018-02-17",
         "ord_id": "1724480",
         "order_tot": "4350"
        },
        {
         "ord_date": "2016-11-04",
         "ord_id": "5385043",
         "order_tot": "3195.75"
        },
        {
         "ord_date": "2000-11-24",
         "ord_id": "7372789",
         "order_tot": "4274.2"
        },
        {
         "ord_date": "2017-08-20",
         "ord_id": "2542761",
         "order_tot": "3707.25"
        },
        {
         "ord_date": "2016-10-13",
         "ord_id": "2796751",
         "order_tot": "4300.32"
        },
        {
         "ord_date": "2003-09-14",
         "ord_id": "4706940",
         "order_tot": "6177"
        },
        {
         "ord_date": "2008-02-18",
         "ord_id": "7083064",
         "order_tot": "6134.96"
        },
        {
         "ord_date": "2018-06-18",
         "ord_id": "4366976",
         "order_tot": "5613.65"
        },
        {
         "ord_date": "2000-06-01",
         "ord_id": "2069011",
         "order_tot": "3673.99"
        },
        {
         "ord_date": "2009-03-29",
         "ord_id": "5968744",
         "order_tot": "4433.05"
        },
        {
         "ord_date": "2017-04-17",
         "ord_id": "3984108",
         "order_tot": "4934.8"
        },
        {
         "ord_date": "2017-08-14",
         "ord_id": "4460714",
         "order_tot": "5634.44"
        },
        {
         "ord_date": "2016-05-04",
         "ord_id": "4206987",
         "order_tot": "4238.94"
        },
        {
         "ord_date": "2015-04-27",
         "ord_id": "1332784",
         "order_tot": "4982.82"
        },
        {
         "ord_date": "2005-07-01",
         "ord_id": "7293392",
         "order_tot": "3189.54"
        },
        {
         "ord_date": "2011-06-30",
         "ord_id": "2678429",
         "order_tot": "2752.48"
        },
        {
         "ord_date": "2004-08-30",
         "ord_id": "3758613",
         "order_tot": "5946.59"
        },
        {
         "ord_date": "2015-12-11",
         "ord_id": "5780157",
         "order_tot": "4678.96"
        },
        {
         "ord_date": "2017-11-29",
         "ord_id": "6419973",
         "order_tot": "4685.19"
        },
        {
         "ord_date": "2010-07-13",
         "ord_id": "5046694",
         "order_tot": "3337.44"
        },
        {
         "ord_date": "2003-01-04",
         "ord_id": "1450563",
         "order_tot": "2639"
        },
        {
         "ord_date": "2007-03-14",
         "ord_id": "2357460",
         "order_tot": "1949.99"
        },
        {
         "ord_date": "2015-05-17",
         "ord_id": "4433548",
         "order_tot": "4797.81"
        },
        {
         "ord_date": "2004-07-22",
         "ord_id": "1229905",
         "order_tot": "8065.74"
        },
        {
         "ord_date": "2001-10-07",
         "ord_id": "4464272",
         "order_tot": "4258.94"
        },
        {
         "ord_date": "2014-05-21",
         "ord_id": "4606107",
         "order_tot": "4589.25"
        },
        {
         "ord_date": "2015-10-15",
         "ord_id": "2804411",
         "order_tot": "7842.94"
        },
        {
         "ord_date": "2009-10-18",
         "ord_id": "4332112",
         "order_tot": "4222.94"
        },
        {
         "ord_date": "2005-07-01",
         "ord_id": "1588017",
         "order_tot": "5484.95"
        },
        {
         "ord_date": "2014-12-18",
         "ord_id": "3670818",
         "order_tot": "1961"
        },
        {
         "ord_date": "2011-11-10",
         "ord_id": "3094136",
         "order_tot": "5575.93"
        },
        {
         "ord_date": "2014-03-25",
         "ord_id": "2640087",
         "order_tot": "6238.19"
        },
        {
         "ord_date": "2016-04-16",
         "ord_id": "4860434",
         "order_tot": "5600.41"
        },
        {
         "ord_date": "2016-09-30",
         "ord_id": "5207861",
         "order_tot": "3534.96"
        },
        {
         "ord_date": "2004-04-17",
         "ord_id": "2581918",
         "order_tot": "6590.49"
        },
        {
         "ord_date": "2019-12-11",
         "ord_id": "5635476",
         "order_tot": "3837.48"
        },
        {
         "ord_date": "2000-03-14",
         "ord_id": "5116839",
         "order_tot": "3944.65"
        },
        {
         "ord_date": "2005-10-18",
         "ord_id": "2993361",
         "order_tot": "2084.05"
        },
        {
         "ord_date": "2002-02-16",
         "ord_id": "6860822",
         "order_tot": "4260.13"
        },
        {
         "ord_date": "2013-11-02",
         "ord_id": "4988395",
         "order_tot": "6326.68"
        },
        {
         "ord_date": "2017-04-30",
         "ord_id": "1214458",
         "order_tot": "3989.92"
        },
        {
         "ord_date": "2000-06-15",
         "ord_id": "3452320",
         "order_tot": "3739"
        },
        {
         "ord_date": "2000-03-23",
         "ord_id": "2640611",
         "order_tot": "4470.96"
        },
        {
         "ord_date": "2009-01-08",
         "ord_id": "4302319",
         "order_tot": "2073.81"
        },
        {
         "ord_date": "2010-07-08",
         "ord_id": "6327203",
         "order_tot": "2305.65"
        },
        {
         "ord_date": "2019-12-16",
         "ord_id": "2435589",
         "order_tot": "3406.94"
        },
        {
         "ord_date": "2000-03-26",
         "ord_id": "7116337",
         "order_tot": "5199"
        },
        {
         "ord_date": "2007-02-22",
         "ord_id": "4782718",
         "order_tot": "5720"
        },
        {
         "ord_date": "2011-10-08",
         "ord_id": "5403544",
         "order_tot": "7824.44"
        },
        {
         "ord_date": "2011-12-13",
         "ord_id": "3807617",
         "order_tot": "4258.94"
        },
        {
         "ord_date": "2001-06-05",
         "ord_id": "7357453",
         "order_tot": "5163.28"
        },
        {
         "ord_date": "2019-11-08",
         "ord_id": "4688382",
         "order_tot": "3589.05"
        },
        {
         "ord_date": "2003-07-25",
         "ord_id": "2627387",
         "order_tot": "4471.1"
        },
        {
         "ord_date": "2017-01-23",
         "ord_id": "3085105",
         "order_tot": "6901.19"
        },
        {
         "ord_date": "2006-03-08",
         "ord_id": "2110096",
         "order_tot": "5613.65"
        },
        {
         "ord_date": "2015-06-23",
         "ord_id": "6720608",
         "order_tot": "4273.93"
        },
        {
         "ord_date": "2008-03-13",
         "ord_id": "1999344",
         "order_tot": "4085.14"
        },
        {
         "ord_date": "2000-07-16",
         "ord_id": "4488444",
         "order_tot": "7932.59"
        },
        {
         "ord_date": "2019-02-03",
         "ord_id": "3534753",
         "order_tot": "5000"
        },
        {
         "ord_date": "2005-11-16",
         "ord_id": "2167687",
         "order_tot": "1961"
        },
        {
         "ord_date": "2016-01-30",
         "ord_id": "7181850",
         "order_tot": "5484.95"
        },
        {
         "ord_date": "2006-08-13",
         "ord_id": "7194135",
         "order_tot": "3692.5"
        },
        {
         "ord_date": "2009-02-01",
         "ord_id": "5467093",
         "order_tot": "4627.9"
        },
        {
         "ord_date": "2015-05-30",
         "ord_id": "6984363",
         "order_tot": "1949.99"
        },
        {
         "ord_date": "2011-01-30",
         "ord_id": "1378848",
         "order_tot": "4983.14"
        },
        {
         "ord_date": "2018-03-05",
         "ord_id": "1527511",
         "order_tot": "4250"
        },
        {
         "ord_date": "2017-10-11",
         "ord_id": "6275886",
         "order_tot": "5451.15"
        },
        {
         "ord_date": "2009-04-06",
         "ord_id": "3670757",
         "order_tot": "4449.9"
        },
        {
         "ord_date": "2002-08-21",
         "ord_id": "2614702",
         "order_tot": "5200"
        },
        {
         "ord_date": "2008-09-26",
         "ord_id": "3143426",
         "order_tot": "6032"
        },
        {
         "ord_date": "2005-06-26",
         "ord_id": "2201303",
         "order_tot": "4260.13"
        },
        {
         "ord_date": "2007-10-12",
         "ord_id": "2501172",
         "order_tot": "6842.65"
        },
        {
         "ord_date": "2012-06-20",
         "ord_id": "3087147",
         "order_tot": "4694.64"
        },
        {
         "ord_date": "2015-09-01",
         "ord_id": "2867041",
         "order_tot": "3888.56"
        },
        {
         "ord_date": "2004-08-19",
         "ord_id": "2419990",
         "order_tot": "3064"
        },
        {
         "ord_date": "2018-05-02",
         "ord_id": "2160272",
         "order_tot": "4504.5"
        },
        {
         "ord_date": "2011-04-14",
         "ord_id": "3400275",
         "order_tot": "4982"
        },
        {
         "ord_date": "2014-03-18",
         "ord_id": "4646893",
         "order_tot": "4578.44"
        },
        {
         "ord_date": "2019-10-22",
         "ord_id": "5642393",
         "order_tot": "3707.25"
        },
        {
         "ord_date": "2012-02-17",
         "ord_id": "1908873",
         "order_tot": "6901.19"
        },
        {
         "ord_date": "2003-12-12",
         "ord_id": "5164194",
         "order_tot": "3433.72"
        },
        {
         "ord_date": "2010-09-25",
         "ord_id": "6439301",
         "order_tot": "4662.94"
        },
        {
         "ord_date": "2010-02-24",
         "ord_id": "1127847",
         "order_tot": "3753.75"
        },
        {
         "ord_date": "2011-04-27",
         "ord_id": "2587112",
         "order_tot": "3739"
        },
        {
         "ord_date": "2007-10-22",
         "ord_id": "5083172",
         "order_tot": "3799"
        },
        {
         "ord_date": "2010-11-04",
         "ord_id": "2443041",
         "order_tot": "6185.1"
        },
        {
         "ord_date": "2000-07-26",
         "ord_id": "2379845",
         "order_tot": "4238.94"
        },
        {
         "ord_date": "2014-02-14",
         "ord_id": "1355067",
         "order_tot": "2066.99"
        },
        {
         "ord_date": "2006-06-04",
         "ord_id": "4854266",
         "order_tot": "4238.94"
        },
        {
         "ord_date": "2010-12-29",
         "ord_id": "1287086",
         "order_tot": "8019.6"
        },
        {
         "ord_date": "2000-03-25",
         "ord_id": "2791283",
         "order_tot": "4557.99"
        },
        {
         "ord_date": "2004-04-12",
         "ord_id": "5802219",
         "order_tot": "6185.1"
        },
        {
         "ord_date": "2006-02-17",
         "ord_id": "3891025",
         "order_tot": "4662.94"
        },
        {
         "ord_date": "2003-01-06",
         "ord_id": "6101377",
         "order_tot": "5023.13"
        },
        {
         "ord_date": "2005-03-27",
         "ord_id": "4003357",
         "order_tot": "8000"
        },
        {
         "ord_date": "2007-11-25",
         "ord_id": "5541384",
         "order_tot": "4654.5"
        },
        {
         "ord_date": "2008-08-08",
         "ord_id": "1306701",
         "order_tot": "7399"
        },
        {
         "ord_date": "2002-11-03",
         "ord_id": "4921354",
         "order_tot": "3689.85"
        },
        {
         "ord_date": "2008-11-05",
         "ord_id": "3877491",
         "order_tot": "4060.18"
        },
        {
         "ord_date": "2006-07-05",
         "ord_id": "6529601",
         "order_tot": "4064.93"
        },
        {
         "ord_date": "2002-03-09",
         "ord_id": "1391031",
         "order_tot": "4611.74"
        },
        {
         "ord_date": "2001-04-01",
         "ord_id": "3525004",
         "order_tot": "5497.94"
        },
        {
         "ord_date": "2019-11-04",
         "ord_id": "7227128",
         "order_tot": "4017.44"
        },
        {
         "ord_date": "2008-04-09",
         "ord_id": "4751917",
         "order_tot": "5242.5"
        },
        {
         "ord_date": "2013-06-27",
         "ord_id": "1517524",
         "order_tot": "3189.54"
        },
        {
         "ord_date": "2005-04-16",
         "ord_id": "5036956",
         "order_tot": "4662.94"
        },
        {
         "ord_date": "2002-10-13",
         "ord_id": "6411985",
         "order_tot": "4218.95"
        },
        {
         "ord_date": "2007-02-19",
         "ord_id": "4905979",
         "order_tot": "3378.14"
        },
        {
         "ord_date": "2011-11-21",
         "ord_id": "1932274",
         "order_tot": "3999"
        },
        {
         "ord_date": "2003-10-15",
         "ord_id": "3896243",
         "order_tot": "4386.9"
        },
        {
         "ord_date": "2006-09-08",
         "ord_id": "4650540",
         "order_tot": "8480"
        },
        {
         "ord_date": "2009-12-21",
         "ord_id": "1430404",
         "order_tot": "4640.95"
        },
        {
         "ord_date": "2008-08-12",
         "ord_id": "4332918",
         "order_tot": "3545.16"
        },
        {
         "ord_date": "2010-08-07",
         "ord_id": "1895438",
         "order_tot": "4574.96"
        },
        {
         "ord_date": "2007-08-21",
         "ord_id": "1977607",
         "order_tot": "8123.49"
        },
        {
         "ord_date": "2016-12-15",
         "ord_id": "3956821",
         "order_tot": "3232.52"
        },
        {
         "ord_date": "2019-05-07",
         "ord_id": "2764320",
         "order_tot": "2286.96"
        },
        {
         "ord_date": "2015-04-01",
         "ord_id": "6965544",
         "order_tot": "3645.43"
        },
        {
         "ord_date": "2000-10-11",
         "ord_id": "6923896",
         "order_tot": "4808.31"
        },
        {
         "ord_date": "2013-05-10",
         "ord_id": "3263076",
         "order_tot": "1961"
        },
        {
         "ord_date": "2011-10-01",
         "ord_id": "6651903",
         "order_tot": "4159.99"
        },
        {
         "ord_date": "2008-03-09",
         "ord_id": "7285715",
         "order_tot": "3861"
        },
        {
         "ord_date": "2007-03-25",
         "ord_id": "3833965",
         "order_tot": "2980.94"
        },
        {
         "ord_date": "2002-11-24",
         "ord_id": "3373348",
         "order_tot": "4679"
        },
        {
         "ord_date": "2011-02-15",
         "ord_id": "3303969",
         "order_tot": "4366.96"
        },
        {
         "ord_date": "2002-09-26",
         "ord_id": "5838540",
         "order_tot": "3337.44"
        },
        {
         "ord_date": "2006-07-03",
         "ord_id": "5001562",
         "order_tot": "5575.93"
        },
        {
         "ord_date": "2010-04-15",
         "ord_id": "3860793",
         "order_tot": "4199"
        },
        {
         "ord_date": "2006-08-13",
         "ord_id": "6462098",
         "order_tot": "6132.44"
        },
        {
         "ord_date": "2015-10-04",
         "ord_id": "5054748",
         "order_tot": "3720.31"
        },
        {
         "ord_date": "2018-02-15",
         "ord_id": "3190336",
         "order_tot": "3337.44"
        },
        {
         "ord_date": "2005-10-29",
         "ord_id": "1306218",
         "order_tot": "4982.82"
        },
        {
         "ord_date": "2001-06-13",
         "ord_id": "6181221",
         "order_tot": "4557.99"
        },
        {
         "ord_date": "2008-03-09",
         "ord_id": "1633362",
         "order_tot": "4470.96"
        },
        {
         "ord_date": "2000-11-18",
         "ord_id": "3048140",
         "order_tot": "3189.54"
        },
        {
         "ord_date": "2009-02-06",
         "ord_id": "4560641",
         "order_tot": "8000.69"
        },
        {
         "ord_date": "2008-09-10",
         "ord_id": "6595312",
         "order_tot": "4866.16"
        },
        {
         "ord_date": "2012-03-18",
         "ord_id": "2230820",
         "order_tot": "4288.93"
        },
        {
         "ord_date": "2005-07-28",
         "ord_id": "2051970",
         "order_tot": "5631.35"
        },
        {
         "ord_date": "2004-08-06",
         "ord_id": "3032913",
         "order_tot": "4060.18"
        },
        {
         "ord_date": "2011-03-06",
         "ord_id": "2972077",
         "order_tot": "3876.06"
        },
        {
         "ord_date": "2004-07-28",
         "ord_id": "3501159",
         "order_tot": "5049.19"
        },
        {
         "ord_date": "2005-07-15",
         "ord_id": "2965867",
         "order_tot": "4158.96"
        },
        {
         "ord_date": "2000-08-26",
         "ord_id": "6944794",
         "order_tot": "5932.56"
        },
        {
         "ord_date": "2004-09-20",
         "ord_id": "2483119",
         "order_tot": "4526.25"
        },
        {
         "ord_date": "2008-03-02",
         "ord_id": "4139607",
         "order_tot": "4179.75"
        },
        {
         "ord_date": "2012-09-15",
         "ord_id": "4601068",
         "order_tot": "3429.7"
        },
        {
         "ord_date": "2012-10-30",
         "ord_id": "1434425",
         "order_tot": "5656.41"
        },
        {
         "ord_date": "2006-07-04",
         "ord_id": "2300238",
         "order_tot": "4982"
        },
        {
         "ord_date": "2019-10-06",
         "ord_id": "2653183",
         "order_tot": "4665.38"
        },
        {
         "ord_date": "2019-11-07",
         "ord_id": "4437977",
         "order_tot": "5834.39"
        },
        {
         "ord_date": "2005-11-28",
         "ord_id": "3948580",
         "order_tot": "4007.95"
        },
        {
         "ord_date": "2019-03-21",
         "ord_id": "4733459",
         "order_tot": "3189.54"
        },
        {
         "ord_date": "2004-03-02",
         "ord_id": "2834231",
         "order_tot": "5717.37"
        },
        {
         "ord_date": "2002-05-31",
         "ord_id": "3417805",
         "order_tot": "3401.62"
        },
        {
         "ord_date": "2003-03-25",
         "ord_id": "7278491",
         "order_tot": "4947.98"
        },
        {
         "ord_date": "2011-08-01",
         "ord_id": "3759584",
         "order_tot": "5510.94"
        },
        {
         "ord_date": "2019-02-10",
         "ord_id": "6680852",
         "order_tot": "7694.96"
        },
        {
         "ord_date": "2009-01-01",
         "ord_id": "7046967",
         "order_tot": "8388"
        },
        {
         "ord_date": "2011-01-07",
         "ord_id": "6107890",
         "order_tot": "5614.67"
        },
        {
         "ord_date": "2007-09-08",
         "ord_id": "4461691",
         "order_tot": "2293.56"
        },
        {
         "ord_date": "2010-04-26",
         "ord_id": "5803492",
         "order_tot": "6167.24"
        },
        {
         "ord_date": "2018-04-06",
         "ord_id": "4352288",
         "order_tot": "2084.05"
        },
        {
         "ord_date": "2010-12-10",
         "ord_id": "3485404",
         "order_tot": "4854.99"
        },
        {
         "ord_date": "2016-06-30",
         "ord_id": "4862907",
         "order_tot": "3666.25"
        },
        {
         "ord_date": "2013-04-20",
         "ord_id": "2657733",
         "order_tot": "6282.44"
        },
        {
         "ord_date": "2011-01-14",
         "ord_id": "6261926",
         "order_tot": "2293.56"
        },
        {
         "ord_date": "2012-07-04",
         "ord_id": "5866376",
         "order_tot": "4982.82"
        },
        {
         "ord_date": "2004-07-26",
         "ord_id": "4939400",
         "order_tot": "6801.08"
        },
        {
         "ord_date": "2005-07-05",
         "ord_id": "2309937",
         "order_tot": "4227.99"
        },
        {
         "ord_date": "2009-10-29",
         "ord_id": "1603961",
         "order_tot": "8161.99"
        },
        {
         "ord_date": "2006-12-04",
         "ord_id": "4028110",
         "order_tot": "5679.85"
        },
        {
         "ord_date": "2003-10-09",
         "ord_id": "6819487",
         "order_tot": "5636.73"
        },
        {
         "ord_date": "2012-11-04",
         "ord_id": "4808218",
         "order_tot": "4218.95"
        },
        {
         "ord_date": "2000-08-03",
         "ord_id": "4207539",
         "order_tot": "5671.67"
        },
        {
         "ord_date": "2003-06-04",
         "ord_id": "2528663",
         "order_tot": "4450.94"
        },
        {
         "ord_date": "2018-02-20",
         "ord_id": "3600012",
         "order_tot": "3820.95"
        },
        {
         "ord_date": "2000-06-01",
         "ord_id": "2308440",
         "order_tot": "7868.29"
        },
        {
         "ord_date": "2015-08-27",
         "ord_id": "1902014",
         "order_tot": "4941.03"
        },
        {
         "ord_date": "2005-01-14",
         "ord_id": "4619675",
         "order_tot": "3219.63"
        },
        {
         "ord_date": "2012-12-17",
         "ord_id": "6181270",
         "order_tot": "5882.07"
        },
        {
         "ord_date": "2002-03-29",
         "ord_id": "5042723",
         "order_tot": "8085.8"
        },
        {
         "ord_date": "2006-04-28",
         "ord_id": "5497244",
         "order_tot": "3894.43"
        },
        {
         "ord_date": "2007-10-27",
         "ord_id": "6779542",
         "order_tot": "4962.41"
        },
        {
         "ord_date": "2001-11-24",
         "ord_id": "5496005",
         "order_tot": "4723.48"
        },
        {
         "ord_date": "2006-01-20",
         "ord_id": "3737347",
         "order_tot": "5698.55"
        },
        {
         "ord_date": "2010-01-05",
         "ord_id": "2129769",
         "order_tot": "4692.46"
        },
        {
         "ord_date": "2016-05-19",
         "ord_id": "2341412",
         "order_tot": "4962.41"
        },
        {
         "ord_date": "2000-07-07",
         "ord_id": "7311961",
         "order_tot": "5199"
        },
        {
         "ord_date": "2012-04-20",
         "ord_id": "3365087",
         "order_tot": "3950.96"
        },
        {
         "ord_date": "2014-09-01",
         "ord_id": "5872629",
         "order_tot": "5375.99"
        },
        {
         "ord_date": "2012-04-07",
         "ord_id": "2831374",
         "order_tot": "7717.16"
        },
        {
         "ord_date": "2017-10-08",
         "ord_id": "1146371",
         "order_tot": "3894.43"
        },
        {
         "ord_date": "2008-10-09",
         "ord_id": "6120639",
         "order_tot": "7728.26"
        },
        {
         "ord_date": "2006-08-15",
         "ord_id": "7145124",
         "order_tot": "4278.93"
        },
        {
         "ord_date": "2000-09-08",
         "ord_id": "3674532",
         "order_tot": "5857.5"
        },
        {
         "ord_date": "2019-12-13",
         "ord_id": "6990345",
         "order_tot": "4716.89"
        },
        {
         "ord_date": "2010-03-20",
         "ord_id": "1544577",
         "order_tot": "4959.74"
        },
        {
         "ord_date": "2001-01-26",
         "ord_id": "3503462",
         "order_tot": "4075.62"
        },
        {
         "ord_date": "2012-04-19",
         "ord_id": "5676049",
         "order_tot": "4299"
        },
        {
         "ord_date": "2000-09-17",
         "ord_id": "2925649",
         "order_tot": "4732.47"
        },
        {
         "ord_date": "2003-12-01",
         "ord_id": "1205837",
         "order_tot": "4982.82"
        },
        {
         "ord_date": "2001-12-06",
         "ord_id": "3907399",
         "order_tot": "4982"
        },
        {
         "ord_date": "2007-11-15",
         "ord_id": "5454867",
         "order_tot": "4768.94"
        },
        {
         "ord_date": "2007-12-19",
         "ord_id": "2774446",
         "order_tot": "6842.65"
        },
        {
         "ord_date": "2011-08-04",
         "ord_id": "7265969",
         "order_tot": "6148"
        },
        {
         "ord_date": "2013-11-04",
         "ord_id": "4463150",
         "order_tot": "2341.94"
        },
        {
         "ord_date": "2017-10-14",
         "ord_id": "3577440",
         "order_tot": "1961"
        },
        {
         "ord_date": "2012-02-02",
         "ord_id": "3953637",
         "order_tot": "2744.56"
        },
        {
         "ord_date": "2000-05-11",
         "ord_id": "2784505",
         "order_tot": "2952.95"
        },
        {
         "ord_date": "2009-06-15",
         "ord_id": "3763197",
         "order_tot": "5591.03"
        },
        {
         "ord_date": "2009-10-03",
         "ord_id": "6271213",
         "order_tot": "6615.45"
        },
        {
         "ord_date": "2007-12-08",
         "ord_id": "5026658",
         "order_tot": "3983.25"
        },
        {
         "ord_date": "2015-11-01",
         "ord_id": "2358499",
         "order_tot": "4026.94"
        },
        {
         "ord_date": "2008-05-07",
         "ord_id": "4610926",
         "order_tot": "3560.45"
        },
        {
         "ord_date": "2010-09-14",
         "ord_id": "5884847",
         "order_tot": "4971.21"
        },
        {
         "ord_date": "2012-01-15",
         "ord_id": "5644109",
         "order_tot": "4238.94"
        },
        {
         "ord_date": "2008-10-29",
         "ord_id": "3992337",
         "order_tot": "5800"
        },
        {
         "ord_date": "2006-07-22",
         "ord_id": "3869814",
         "order_tot": "4752.76"
        },
        {
         "ord_date": "2003-11-20",
         "ord_id": "6960612",
         "order_tot": "4678.96"
        },
        {
         "ord_date": "2002-03-15",
         "ord_id": "4937479",
         "order_tot": "4050.86"
        },
        {
         "ord_date": "2010-03-20",
         "ord_id": "4065119",
         "order_tot": "4177.99"
        },
        {
         "ord_date": "2017-11-06",
         "ord_id": "6085831",
         "order_tot": "5918.54"
        },
        {
         "ord_date": "2002-01-28",
         "ord_id": "4414431",
         "order_tot": "5801.45"
        },
        {
         "ord_date": "2012-06-29",
         "ord_id": "3864544",
         "order_tot": "3558.72"
        },
        {
         "ord_date": "2016-08-23",
         "ord_id": "6285551",
         "order_tot": "4539.74"
        },
        {
         "ord_date": "2004-02-06",
         "ord_id": "6356161",
         "order_tot": "5122.01"
        },
        {
         "ord_date": "2003-11-17",
         "ord_id": "5373267",
         "order_tot": "4179.75"
        },
        {
         "ord_date": "2008-01-15",
         "ord_id": "1273816",
         "order_tot": "8258.24"
        },
        {
         "ord_date": "2015-04-21",
         "ord_id": "3828345",
         "order_tot": "4199"
        },
        {
         "ord_date": "2011-09-13",
         "ord_id": "5136786",
         "order_tot": "5006.53"
        },
        {
         "ord_date": "2015-04-21",
         "ord_id": "4661003",
         "order_tot": "4934.8"
        },
        {
         "ord_date": "2002-12-25",
         "ord_id": "2237269",
         "order_tot": "5830"
        },
        {
         "ord_date": "2017-01-20",
         "ord_id": "5448154",
         "order_tot": "4699.21"
        },
        {
         "ord_date": "2012-10-30",
         "ord_id": "2419545",
         "order_tot": "4526.25"
        },
        {
         "ord_date": "2006-05-09",
         "ord_id": "4531520",
         "order_tot": "3689.85"
        },
        {
         "ord_date": "2007-12-20",
         "ord_id": "2626295",
         "order_tot": "6134.96"
        },
        {
         "ord_date": "2005-05-06",
         "ord_id": "4214996",
         "order_tot": "6252.94"
        },
        {
         "ord_date": "2012-03-10",
         "ord_id": "3712934",
         "order_tot": "4274.2"
        },
        {
         "ord_date": "2009-09-28",
         "ord_id": "3524585",
         "order_tot": "5017.84"
        },
        {
         "ord_date": "2017-12-02",
         "ord_id": "1361232",
         "order_tot": "4487.68"
        },
        {
         "ord_date": "2000-10-05",
         "ord_id": "5851780",
         "order_tot": "3429.7"
        },
        {
         "ord_date": "2001-10-02",
         "ord_id": "5735100",
         "order_tot": "4026.94"
        },
        {
         "ord_date": "2011-03-14",
         "ord_id": "6837701",
         "order_tot": "4192.95"
        },
        {
         "ord_date": "2002-12-17",
         "ord_id": "1849078",
         "order_tot": "3500"
        },
        {
         "ord_date": "2002-10-01",
         "ord_id": "4130135",
         "order_tot": "7842.94"
        },
        {
         "ord_date": "2002-02-22",
         "ord_id": "2217655",
         "order_tot": "2091.36"
        },
        {
         "ord_date": "2010-07-18",
         "ord_id": "3762348",
         "order_tot": "4199"
        },
        {
         "ord_date": "2019-05-05",
         "ord_id": "6810609",
         "order_tot": "5049.19"
        },
        {
         "ord_date": "2000-09-16",
         "ord_id": "1588061",
         "order_tot": "8460"
        },
        {
         "ord_date": "2019-03-17",
         "ord_id": "3015647",
         "order_tot": "6175.94"
        },
        {
         "ord_date": "2019-03-07",
         "ord_id": "2747613",
         "order_tot": "3950.96"
        },
        {
         "ord_date": "2019-04-12",
         "ord_id": "4449585",
         "order_tot": "4982"
        },
        {
         "ord_date": "2007-02-03",
         "ord_id": "1301608",
         "order_tot": "6311.93"
        },
        {
         "ord_date": "2016-06-27",
         "ord_id": "1636048",
         "order_tot": "3999"
        },
        {
         "ord_date": "2014-07-01",
         "ord_id": "3801334",
         "order_tot": "4238.94"
        },
        {
         "ord_date": "2009-08-30",
         "ord_id": "1529016",
         "order_tot": "4238.94"
        },
        {
         "ord_date": "2006-09-09",
         "ord_id": "3280171",
         "order_tot": "4240.03"
        },
        {
         "ord_date": "2009-12-24",
         "ord_id": "7008254",
         "order_tot": "4192.95"
        },
        {
         "ord_date": "2019-11-02",
         "ord_id": "2382046",
         "order_tot": "4784.69"
        },
        {
         "ord_date": "2000-11-19",
         "ord_id": "2421693",
         "order_tot": "4487.68"
        },
        {
         "ord_date": "2009-12-28",
         "ord_id": "2592405",
         "order_tot": "7399"
        },
        {
         "ord_date": "2019-05-10",
         "ord_id": "2052365",
         "order_tot": "3950.96"
        },
        {
         "ord_date": "2016-12-15",
         "ord_id": "6223785",
         "order_tot": "5499"
        },
        {
         "ord_date": "2015-04-05",
         "ord_id": "3767062",
         "order_tot": "4158.96"
        },
        {
         "ord_date": "2016-03-30",
         "ord_id": "6466943",
         "order_tot": "6032"
        },
        {
         "ord_date": "2004-03-05",
         "ord_id": "4791962",
         "order_tot": "4238.94"
        },
        {
         "ord_date": "2005-11-22",
         "ord_id": "4839789",
         "order_tot": "2319.95"
        },
        {
         "ord_date": "2000-11-06",
         "ord_id": "2049307",
         "order_tot": "2910.96"
        },
        {
         "ord_date": "2017-06-14",
         "ord_id": "5231753",
         "order_tot": "4600.99"
        },
        {
         "ord_date": "2012-12-16",
         "ord_id": "5172140",
         "order_tot": "3799"
        },
        {
         "ord_date": "2018-07-10",
         "ord_id": "3335994",
         "order_tot": "5317.5"
        },
        {
         "ord_date": "2000-10-13",
         "ord_id": "1477139",
         "order_tot": "6778.7"
        },
        {
         "ord_date": "2017-07-18",
         "ord_id": "5334387",
         "order_tot": "5200"
        },
        {
         "ord_date": "2005-10-16",
         "ord_id": "1462501",
         "order_tot": "6858.64"
        },
        {
         "ord_date": "2005-02-26",
         "ord_id": "3459711",
         "order_tot": "4200"
        },
        {
         "ord_date": "2006-06-30",
         "ord_id": "5803731",
         "order_tot": "4250"
        },
        {
         "ord_date": "2014-03-27",
         "ord_id": "7146033",
         "order_tot": "5200"
        },
        {
         "ord_date": "2017-02-21",
         "ord_id": "2686012",
         "order_tot": "3820.95"
        },
        {
         "ord_date": "2013-12-06",
         "ord_id": "7187578",
         "order_tot": "1924"
        },
        {
         "ord_date": "2014-11-05",
         "ord_id": "4578037",
         "order_tot": "4831.83"
        },
        {
         "ord_date": "2009-07-27",
         "ord_id": "4160912",
         "order_tot": "4775.29"
        },
        {
         "ord_date": "2014-06-18",
         "ord_id": "2214446",
         "order_tot": "4752.76"
        },
        {
         "ord_date": "2016-03-23",
         "ord_id": "4176801",
         "order_tot": "3500"
        },
        {
         "ord_date": "2018-04-14",
         "ord_id": "3938629",
         "order_tot": "3199"
        },
        {
         "ord_date": "2010-03-13",
         "ord_id": "2055683",
         "order_tot": "4460.53"
        },
        {
         "ord_date": "2005-11-06",
         "ord_id": "4207952",
         "order_tot": "4981.41"
        },
        {
         "ord_date": "2001-05-12",
         "ord_id": "3672680",
         "order_tot": "4662.94"
        },
        {
         "ord_date": "2018-11-15",
         "ord_id": "4043884",
         "order_tot": "4026.94"
        },
        {
         "ord_date": "2001-07-27",
         "ord_id": "3446980",
         "order_tot": "6030.96"
        },
        {
         "ord_date": "2010-03-26",
         "ord_id": "4251083",
         "order_tot": "4526.25"
        },
        {
         "ord_date": "2011-01-18",
         "ord_id": "5039118",
         "order_tot": "4177.99"
        },
        {
         "ord_date": "2011-08-04",
         "ord_id": "3820920",
         "order_tot": "4547.24"
        },
        {
         "ord_date": "2015-12-14",
         "ord_id": "6427555",
         "order_tot": "5974.64"
        },
        {
         "ord_date": "2015-03-28",
         "ord_id": "2113844",
         "order_tot": "3632.68"
        },
        {
         "ord_date": "2018-12-29",
         "ord_id": "3291924",
         "order_tot": "3962.36"
        },
        {
         "ord_date": "2012-05-25",
         "ord_id": "5246931",
         "order_tot": "3385.58"
        },
        {
         "ord_date": "2015-09-26",
         "ord_id": "2240360",
         "order_tot": "4594.76"
        },
        {
         "ord_date": "2000-01-14",
         "ord_id": "6675691",
         "order_tot": "5745.59"
        },
        {
         "ord_date": "2014-03-12",
         "ord_id": "4488404",
         "order_tot": "2066.99"
        },
        {
         "ord_date": "2018-07-25",
         "ord_id": "6964456",
         "order_tot": "6698.76"
        },
        {
         "ord_date": "2001-08-05",
         "ord_id": "7225076",
         "order_tot": "4845.77"
        },
        {
         "ord_date": "2007-03-31",
         "ord_id": "4208799",
         "order_tot": "2073.81"
        },
        {
         "ord_date": "2019-05-16",
         "ord_id": "6158947",
         "order_tot": "4170.96"
        },
        {
         "ord_date": "2016-02-22",
         "ord_id": "6786039",
         "order_tot": "4499"
        },
        {
         "ord_date": "2001-09-30",
         "ord_id": "6058763",
         "order_tot": "4176.96"
        },
        {
         "ord_date": "2015-12-25",
         "ord_id": "4841909",
         "order_tot": "3402.14"
        },
        {
         "ord_date": "2006-11-18",
         "ord_id": "5514722",
         "order_tot": "6778.7"
        },
        {
         "ord_date": "2018-03-23",
         "ord_id": "5465904",
         "order_tot": "3999"
        },
        {
         "ord_date": "2000-03-30",
         "ord_id": "1384208",
         "order_tot": "3799"
        },
        {
         "ord_date": "2016-05-30",
         "ord_id": "3367016",
         "order_tot": "6282.44"
        },
        {
         "ord_date": "2011-09-13",
         "ord_id": "6675832",
         "order_tot": "3999"
        },
        {
         "ord_date": "2012-12-06",
         "ord_id": "6713954",
         "order_tot": "3963.34"
        },
        {
         "ord_date": "2004-07-07",
         "ord_id": "2774572",
         "order_tot": "1984.13"
        },
        {
         "ord_date": "2002-02-17",
         "ord_id": "4101862",
         "order_tot": "6842.65"
        },
        {
         "ord_date": "2019-10-15",
         "ord_id": "2369958",
         "order_tot": "5089.01"
        },
        {
         "ord_date": "2007-04-22",
         "ord_id": "3886172",
         "order_tot": "3326.96"
        },
        {
         "ord_date": "2014-12-15",
         "ord_id": "4889545",
         "order_tot": "3798"
        },
        {
         "ord_date": "2003-01-11",
         "ord_id": "2380664",
         "order_tot": "4260.13"
        },
        {
         "ord_date": "2001-07-14",
         "ord_id": "1798847",
         "order_tot": "4645.99"
        },
        {
         "ord_date": "2002-02-26",
         "ord_id": "4821192",
         "order_tot": "4449.9"
        },
        {
         "ord_date": "2014-03-01",
         "ord_id": "5670932",
         "order_tot": "4450.94"
        },
        {
         "ord_date": "2001-08-01",
         "ord_id": "6848326",
         "order_tot": "2066.99"
        },
        {
         "ord_date": "2015-09-22",
         "ord_id": "7207824",
         "order_tot": "5529.14"
        },
        {
         "ord_date": "2019-02-23",
         "ord_id": "2067116",
         "order_tot": "6223.45"
        },
        {
         "ord_date": "2005-08-08",
         "ord_id": "6246934",
         "order_tot": "3258.56"
        },
        {
         "ord_date": "2006-03-12",
         "ord_id": "5234755",
         "order_tot": "8114.17"
        },
        {
         "ord_date": "2014-07-06",
         "ord_id": "5472777",
         "order_tot": "3500"
        },
        {
         "ord_date": "2008-01-10",
         "ord_id": "4493102",
         "order_tot": "6739.19"
        },
        {
         "ord_date": "2012-05-23",
         "ord_id": "2687185",
         "order_tot": "4450.94"
        },
        {
         "ord_date": "2012-10-17",
         "ord_id": "5821289",
         "order_tot": "5040.75"
        },
        {
         "ord_date": "2009-05-14",
         "ord_id": "2808624",
         "order_tot": "3879.73"
        },
        {
         "ord_date": "2011-05-07",
         "ord_id": "4199323",
         "order_tot": "5801.45"
        },
        {
         "ord_date": "2009-08-07",
         "ord_id": "6412341",
         "order_tot": "7805.95"
        },
        {
         "ord_date": "2003-01-12",
         "ord_id": "3619484",
         "order_tot": "4854.99"
        },
        {
         "ord_date": "2006-09-24",
         "ord_id": "4833388",
         "order_tot": "3799"
        },
        {
         "ord_date": "2001-01-27",
         "ord_id": "3691747",
         "order_tot": "4239.99"
        },
        {
         "ord_date": "2016-01-21",
         "ord_id": "1172361",
         "order_tot": "5609.99"
        },
        {
         "ord_date": "2010-11-08",
         "ord_id": "6864350",
         "order_tot": "4050.86"
        },
        {
         "ord_date": "2003-06-13",
         "ord_id": "5357833",
         "order_tot": "4170.96"
        },
        {
         "ord_date": "2007-07-25",
         "ord_id": "1246462",
         "order_tot": "4213.91"
        },
        {
         "ord_date": "2018-11-08",
         "ord_id": "3442266",
         "order_tot": "6650.8"
        },
        {
         "ord_date": "2014-11-08",
         "ord_id": "1140771",
         "order_tot": "4026.94"
        },
        {
         "ord_date": "2017-11-21",
         "ord_id": "5234282",
         "order_tot": "4379.56"
        },
        {
         "ord_date": "2018-12-30",
         "ord_id": "6742978",
         "order_tot": "4252.94"
        },
        {
         "ord_date": "2003-06-18",
         "ord_id": "5709935",
         "order_tot": "4218.95"
        },
        {
         "ord_date": "2007-10-05",
         "ord_id": "4209890",
         "order_tot": "4757.27"
        },
        {
         "ord_date": "2012-01-03",
         "ord_id": "6185199",
         "order_tot": "6252.94"
        },
        {
         "ord_date": "2015-03-23",
         "ord_id": "5787053",
         "order_tot": "4745"
        },
        {
         "ord_date": "2019-06-18",
         "ord_id": "2548837",
         "order_tot": "4218.95"
        },
        {
         "ord_date": "2013-12-10",
         "ord_id": "2818640",
         "order_tot": "3979.45"
        },
        {
         "ord_date": "2016-08-09",
         "ord_id": "2927778",
         "order_tot": "3186.56"
        },
        {
         "ord_date": "2000-07-03",
         "ord_id": "3116201",
         "order_tot": "2784.15"
        },
        {
         "ord_date": "2013-03-09",
         "ord_id": "6273327",
         "order_tot": "7842.94"
        },
        {
         "ord_date": "2016-01-26",
         "ord_id": "2168680",
         "order_tot": "4772.52"
        },
        {
         "ord_date": "2018-04-20",
         "ord_id": "5396896",
         "order_tot": "4573.04"
        },
        {
         "ord_date": "2000-05-26",
         "ord_id": "5037972",
         "order_tot": "8085.8"
        },
        {
         "ord_date": "2011-07-07",
         "ord_id": "7246407",
         "order_tot": "4866.67"
        },
        {
         "ord_date": "2012-09-11",
         "ord_id": "6383954",
         "order_tot": "3799"
        },
        {
         "ord_date": "2002-12-14",
         "ord_id": "2722756",
         "order_tot": "3533.45"
        },
        {
         "ord_date": "2012-04-14",
         "ord_id": "3018905",
         "order_tot": "3876.06"
        },
        {
         "ord_date": "2009-10-07",
         "ord_id": "5130549",
         "order_tot": "3701.25"
        },
        {
         "ord_date": "2006-04-10",
         "ord_id": "3538702",
         "order_tot": "3820.95"
        },
        {
         "ord_date": "2012-03-27",
         "ord_id": "1769703",
         "order_tot": "4238.94"
        },
        {
         "ord_date": "2015-11-17",
         "ord_id": "3962687",
         "order_tot": "2797.34"
        },
        {
         "ord_date": "2016-10-06",
         "ord_id": "1229180",
         "order_tot": "4397.11"
        },
        {
         "ord_date": "2011-05-12",
         "ord_id": "3369203",
         "order_tot": "3710"
        },
        {
         "ord_date": "2004-12-09",
         "ord_id": "4731252",
         "order_tot": "6646.65"
        },
        {
         "ord_date": "2014-04-08",
         "ord_id": "6791181",
         "order_tot": "4429.95"
        },
        {
         "ord_date": "2009-02-01",
         "ord_id": "6939168",
         "order_tot": "3799"
        },
        {
         "ord_date": "2016-03-01",
         "ord_id": "6854408",
         "order_tot": "2744.56"
        },
        {
         "ord_date": "2016-06-04",
         "ord_id": "6482725",
         "order_tot": "6615.45"
        },
        {
         "ord_date": "2018-06-25",
         "ord_id": "6831036",
         "order_tot": "4000.73"
        },
        {
         "ord_date": "2004-02-02",
         "ord_id": "3279679",
         "order_tot": "4350"
        },
        {
         "ord_date": "2003-05-26",
         "ord_id": "5210057",
         "order_tot": "6175.94"
        },
        {
         "ord_date": "2007-05-13",
         "ord_id": "5633060",
         "order_tot": "5350"
        },
        {
         "ord_date": "2004-07-15",
         "ord_id": "6762728",
         "order_tot": "4750.99"
        },
        {
         "ord_date": "2018-08-16",
         "ord_id": "2097092",
         "order_tot": "4238.94"
        },
        {
         "ord_date": "2011-06-04",
         "ord_id": "4455545",
         "order_tot": "1850"
        },
        {
         "ord_date": "2015-06-24",
         "ord_id": "2940056",
         "order_tot": "4428.82"
        },
        {
         "ord_date": "2009-05-09",
         "ord_id": "3496272",
         "order_tot": "6753.12"
        },
        {
         "ord_date": "2001-05-13",
         "ord_id": "6747341",
         "order_tot": "5422.56"
        },
        {
         "ord_date": "2012-03-09",
         "ord_id": "4657920",
         "order_tot": "4288.93"
        },
        {
         "ord_date": "2010-01-11",
         "ord_id": "5090258",
         "order_tot": "1961"
        },
        {
         "ord_date": "2006-06-24",
         "ord_id": "1636234",
         "order_tot": "4535.45"
        },
        {
         "ord_date": "2008-03-15",
         "ord_id": "4719022",
         "order_tot": "4627.9"
        },
        {
         "ord_date": "2003-08-09",
         "ord_id": "6978783",
         "order_tot": "3138.39"
        },
        {
         "ord_date": "2014-05-24",
         "ord_id": "1273630",
         "order_tot": "4199"
        },
        {
         "ord_date": "2012-09-30",
         "ord_id": "4260411",
         "order_tot": "4571.99"
        },
        {
         "ord_date": "2014-11-25",
         "ord_id": "5892291",
         "order_tot": "6177"
        },
        {
         "ord_date": "2005-04-22",
         "ord_id": "4913089",
         "order_tot": "4450.94"
        },
        {
         "ord_date": "2010-10-17",
         "ord_id": "6015635",
         "order_tot": "4588.16"
        },
        {
         "ord_date": "2003-03-05",
         "ord_id": "4448635",
         "order_tot": "5677.05"
        },
        {
         "ord_date": "2005-01-13",
         "ord_id": "3613935",
         "order_tot": "4739.14"
        },
        {
         "ord_date": "2003-07-20",
         "ord_id": "4031996",
         "order_tot": "3585.95"
        },
        {
         "ord_date": "2017-01-19",
         "ord_id": "2028513",
         "order_tot": "8238.99"
        },
        {
         "ord_date": "2011-12-06",
         "ord_id": "6100898",
         "order_tot": "3799"
        },
        {
         "ord_date": "2013-11-07",
         "ord_id": "1733812",
         "order_tot": "4158.96"
        },
        {
         "ord_date": "2016-08-03",
         "ord_id": "7148611",
         "order_tot": "3274.65"
        },
        {
         "ord_date": "2005-10-17",
         "ord_id": "6093441",
         "order_tot": "4496.47"
        },
        {
         "ord_date": "2014-05-05",
         "ord_id": "1388801",
         "order_tot": "4218.95"
        },
        {
         "ord_date": "2017-12-19",
         "ord_id": "7098092",
         "order_tot": "4746.45"
        },
        {
         "ord_date": "2015-05-23",
         "ord_id": "1924372",
         "order_tot": "7813.34"
        },
        {
         "ord_date": "2011-04-20",
         "ord_id": "3572324",
         "order_tot": "3247.84"
        },
        {
         "ord_date": "2019-04-09",
         "ord_id": "5029172",
         "order_tot": "4000.73"
        },
        {
         "ord_date": "2018-08-25",
         "ord_id": "1470833",
         "order_tot": "4524"
        },
        {
         "ord_date": "2016-07-21",
         "ord_id": "4519696",
         "order_tot": "3605.9"
        },
        {
         "ord_date": "2014-06-19",
         "ord_id": "4723877",
         "order_tot": "4641.25"
        },
        {
         "ord_date": "2005-07-20",
         "ord_id": "4999938",
         "order_tot": "8123.49"
        },
        {
         "ord_date": "2014-07-17",
         "ord_id": "4479302",
         "order_tot": "3186.56"
        },
        {
         "ord_date": "2008-01-05",
         "ord_id": "6133719",
         "order_tot": "4238.94"
        },
        {
         "ord_date": "2016-09-29",
         "ord_id": "4708157",
         "order_tot": "3174.5"
        },
        {
         "ord_date": "2018-02-05",
         "ord_id": "4923506",
         "order_tot": "2639"
        },
        {
         "ord_date": "2004-06-15",
         "ord_id": "1650104",
         "order_tot": "5575.93"
        },
        {
         "ord_date": "2006-04-24",
         "ord_id": "3523424",
         "order_tot": "3619.94"
        },
        {
         "ord_date": "2008-07-06",
         "ord_id": "1882503",
         "order_tot": "3589.05"
        },
        {
         "ord_date": "2009-10-20",
         "ord_id": "5542779",
         "order_tot": "3894.43"
        },
        {
         "ord_date": "2010-12-10",
         "ord_id": "1304561",
         "order_tot": "5300"
        },
        {
         "ord_date": "2010-09-26",
         "ord_id": "6027084",
         "order_tot": "5685.11"
        },
        {
         "ord_date": "2004-12-04",
         "ord_id": "2187369",
         "order_tot": "4288.93"
        },
        {
         "ord_date": "2002-04-14",
         "ord_id": "6525498",
         "order_tot": "4679.4"
        },
        {
         "ord_date": "2008-03-06",
         "ord_id": "4406804",
         "order_tot": "4481.67"
        },
        {
         "ord_date": "2009-06-10",
         "ord_id": "1500489",
         "order_tot": "3594.44"
        },
        {
         "ord_date": "2008-09-29",
         "ord_id": "3480213",
         "order_tot": "4983.14"
        },
        {
         "ord_date": "2018-01-03",
         "ord_id": "5923911",
         "order_tot": "4227.99"
        },
        {
         "ord_date": "2000-04-13",
         "ord_id": "5335195",
         "order_tot": "4158.96"
        },
        {
         "ord_date": "2013-02-03",
         "ord_id": "1551985",
         "order_tot": "4466.7"
        },
        {
         "ord_date": "2009-09-18",
         "ord_id": "3573660",
         "order_tot": "4278.93"
        },
        {
         "ord_date": "2013-07-06",
         "ord_id": "3150922",
         "order_tot": "3940.35"
        },
        {
         "ord_date": "2010-06-22",
         "ord_id": "7093023",
         "order_tot": "3944.65"
        },
        {
         "ord_date": "2000-09-29",
         "ord_id": "5305023",
         "order_tot": "8073.44"
        },
        {
         "ord_date": "2006-03-14",
         "ord_id": "2690647",
         "order_tot": "5005.98"
        },
        {
         "ord_date": "2017-09-02",
         "ord_id": "4651685",
         "order_tot": "4350"
        },
        {
         "ord_date": "2013-03-14",
         "ord_id": "3570977",
         "order_tot": "4665.72"
        },
        {
         "ord_date": "2006-06-12",
         "ord_id": "3245169",
         "order_tot": "4481.67"
        },
        {
         "ord_date": "2005-01-31",
         "ord_id": "6981719",
         "order_tot": "5717.37"
        },
        {
         "ord_date": "2001-01-07",
         "ord_id": "5528311",
         "order_tot": "3816"
        },
        {
         "ord_date": "2014-06-01",
         "ord_id": "3891860",
         "order_tot": "4579.49"
        },
        {
         "ord_date": "2010-09-30",
         "ord_id": "5326545",
         "order_tot": "6778.7"
        },
        {
         "ord_date": "2019-02-24",
         "ord_id": "1455039",
         "order_tot": "4238.94"
        },
        {
         "ord_date": "2017-07-16",
         "ord_id": "3573989",
         "order_tot": "4473"
        },
        {
         "ord_date": "2018-10-07",
         "ord_id": "4807740",
         "order_tot": "4654.5"
        },
        {
         "ord_date": "2011-06-16",
         "ord_id": "6014487",
         "order_tot": "4209.89"
        },
        {
         "ord_date": "2012-03-25",
         "ord_id": "5408819",
         "order_tot": "4866.16"
        },
        {
         "ord_date": "2014-05-15",
         "ord_id": "7308341",
         "order_tot": "4037.53"
        },
        {
         "ord_date": "2014-08-02",
         "ord_id": "3563869",
         "order_tot": "4399"
        },
        {
         "ord_date": "2017-06-13",
         "ord_id": "5833318",
         "order_tot": "3274.65"
        },
        {
         "ord_date": "2000-02-28",
         "ord_id": "6327006",
         "order_tot": "6032"
        },
        {
         "ord_date": "2011-03-09",
         "ord_id": "3972753",
         "order_tot": "6395"
        },
        {
         "ord_date": "2018-01-25",
         "ord_id": "4811446",
         "order_tot": "4662.94"
        },
        {
         "ord_date": "2005-06-11",
         "ord_id": "6931090",
         "order_tot": "5271.99"
        },
        {
         "ord_date": "2013-01-12",
         "ord_id": "5705414",
         "order_tot": "8000.69"
        },
        {
         "ord_date": "2004-09-12",
         "ord_id": "1636222",
         "order_tot": "7694.96"
        },
        {
         "ord_date": "2012-06-30",
         "ord_id": "6607676",
         "order_tot": "5567.22"
        },
        {
         "ord_date": "2012-04-01",
         "ord_id": "2325289",
         "order_tot": "5828.94"
        },
        {
         "ord_date": "2012-08-22",
         "ord_id": "2555784",
         "order_tot": "5591.03"
        },
        {
         "ord_date": "2018-02-26",
         "ord_id": "7150691",
         "order_tot": "6146.94"
        },
        {
         "ord_date": "2015-04-02",
         "ord_id": "3335955",
         "order_tot": "4064.93"
        },
        {
         "ord_date": "2002-11-10",
         "ord_id": "3427894",
         "order_tot": "4547.24"
        },
        {
         "ord_date": "2005-11-25",
         "ord_id": "1383811",
         "order_tot": "6273.59"
        },
        {
         "ord_date": "2018-02-08",
         "ord_id": "2528103",
         "order_tot": "4959.74"
        },
        {
         "ord_date": "2007-01-22",
         "ord_id": "7066356",
         "order_tot": "6238.19"
        },
        {
         "ord_date": "2008-04-11",
         "ord_id": "5696072",
         "order_tot": "4310.37"
        },
        {
         "ord_date": "2005-03-01",
         "ord_id": "6373767",
         "order_tot": "4982"
        },
        {
         "ord_date": "2006-03-24",
         "ord_id": "4983918",
         "order_tot": "3816"
        },
        {
         "ord_date": "2007-11-30",
         "ord_id": "4706253",
         "order_tot": "5760.2"
        },
        {
         "ord_date": "2017-11-04",
         "ord_id": "3271044",
         "order_tot": "3247.84"
        },
        {
         "ord_date": "2018-07-12",
         "ord_id": "2018377",
         "order_tot": "5885"
        },
        {
         "ord_date": "2015-12-28",
         "ord_id": "1534284",
         "order_tot": "4368"
        },
        {
         "ord_date": "2011-12-23",
         "ord_id": "3349886",
         "order_tot": "4295.3"
        },
        {
         "ord_date": "2004-07-19",
         "ord_id": "6321524",
         "order_tot": "4594.56"
        },
        {
         "ord_date": "2004-11-04",
         "ord_id": "2147989",
         "order_tot": "3999"
        },
        {
         "ord_date": "2001-11-03",
         "ord_id": "2484916",
         "order_tot": "4026.94"
        },
        {
         "ord_date": "2005-05-19",
         "ord_id": "7186061",
         "order_tot": "4503.43"
        },
        {
         "ord_date": "2013-01-05",
         "ord_id": "3784718",
         "order_tot": "4238.94"
        },
        {
         "ord_date": "2000-05-04",
         "ord_id": "4368387",
         "order_tot": "3417.67"
        },
        {
         "ord_date": "2009-04-12",
         "ord_id": "6604948",
         "order_tot": "3999"
        },
        {
         "ord_date": "2001-07-05",
         "ord_id": "4443535",
         "order_tot": "3710"
        },
        {
         "ord_date": "2015-10-27",
         "ord_id": "5962075",
         "order_tot": "3337.44"
        },
        {
         "ord_date": "2009-09-13",
         "ord_id": "6909016",
         "order_tot": "5126.87"
        },
        {
         "ord_date": "2015-04-03",
         "ord_id": "7011789",
         "order_tot": "4708"
        },
        {
         "ord_date": "2011-12-05",
         "ord_id": "2986704",
         "order_tot": "6024.08"
        },
        {
         "ord_date": "2005-09-03",
         "ord_id": "6702155",
         "order_tot": "2057.24"
        },
        {
         "ord_date": "2007-06-23",
         "ord_id": "7320941",
         "order_tot": "4600.13"
        },
        {
         "ord_date": "2005-01-05",
         "ord_id": "1137722",
         "order_tot": "3500"
        },
        {
         "ord_date": "2017-04-15",
         "ord_id": "3740745",
         "order_tot": "8448"
        },
        {
         "ord_date": "2017-07-25",
         "ord_id": "4901577",
         "order_tot": "3999"
        },
        {
         "ord_date": "2012-04-21",
         "ord_id": "6243253",
         "order_tot": "2296.86"
        },
        {
         "ord_date": "2004-11-20",
         "ord_id": "6949188",
         "order_tot": "5206.98"
        },
        {
         "ord_date": "2005-03-15",
         "ord_id": "3635772",
         "order_tot": "3572.2"
        },
        {
         "ord_date": "2007-10-13",
         "ord_id": "4393068",
         "order_tot": "4368"
        },
        {
         "ord_date": "2016-08-27",
         "ord_id": "5883659",
         "order_tot": "6282.44"
        },
        {
         "ord_date": "2009-01-04",
         "ord_id": "1265070",
         "order_tot": "4679"
        },
        {
         "ord_date": "2016-10-13",
         "ord_id": "5117452",
         "order_tot": "3999"
        },
        {
         "ord_date": "2000-07-23",
         "ord_id": "3192604",
         "order_tot": "4250"
        },
        {
         "ord_date": "2008-04-24",
         "ord_id": "4949218",
         "order_tot": "4278.93"
        },
        {
         "ord_date": "2019-07-27",
         "ord_id": "6467378",
         "order_tot": "5325"
        },
        {
         "ord_date": "2013-03-20",
         "ord_id": "2568174",
         "order_tot": "4158.96"
        },
        {
         "ord_date": "2012-04-28",
         "ord_id": "6704361",
         "order_tot": "3326.96"
        },
        {
         "ord_date": "2012-11-06",
         "ord_id": "5640940",
         "order_tot": "2341.94"
        },
        {
         "ord_date": "2011-12-08",
         "ord_id": "4215702",
         "order_tot": "4543.58"
        },
        {
         "ord_date": "2010-12-21",
         "ord_id": "2446168",
         "order_tot": "5636.73"
        },
        {
         "ord_date": "2001-09-08",
         "ord_id": "3881193",
         "order_tot": "5995.79"
        },
        {
         "ord_date": "2000-06-04",
         "ord_id": "3058523",
         "order_tot": "4574.96"
        },
        {
         "ord_date": "2011-06-02",
         "ord_id": "1678526",
         "order_tot": "5300"
        },
        {
         "ord_date": "2016-09-25",
         "ord_id": "6397713",
         "order_tot": "4022.29"
        },
        {
         "ord_date": "2005-05-07",
         "ord_id": "2303576",
         "order_tot": "6746.73"
        },
        {
         "ord_date": "2018-11-05",
         "ord_id": "3048373",
         "order_tot": "2341.94"
        },
        {
         "ord_date": "2016-10-20",
         "ord_id": "6386246",
         "order_tot": "5040.75"
        },
        {
         "ord_date": "2000-08-16",
         "ord_id": "1516790",
         "order_tot": "5271.99"
        },
        {
         "ord_date": "2007-03-22",
         "ord_id": "2163435",
         "order_tot": "5718.96"
        },
        {
         "ord_date": "2013-02-19",
         "ord_id": "4894372",
         "order_tot": "6669.99"
        },
        {
         "ord_date": "2005-02-08",
         "ord_id": "3068948",
         "order_tot": "5499"
        },
        {
         "ord_date": "2002-07-23",
         "ord_id": "2101595",
         "order_tot": "3999"
        },
        {
         "ord_date": "2006-10-25",
         "ord_id": "2099756",
         "order_tot": "4449.9"
        },
        {
         "ord_date": "2000-08-23",
         "ord_id": "5769323",
         "order_tot": "4400"
        },
        {
         "ord_date": "2006-04-04",
         "ord_id": "2351281",
         "order_tot": "4600.99"
        },
        {
         "ord_date": "2003-03-20",
         "ord_id": "1511190",
         "order_tot": "6615.45"
        },
        {
         "ord_date": "2002-05-08",
         "ord_id": "6741014",
         "order_tot": "5406.96"
        },
        {
         "ord_date": "2000-10-02",
         "ord_id": "5365859",
         "order_tot": "7916.93"
        },
        {
         "ord_date": "2011-02-09",
         "ord_id": "6997790",
         "order_tot": "6252.94"
        },
        {
         "ord_date": "2018-08-05",
         "ord_id": "3612146",
         "order_tot": "5083.56"
        },
        {
         "ord_date": "2000-04-04",
         "ord_id": "6208308",
         "order_tot": "3382.94"
        },
        {
         "ord_date": "2011-03-29",
         "ord_id": "2098429",
         "order_tot": "5828.94"
        },
        {
         "ord_date": "2001-03-30",
         "ord_id": "4056716",
         "order_tot": "4483.86"
        },
        {
         "ord_date": "2011-05-01",
         "ord_id": "3946505",
         "order_tot": "4556.63"
        },
        {
         "ord_date": "2010-01-04",
         "ord_id": "7299277",
         "order_tot": "3989.92"
        },
        {
         "ord_date": "2011-10-28",
         "ord_id": "6310841",
         "order_tot": "8123.49"
        },
        {
         "ord_date": "2000-08-12",
         "ord_id": "4173891",
         "order_tot": "7399"
        },
        {
         "ord_date": "2006-08-25",
         "ord_id": "1705258",
         "order_tot": "4664"
        },
        {
         "ord_date": "2015-09-07",
         "ord_id": "3219860",
         "order_tot": "6778.7"
        },
        {
         "ord_date": "2011-01-17",
         "ord_id": "2453663",
         "order_tot": "4947.98"
        },
        {
         "ord_date": "2006-09-16",
         "ord_id": "6876791",
         "order_tot": "4450.94"
        },
        {
         "ord_date": "2009-01-29",
         "ord_id": "3233574",
         "order_tot": "6753.12"
        },
        {
         "ord_date": "2003-01-12",
         "ord_id": "6278913",
         "order_tot": "6132.44"
        },
        {
         "ord_date": "2004-11-30",
         "ord_id": "3341636",
         "order_tot": "7916.93"
        },
        {
         "ord_date": "2012-08-29",
         "ord_id": "4033621",
         "order_tot": "4399"
        },
        {
         "ord_date": "2002-11-11",
         "ord_id": "4976747",
         "order_tot": "5029"
        },
        {
         "ord_date": "2010-06-26",
         "ord_id": "1781248",
         "order_tot": "3963.34"
        },
        {
         "ord_date": "2002-10-26",
         "ord_id": "3220490",
         "order_tot": "3999"
        },
        {
         "ord_date": "2007-01-06",
         "ord_id": "6907264",
         "order_tot": "4222.94"
        },
        {
         "ord_date": "2019-12-18",
         "ord_id": "2869777",
         "order_tot": "3820.95"
        },
        {
         "ord_date": "2014-11-12",
         "ord_id": "1210336",
         "order_tot": "3940.35"
        },
        {
         "ord_date": "2018-12-19",
         "ord_id": "1317867",
         "order_tot": "4258.94"
        },
        {
         "ord_date": "2007-02-17",
         "ord_id": "4055987",
         "order_tot": "3999"
        },
        {
         "ord_date": "2019-10-04",
         "ord_id": "2238326",
         "order_tot": "2959.94"
        },
        {
         "ord_date": "2002-06-30",
         "ord_id": "5949297",
         "order_tot": "4576"
        },
        {
         "ord_date": "2016-02-19",
         "ord_id": "1550955",
         "order_tot": "4238.94"
        },
        {
         "ord_date": "2017-08-11",
         "ord_id": "3634237",
         "order_tot": "4239.99"
        },
        {
         "ord_date": "2005-11-01",
         "ord_id": "3021006",
         "order_tot": "3894.43"
        },
        {
         "ord_date": "2007-12-15",
         "ord_id": "1949830",
         "order_tot": "5588.31"
        },
        {
         "ord_date": "2001-06-10",
         "ord_id": "4611661",
         "order_tot": "2352.93"
        },
        {
         "ord_date": "2008-05-27",
         "ord_id": "3992432",
         "order_tot": "4492.93"
        },
        {
         "ord_date": "2018-11-20",
         "ord_id": "4304070",
         "order_tot": "4238.94"
        },
        {
         "ord_date": "2018-08-18",
         "ord_id": "3823807",
         "order_tot": "3589.05"
        },
        {
         "ord_date": "2004-09-18",
         "ord_id": "5992300",
         "order_tot": "8114.17"
        },
        {
         "ord_date": "2001-04-02",
         "ord_id": "1727573",
         "order_tot": "3907.29"
        },
        {
         "ord_date": "2016-05-28",
         "ord_id": "5155967",
         "order_tot": "4250.08"
        },
        {
         "ord_date": "2012-09-18",
         "ord_id": "3357626",
         "order_tot": "5946.59"
        },
        {
         "ord_date": "2002-12-23",
         "ord_id": "2940115",
         "order_tot": "6933.59"
        },
        {
         "ord_date": "2011-09-07",
         "ord_id": "3279357",
         "order_tot": "4258.94"
        },
        {
         "ord_date": "2018-12-03",
         "ord_id": "3967475",
         "order_tot": "5677.05"
        },
        {
         "ord_date": "2002-09-12",
         "ord_id": "6011122",
         "order_tot": "5899"
        },
        {
         "ord_date": "2014-05-05",
         "ord_id": "3982943",
         "order_tot": "5882.67"
        },
        {
         "ord_date": "2017-05-19",
         "ord_id": "6715387",
         "order_tot": "4784.69"
        },
        {
         "ord_date": "2007-06-04",
         "ord_id": "1282368",
         "order_tot": "5404.94"
        },
        {
         "ord_date": "2019-04-22",
         "ord_id": "3351731",
         "order_tot": "2966.94"
        },
        {
         "ord_date": "2018-05-03",
         "ord_id": "3648251",
         "order_tot": "6223.45"
        },
        {
         "ord_date": "2001-06-07",
         "ord_id": "6353751",
         "order_tot": "1977.19"
        },
        {
         "ord_date": "2004-06-26",
         "ord_id": "6554008",
         "order_tot": "6016.71"
        },
        {
         "ord_date": "2018-03-21",
         "ord_id": "6017416",
         "order_tot": "3500"
        },
        {
         "ord_date": "2009-09-10",
         "ord_id": "6311142",
         "order_tot": "5406.96"
        },
        {
         "ord_date": "2001-12-26",
         "ord_id": "1794189",
         "order_tot": "3480.99"
        },
        {
         "ord_date": "2010-11-02",
         "ord_id": "6098256",
         "order_tot": "4662.94"
        },
        {
         "ord_date": "2011-07-15",
         "ord_id": "3589784",
         "order_tot": "5718.96"
        },
        {
         "ord_date": "2005-05-22",
         "ord_id": "2680115",
         "order_tot": "5482.87"
        },
        {
         "ord_date": "2009-01-24",
         "ord_id": "5885102",
         "order_tot": "4238.94"
        },
        {
         "ord_date": "2000-08-28",
         "ord_id": "2965252",
         "order_tot": "4222.94"
        },
        {
         "ord_date": "2004-01-18",
         "ord_id": "7239906",
         "order_tot": "4640.95"
        },
        {
         "ord_date": "2008-09-17",
         "ord_id": "1886415",
         "order_tot": "5636.73"
        },
        {
         "ord_date": "2001-11-30",
         "ord_id": "2547240",
         "order_tot": "8123.49"
        },
        {
         "ord_date": "2015-07-10",
         "ord_id": "5118679",
         "order_tot": "3645.43"
        },
        {
         "ord_date": "2006-10-28",
         "ord_id": "5576076",
         "order_tot": "4179.75"
        },
        {
         "ord_date": "2014-03-12",
         "ord_id": "4348370",
         "order_tot": "3999"
        },
        {
         "ord_date": "2001-10-27",
         "ord_id": "1240460",
         "order_tot": "4503.43"
        },
        {
         "ord_date": "2019-09-02",
         "ord_id": "7337778",
         "order_tot": "6161.51"
        },
        {
         "ord_date": "2003-09-30",
         "ord_id": "3712495",
         "order_tot": "3834"
        },
        {
         "ord_date": "2006-06-10",
         "ord_id": "2807590",
         "order_tot": "4429.95"
        },
        {
         "ord_date": "2005-04-10",
         "ord_id": "3095416",
         "order_tot": "5005.5"
        },
        {
         "ord_date": "2007-02-27",
         "ord_id": "7154590",
         "order_tot": "6146.94"
        },
        {
         "ord_date": "2018-01-04",
         "ord_id": "6158906",
         "order_tot": "4260.13"
        },
        {
         "ord_date": "2002-10-11",
         "ord_id": "3799340",
         "order_tot": "5575.13"
        },
        {
         "ord_date": "2002-08-15",
         "ord_id": "4595252",
         "order_tot": "3681.15"
        },
        {
         "ord_date": "2004-04-23",
         "ord_id": "2837022",
         "order_tot": "6134.96"
        },
        {
         "ord_date": "2016-09-17",
         "ord_id": "5946900",
         "order_tot": "4273.93"
        },
        {
         "ord_date": "2008-02-13",
         "ord_id": "1698973",
         "order_tot": "4574.96"
        },
        {
         "ord_date": "2016-09-28",
         "ord_id": "3065701",
         "order_tot": "4645.34"
        },
        {
         "ord_date": "2008-03-27",
         "ord_id": "7225383",
         "order_tot": "4449.9"
        },
        {
         "ord_date": "2011-12-23",
         "ord_id": "6574015",
         "order_tot": "3001.93"
        },
        {
         "ord_date": "2007-02-17",
         "ord_id": "3327943",
         "order_tot": "5671.67"
        },
        {
         "ord_date": "2006-10-10",
         "ord_id": "4606617",
         "order_tot": "3999"
        },
        {
         "ord_date": "2019-01-21",
         "ord_id": "6487845",
         "order_tot": "5024.17"
        },
        {
         "ord_date": "2018-07-08",
         "ord_id": "2159284",
         "order_tot": "6901.19"
        },
        {
         "ord_date": "2014-09-15",
         "ord_id": "6220593",
         "order_tot": "6693.46"
        },
        {
         "ord_date": "2001-04-10",
         "ord_id": "1928298",
         "order_tot": "4702.5"
        },
        {
         "ord_date": "2005-05-22",
         "ord_id": "3048118",
         "order_tot": "4654.5"
        },
        {
         "ord_date": "2010-01-09",
         "ord_id": "2485512",
         "order_tot": "4188.95"
        },
        {
         "ord_date": "2000-06-05",
         "ord_id": "5674322",
         "order_tot": "5882.67"
        },
        {
         "ord_date": "2002-01-25",
         "ord_id": "5364611",
         "order_tot": "5404.94"
        },
        {
         "ord_date": "2019-04-22",
         "ord_id": "4470329",
         "order_tot": "6238.19"
        },
        {
         "ord_date": "2003-05-12",
         "ord_id": "5534307",
         "order_tot": "8000"
        },
        {
         "ord_date": "2013-10-27",
         "ord_id": "1164924",
         "order_tot": "3963.34"
        },
        {
         "ord_date": "2010-12-06",
         "ord_id": "4665839",
         "order_tot": "4199"
        },
        {
         "ord_date": "2017-10-13",
         "ord_id": "4347140",
         "order_tot": "5899"
        },
        {
         "ord_date": "2018-10-30",
         "ord_id": "2758805",
         "order_tot": "5698.55"
        },
        {
         "ord_date": "2012-03-02",
         "ord_id": "2927703",
         "order_tot": "3744"
        },
        {
         "ord_date": "2017-12-29",
         "ord_id": "6325624",
         "order_tot": "4768.94"
        },
        {
         "ord_date": "2008-07-15",
         "ord_id": "1555689",
         "order_tot": "3630.67"
        },
        {
         "ord_date": "2010-05-21",
         "ord_id": "7207331",
         "order_tot": "6223.45"
        },
        {
         "ord_date": "2015-04-06",
         "ord_id": "4830064",
         "order_tot": "2296.86"
        },
        {
         "ord_date": "2011-11-19",
         "ord_id": "4169254",
         "order_tot": "3189.54"
        },
        {
         "ord_date": "2005-07-25",
         "ord_id": "1979839",
         "order_tot": "3480.99"
        },
        {
         "ord_date": "2017-06-01",
         "ord_id": "1548862",
         "order_tot": "4502.81"
        },
        {
         "ord_date": "2012-11-25",
         "ord_id": "7370016",
         "order_tot": "4700"
        },
        {
         "ord_date": "2000-04-14",
         "ord_id": "3316785",
         "order_tot": "5036.05"
        },
        {
         "ord_date": "2003-06-29",
         "ord_id": "1217439",
         "order_tot": "4238.94"
        },
        {
         "ord_date": "2003-04-14",
         "ord_id": "7055600",
         "order_tot": "3399"
        },
        {
         "ord_date": "2005-01-31",
         "ord_id": "2246174",
         "order_tot": "5834.39"
        },
        {
         "ord_date": "2005-03-26",
         "ord_id": "6412306",
         "order_tot": "3999"
        },
        {
         "ord_date": "2000-01-23",
         "ord_id": "5553460",
         "order_tot": "2199"
        },
        {
         "ord_date": "2014-02-22",
         "ord_id": "2087487",
         "order_tot": "1924"
        },
        {
         "ord_date": "2017-01-01",
         "ord_id": "4127340",
         "order_tot": "3370"
        },
        {
         "ord_date": "2002-09-18",
         "ord_id": "5253750",
         "order_tot": "4199"
        },
        {
         "ord_date": "2005-11-06",
         "ord_id": "1751585",
         "order_tot": "4647.92"
        },
        {
         "ord_date": "2005-12-25",
         "ord_id": "4770294",
         "order_tot": "4820.34"
        },
        {
         "ord_date": "2018-06-16",
         "ord_id": "4298585",
         "order_tot": "5857.5"
        },
        {
         "ord_date": "2010-08-02",
         "ord_id": "5867277",
         "order_tot": "3258.56"
        },
        {
         "ord_date": "2001-10-21",
         "ord_id": "2567235",
         "order_tot": "5876.46"
        },
        {
         "ord_date": "2003-03-16",
         "ord_id": "2114241",
         "order_tot": "4611"
        },
        {
         "ord_date": "2019-04-19",
         "ord_id": "4191351",
         "order_tot": "4959.74"
        },
        {
         "ord_date": "2002-12-04",
         "ord_id": "7334338",
         "order_tot": "3370"
        },
        {
         "ord_date": "2005-02-06",
         "ord_id": "4616040",
         "order_tot": "5698.55"
        },
        {
         "ord_date": "2006-12-09",
         "ord_id": "2980870",
         "order_tot": "4258.94"
        },
        {
         "ord_date": "2002-08-21",
         "ord_id": "1756854",
         "order_tot": "3861"
        },
        {
         "ord_date": "2007-11-09",
         "ord_id": "3383217",
         "order_tot": "4022.29"
        },
        {
         "ord_date": "2016-12-29",
         "ord_id": "2436367",
         "order_tot": "4752.76"
        },
        {
         "ord_date": "2018-04-07",
         "ord_id": "2404993",
         "order_tot": "3640"
        },
        {
         "ord_date": "2002-05-04",
         "ord_id": "6161857",
         "order_tot": "4941.03"
        },
        {
         "ord_date": "2016-05-03",
         "ord_id": "3101387",
         "order_tot": "4927.95"
        },
        {
         "ord_date": "2010-10-15",
         "ord_id": "2399548",
         "order_tot": "4941.02"
        },
        {
         "ord_date": "2003-12-17",
         "ord_id": "2029617",
         "order_tot": "6148"
        },
        {
         "ord_date": "2001-04-22",
         "ord_id": "5056034",
         "order_tot": "2042.61"
        },
        {
         "ord_date": "2010-10-30",
         "ord_id": "1564158",
         "order_tot": "5848.19"
        },
        {
         "ord_date": "2001-03-12",
         "ord_id": "5807444",
         "order_tot": "5006.53"
        },
        {
         "ord_date": "2008-04-29",
         "ord_id": "3543924",
         "order_tot": "5587.17"
        },
        {
         "ord_date": "2009-04-15",
         "ord_id": "6717027",
         "order_tot": "6615.45"
        },
        {
         "ord_date": "2015-03-07",
         "ord_id": "1190048",
         "order_tot": "5882.07"
        },
        {
         "ord_date": "2013-07-25",
         "ord_id": "4210104",
         "order_tot": "6240.99"
        },
        {
         "ord_date": "2011-11-01",
         "ord_id": "5374467",
         "order_tot": "6081.3"
        },
        {
         "ord_date": "2008-09-02",
         "ord_id": "2563108",
         "order_tot": "3600"
        },
        {
         "ord_date": "2007-03-25",
         "ord_id": "1386825",
         "order_tot": "3894.43"
        },
        {
         "ord_date": "2000-05-06",
         "ord_id": "6534804",
         "order_tot": "5899"
        },
        {
         "ord_date": "2005-11-23",
         "ord_id": "3883613",
         "order_tot": "4504.24"
        },
        {
         "ord_date": "2017-04-30",
         "ord_id": "2595311",
         "order_tot": "3999"
        },
        {
         "ord_date": "2007-11-25",
         "ord_id": "3850505",
         "order_tot": "4449.9"
        },
        {
         "ord_date": "2014-06-16",
         "ord_id": "3586571",
         "order_tot": "3154.94"
        },
        {
         "ord_date": "2007-04-15",
         "ord_id": "4517199",
         "order_tot": "5698.55"
        },
        {
         "ord_date": "2013-04-16",
         "ord_id": "3923128",
         "order_tot": "4278.93"
        },
        {
         "ord_date": "2005-09-04",
         "ord_id": "3039943",
         "order_tot": "5587.17"
        },
        {
         "ord_date": "2007-04-08",
         "ord_id": "3298120",
         "order_tot": "2286.96"
        },
        {
         "ord_date": "2009-01-05",
         "ord_id": "4443017",
         "order_tot": "3129.36"
        },
        {
         "ord_date": "2014-10-11",
         "ord_id": "1982899",
         "order_tot": "3996.06"
        },
        {
         "ord_date": "2015-06-11",
         "ord_id": "6526153",
         "order_tot": "4499"
        },
        {
         "ord_date": "2011-12-31",
         "ord_id": "4771988",
         "order_tot": "4279.99"
        },
        {
         "ord_date": "2000-05-22",
         "ord_id": "4584291",
         "order_tot": "5588.31"
        },
        {
         "ord_date": "2000-11-12",
         "ord_id": "4328842",
         "order_tot": "4432.75"
        },
        {
         "ord_date": "2005-12-23",
         "ord_id": "7188213",
         "order_tot": "3620.23"
        },
        {
         "ord_date": "2003-12-30",
         "ord_id": "2525567",
         "order_tot": "3433.72"
        },
        {
         "ord_date": "2010-10-04",
         "ord_id": "3024469",
         "order_tot": "5828.94"
        },
        {
         "ord_date": "2001-11-04",
         "ord_id": "1186708",
         "order_tot": "8000"
        },
        {
         "ord_date": "2017-06-25",
         "ord_id": "4312665",
         "order_tot": "4717.93"
        },
        {
         "ord_date": "2017-02-09",
         "ord_id": "2965446",
         "order_tot": "1850"
        },
        {
         "ord_date": "2004-05-31",
         "ord_id": "4138673",
         "order_tot": "4901.25"
        },
        {
         "ord_date": "2001-10-25",
         "ord_id": "3425702",
         "order_tot": "7902.33"
        },
        {
         "ord_date": "2017-02-17",
         "ord_id": "5557402",
         "order_tot": "6590.49"
        },
        {
         "ord_date": "2000-03-28",
         "ord_id": "5725406",
         "order_tot": "5406.96"
        },
        {
         "ord_date": "2008-05-01",
         "ord_id": "1956172",
         "order_tot": "4963.2"
        },
        {
         "ord_date": "2008-07-27",
         "ord_id": "6199197",
         "order_tot": "8000"
        },
        {
         "ord_date": "2014-07-01",
         "ord_id": "4536857",
         "order_tot": "6052.36"
        },
        {
         "ord_date": "2006-10-18",
         "ord_id": "5393037",
         "order_tot": "4547.5"
        },
        {
         "ord_date": "2010-09-25",
         "ord_id": "1621956",
         "order_tot": "3418.93"
        },
        {
         "ord_date": "2001-06-07",
         "ord_id": "3854004",
         "order_tot": "5851.22"
        },
        {
         "ord_date": "2008-03-10",
         "ord_id": "5774217",
         "order_tot": "4213.91"
        },
        {
         "ord_date": "2002-09-23",
         "ord_id": "5512801",
         "order_tot": "3174.5"
        },
        {
         "ord_date": "2015-01-31",
         "ord_id": "4793436",
         "order_tot": "4366.96"
        },
        {
         "ord_date": "2010-06-14",
         "ord_id": "4191939",
         "order_tot": "4924.75"
        },
        {
         "ord_date": "2002-01-21",
         "ord_id": "6761385",
         "order_tot": "5567.22"
        },
        {
         "ord_date": "2010-10-13",
         "ord_id": "5708272",
         "order_tot": "4483.75"
        },
        {
         "ord_date": "2019-07-24",
         "ord_id": "6399921",
         "order_tot": "3999"
        },
        {
         "ord_date": "2000-01-07",
         "ord_id": "4862701",
         "order_tot": "4797.81"
        },
        {
         "ord_date": "2005-09-24",
         "ord_id": "4682893",
         "order_tot": "6223.45"
        },
        {
         "ord_date": "2018-08-23",
         "ord_id": "4983307",
         "order_tot": "5059.8"
        },
        {
         "ord_date": "2015-02-13",
         "ord_id": "3495920",
         "order_tot": "4661.27"
        },
        {
         "ord_date": "2014-03-08",
         "ord_id": "1696154",
         "order_tot": "4238.94"
        },
        {
         "ord_date": "2010-08-09",
         "ord_id": "4965418",
         "order_tot": "3799"
        },
        {
         "ord_date": "2002-08-16",
         "ord_id": "2654691",
         "order_tot": "5089.01"
        },
        {
         "ord_date": "2001-11-10",
         "ord_id": "3821345",
         "order_tot": "4170.96"
        },
        {
         "ord_date": "2001-01-20",
         "ord_id": "6461950",
         "order_tot": "5052.68"
        },
        {
         "ord_date": "2013-06-03",
         "ord_id": "4974256",
         "order_tot": "4158.96"
        },
        {
         "ord_date": "2010-08-07",
         "ord_id": "3915791",
         "order_tot": "6229.34"
        },
        {
         "ord_date": "2017-06-04",
         "ord_id": "2448460",
         "order_tot": "2744.56"
        },
        {
         "ord_date": "2012-09-19",
         "ord_id": "5919706",
         "order_tot": "7842.94"
        },
        {
         "ord_date": "2003-06-14",
         "ord_id": "4816624",
         "order_tot": "3963.34"
        },
        {
         "ord_date": "2005-07-19",
         "ord_id": "6698490",
         "order_tot": "6030.96"
        },
        {
         "ord_date": "2014-12-28",
         "ord_id": "6674165",
         "order_tot": "7824.44"
        },
        {
         "ord_date": "2008-12-02",
         "ord_id": "6064703",
         "order_tot": "4252.94"
        },
        {
         "ord_date": "2017-04-18",
         "ord_id": "2399306",
         "order_tot": "4524"
        },
        {
         "ord_date": "2016-04-08",
         "ord_id": "5586170",
         "order_tot": "4664"
        },
        {
         "ord_date": "2006-06-14",
         "ord_id": "3990048",
         "order_tot": "6252.94"
        },
        {
         "ord_date": "2017-10-08",
         "ord_id": "3623990",
         "order_tot": "4948.04"
        },
        {
         "ord_date": "2019-09-26",
         "ord_id": "1249068",
         "order_tot": "3798"
        },
        {
         "ord_date": "2019-02-21",
         "ord_id": "1213420",
         "order_tot": "4400"
        },
        {
         "ord_date": "2016-05-22",
         "ord_id": "4242440",
         "order_tot": "6240.99"
        },
        {
         "ord_date": "2002-04-17",
         "ord_id": "4705989",
         "order_tot": "6081.3"
        },
        {
         "ord_date": "2018-07-13",
         "ord_id": "3228107",
         "order_tot": "3433.72"
        },
        {
         "ord_date": "2019-02-06",
         "ord_id": "7152184",
         "order_tot": "4716.89"
        },
        {
         "ord_date": "2002-11-21",
         "ord_id": "3756509",
         "order_tot": "4901.25"
        },
        {
         "ord_date": "2011-03-30",
         "ord_id": "4520668",
         "order_tot": "6787.79"
        },
        {
         "ord_date": "2003-08-17",
         "ord_id": "7072980",
         "order_tot": "4503.2"
        },
        {
         "ord_date": "2001-10-07",
         "ord_id": "5850613",
         "order_tot": "4026.94"
        },
        {
         "ord_date": "2008-11-24",
         "ord_id": "1920344",
         "order_tot": "4556.63"
        },
        {
         "ord_date": "2002-08-28",
         "ord_id": "2750638",
         "order_tot": "4209.89"
        },
        {
         "ord_date": "2002-02-06",
         "ord_id": "2024990",
         "order_tot": "4288.93"
        },
        {
         "ord_date": "2008-08-15",
         "ord_id": "2332798",
         "order_tot": "5698.55"
        },
        {
         "ord_date": "2013-05-04",
         "ord_id": "2454071",
         "order_tot": "8320"
        },
        {
         "ord_date": "2019-09-29",
         "ord_id": "5151191",
         "order_tot": "4278.93"
        },
        {
         "ord_date": "2004-10-05",
         "ord_id": "6959598",
         "order_tot": "5500"
        },
        {
         "ord_date": "2007-10-29",
         "ord_id": "4889408",
         "order_tot": "5698.55"
        },
        {
         "ord_date": "2009-08-05",
         "ord_id": "6656410",
         "order_tot": "7824.44"
        },
        {
         "ord_date": "2004-07-26",
         "ord_id": "2148975",
         "order_tot": "6240.99"
        },
        {
         "ord_date": "2006-02-07",
         "ord_id": "7081855",
         "order_tot": "6252.94"
        },
        {
         "ord_date": "2017-08-21",
         "ord_id": "5271578",
         "order_tot": "4505"
        },
        {
         "ord_date": "2006-06-04",
         "ord_id": "2921302",
         "order_tot": "5406.96"
        },
        {
         "ord_date": "2009-06-03",
         "ord_id": "4408518",
         "order_tot": "1924"
        },
        {
         "ord_date": "2005-07-06",
         "ord_id": "3704949",
         "order_tot": "2823.73"
        },
        {
         "ord_date": "2011-04-10",
         "ord_id": "2250709",
         "order_tot": "4797.81"
        },
        {
         "ord_date": "2018-12-30",
         "ord_id": "2582205",
         "order_tot": "7824.44"
        },
        {
         "ord_date": "2001-03-11",
         "ord_id": "2104244",
         "order_tot": "4854.99"
        },
        {
         "ord_date": "2013-08-16",
         "ord_id": "2596420",
         "order_tot": "1850"
        },
        {
         "ord_date": "2003-07-24",
         "ord_id": "4489273",
         "order_tot": "5095.44"
        },
        {
         "ord_date": "2012-08-02",
         "ord_id": "1329366",
         "order_tot": "5973.17"
        },
        {
         "ord_date": "2002-09-27",
         "ord_id": "4470822",
         "order_tot": "4611"
        },
        {
         "ord_date": "2013-02-11",
         "ord_id": "5848962",
         "order_tot": "3744"
        },
        {
         "ord_date": "2005-03-23",
         "ord_id": "2621265",
         "order_tot": "3337.44"
        },
        {
         "ord_date": "2015-07-25",
         "ord_id": "1334536",
         "order_tot": "3441.74"
        },
        {
         "ord_date": "2006-07-18",
         "ord_id": "6758513",
         "order_tot": "5883.93"
        },
        {
         "ord_date": "2016-09-16",
         "ord_id": "4147781",
         "order_tot": "4366.96"
        },
        {
         "ord_date": "2000-09-20",
         "ord_id": "3094931",
         "order_tot": "3953.99"
        },
        {
         "ord_date": "2012-06-14",
         "ord_id": "4219621",
         "order_tot": "3001.93"
        },
        {
         "ord_date": "2006-03-04",
         "ord_id": "1356426",
         "order_tot": "4662.94"
        },
        {
         "ord_date": "2011-08-09",
         "ord_id": "5230612",
         "order_tot": "3189.54"
        },
        {
         "ord_date": "2005-11-10",
         "ord_id": "2701340",
         "order_tot": "6836.39"
        },
        {
         "ord_date": "2016-02-07",
         "ord_id": "2086294",
         "order_tot": "4350"
        },
        {
         "ord_date": "2011-12-12",
         "ord_id": "5277255",
         "order_tot": "6679.58"
        },
        {
         "ord_date": "2009-08-06",
         "ord_id": "5400236",
         "order_tot": "4640.95"
        },
        {
         "ord_date": "2011-05-03",
         "ord_id": "6779348",
         "order_tot": "1949.99"
        },
        {
         "ord_date": "2010-09-06",
         "ord_id": "3246407",
         "order_tot": "4579.49"
        },
        {
         "ord_date": "2014-05-06",
         "ord_id": "4204767",
         "order_tot": "7728.26"
        },
        {
         "ord_date": "2013-08-07",
         "ord_id": "4619251",
         "order_tot": "3401.62"
        },
        {
         "ord_date": "2002-02-05",
         "ord_id": "3676597",
         "order_tot": "3382.94"
        },
        {
         "ord_date": "2002-08-06",
         "ord_id": "6126190",
         "order_tot": "4685.19"
        },
        {
         "ord_date": "2003-10-30",
         "ord_id": "5788077",
         "order_tot": "2756.44"
        },
        {
         "ord_date": "2005-11-21",
         "ord_id": "4635506",
         "order_tot": "4488.75"
        },
        {
         "ord_date": "2006-08-09",
         "ord_id": "4236743",
         "order_tot": "6175.94"
        },
        {
         "ord_date": "2001-09-04",
         "ord_id": "3979972",
         "order_tot": "3189.54"
        },
        {
         "ord_date": "2014-09-13",
         "ord_id": "3378675",
         "order_tot": "4018.48"
        },
        {
         "ord_date": "2009-06-12",
         "ord_id": "1701472",
         "order_tot": "8057.43"
        },
        {
         "ord_date": "2018-12-15",
         "ord_id": "3604057",
         "order_tot": "2810.54"
        },
        {
         "ord_date": "2005-04-05",
         "ord_id": "5299726",
         "order_tot": "4611"
        },
        {
         "ord_date": "2006-11-04",
         "ord_id": "5899635",
         "order_tot": "4171.99"
        },
        {
         "ord_date": "2016-07-16",
         "ord_id": "4557828",
         "order_tot": "5882.67"
        },
        {
         "ord_date": "2017-10-20",
         "ord_id": "2004885",
         "order_tot": "5899"
        },
        {
         "ord_date": "2010-05-24",
         "ord_id": "5768219",
         "order_tot": "4543.58"
        },
        {
         "ord_date": "2004-03-18",
         "ord_id": "3672701",
         "order_tot": "4692.46"
        },
        {
         "ord_date": "2010-10-23",
         "ord_id": "5067739",
         "order_tot": "4274.99"
        },
        {
         "ord_date": "2000-01-31",
         "ord_id": "1550463",
         "order_tot": "4397.11"
        },
        {
         "ord_date": "2013-07-28",
         "ord_id": "6433551",
         "order_tot": "6650.8"
        },
        {
         "ord_date": "2009-01-14",
         "ord_id": "1158428",
         "order_tot": "4399"
        },
        {
         "ord_date": "2002-11-07",
         "ord_id": "1123484",
         "order_tot": "3744"
        },
        {
         "ord_date": "2003-01-14",
         "ord_id": "1521673",
         "order_tot": "4420"
        },
        {
         "ord_date": "2011-12-02",
         "ord_id": "3158959",
         "order_tot": "4450.94"
        },
        {
         "ord_date": "2012-04-18",
         "ord_id": "4046632",
         "order_tot": "4199"
        },
        {
         "ord_date": "2014-11-08",
         "ord_id": "1753344",
         "order_tot": "4420"
        },
        {
         "ord_date": "2016-12-05",
         "ord_id": "6705301",
         "order_tot": "4717.93"
        },
        {
         "ord_date": "2001-11-25",
         "ord_id": "4906339",
         "order_tot": "7805.95"
        },
        {
         "ord_date": "2016-05-09",
         "ord_id": "1756068",
         "order_tot": "5656.41"
        },
        {
         "ord_date": "2014-06-23",
         "ord_id": "5664379",
         "order_tot": "2744.56"
        },
        {
         "ord_date": "2019-06-29",
         "ord_id": "4558193",
         "order_tot": "5698.55"
        },
        {
         "ord_date": "2016-10-01",
         "ord_id": "2270347",
         "order_tot": "5497.94"
        },
        {
         "ord_date": "2019-09-27",
         "ord_id": "4740728",
         "order_tot": "4560.98"
        },
        {
         "ord_date": "2009-08-21",
         "ord_id": "4424690",
         "order_tot": "3999"
        },
        {
         "ord_date": "2011-03-05",
         "ord_id": "6898801",
         "order_tot": "2639"
        },
        {
         "ord_date": "2002-09-27",
         "ord_id": "5737787",
         "order_tot": "5974.64"
        },
        {
         "ord_date": "2015-08-26",
         "ord_id": "1933348",
         "order_tot": "5059.8"
        },
        {
         "ord_date": "2004-12-23",
         "ord_id": "3794878",
         "order_tot": "4238.94"
        },
        {
         "ord_date": "2013-03-27",
         "ord_id": "4703033",
         "order_tot": "4831.83"
        },
        {
         "ord_date": "2007-04-11",
         "ord_id": "6050817",
         "order_tot": "6637.29"
        },
        {
         "ord_date": "2018-12-17",
         "ord_id": "2278706",
         "order_tot": "5607.16"
        },
        {
         "ord_date": "2013-03-29",
         "ord_id": "6032695",
         "order_tot": "3337.44"
        },
        {
         "ord_date": "2005-01-08",
         "ord_id": "3904710",
         "order_tot": "4399"
        },
        {
         "ord_date": "2013-07-06",
         "ord_id": "4431923",
         "order_tot": "5974.64"
        },
        {
         "ord_date": "2009-06-12",
         "ord_id": "1423085",
         "order_tot": "8042.64"
        },
        {
         "ord_date": "2015-01-24",
         "ord_id": "6298824",
         "order_tot": "4228.94"
        },
        {
         "ord_date": "2011-06-25",
         "ord_id": "4144370",
         "order_tot": "3186.56"
        },
        {
         "ord_date": "2016-04-24",
         "ord_id": "5153527",
         "order_tot": "3999"
        },
        {
         "ord_date": "2006-10-24",
         "ord_id": "6085124",
         "order_tot": "2744.56"
        },
        {
         "ord_date": "2016-08-27",
         "ord_id": "2961791",
         "order_tot": "4300.32"
        },
        {
         "ord_date": "2004-04-24",
         "ord_id": "2101804",
         "order_tot": "5406.96"
        },
        {
         "ord_date": "2012-12-09",
         "ord_id": "4359734",
         "order_tot": "4250.08"
        },
        {
         "ord_date": "2001-12-10",
         "ord_id": "3242707",
         "order_tot": "4299.99"
        },
        {
         "ord_date": "2000-03-25",
         "ord_id": "3128311",
         "order_tot": "4949.04"
        },
        {
         "ord_date": "2000-04-04",
         "ord_id": "2206021",
         "order_tot": "4716.89"
        },
        {
         "ord_date": "2005-03-12",
         "ord_id": "4643710",
         "order_tot": "3605.9"
        },
        {
         "ord_date": "2011-12-05",
         "ord_id": "3276678",
         "order_tot": "3602.94"
        },
        {
         "ord_date": "2000-05-28",
         "ord_id": "2955124",
         "order_tot": "5828.94"
        },
        {
         "ord_date": "2018-05-22",
         "ord_id": "5990300",
         "order_tot": "7890.98"
        },
        {
         "ord_date": "2005-01-15",
         "ord_id": "5272106",
         "order_tot": "4176.96"
        },
        {
         "ord_date": "2006-03-07",
         "ord_id": "5524185",
         "order_tot": "6152.66"
        },
        {
         "ord_date": "2005-04-07",
         "ord_id": "5026895",
         "order_tot": "3799"
        },
        {
         "ord_date": "2007-08-01",
         "ord_id": "4508617",
         "order_tot": "3724.66"
        },
        {
         "ord_date": "2001-06-16",
         "ord_id": "6094066",
         "order_tot": "3710"
        },
        {
         "ord_date": "2012-10-13",
         "ord_id": "4574001",
         "order_tot": "3675.93"
        },
        {
         "ord_date": "2000-12-10",
         "ord_id": "1660555",
         "order_tot": "4706.93"
        },
        {
         "ord_date": "2014-07-17",
         "ord_id": "4978938",
         "order_tot": "5885"
        },
        {
         "ord_date": "2017-06-20",
         "ord_id": "1848120",
         "order_tot": "4366.96"
        },
        {
         "ord_date": "2008-07-17",
         "ord_id": "1257140",
         "order_tot": "5499"
        },
        {
         "ord_date": "2009-03-26",
         "ord_id": "1588040",
         "order_tot": "3655.75"
        },
        {
         "ord_date": "2000-02-06",
         "ord_id": "1520330",
         "order_tot": "6081.3"
        },
        {
         "ord_date": "2006-09-14",
         "ord_id": "3507926",
         "order_tot": "4505"
        },
        {
         "ord_date": "2004-01-31",
         "ord_id": "6088058",
         "order_tot": "5099"
        },
        {
         "ord_date": "2016-04-24",
         "ord_id": "3427044",
         "order_tot": "3707.25"
        },
        {
         "ord_date": "2009-07-29",
         "ord_id": "6462685",
         "order_tot": "4040.24"
        },
        {
         "ord_date": "2008-07-02",
         "ord_id": "3252464",
         "order_tot": "5588.31"
        },
        {
         "ord_date": "2006-10-16",
         "ord_id": "4831395",
         "order_tot": "3837.48"
        },
        {
         "ord_date": "2014-10-16",
         "ord_id": "2162626",
         "order_tot": "4218.95"
        },
        {
         "ord_date": "2004-03-14",
         "ord_id": "5847369",
         "order_tot": "3286.14"
        },
        {
         "ord_date": "2010-09-13",
         "ord_id": "2539346",
         "order_tot": "6146.94"
        },
        {
         "ord_date": "2011-02-27",
         "ord_id": "2217267",
         "order_tot": "8019.6"
        },
        {
         "ord_date": "2019-12-01",
         "ord_id": "1894953",
         "order_tot": "4450.94"
        },
        {
         "ord_date": "2017-09-18",
         "ord_id": "5832154",
         "order_tot": "5735.46"
        },
        {
         "ord_date": "2016-05-17",
         "ord_id": "1712241",
         "order_tot": "3905.39"
        },
        {
         "ord_date": "2015-03-20",
         "ord_id": "3118121",
         "order_tot": "4871.32"
        },
        {
         "ord_date": "2006-10-17",
         "ord_id": "5894664",
         "order_tot": "6646.65"
        },
        {
         "ord_date": "2004-03-08",
         "ord_id": "3243806",
         "order_tot": "6081.3"
        },
        {
         "ord_date": "2005-04-04",
         "ord_id": "2410742",
         "order_tot": "8520"
        },
        {
         "ord_date": "2006-08-25",
         "ord_id": "2537962",
         "order_tot": "5275"
        },
        {
         "ord_date": "2001-01-03",
         "ord_id": "6177746",
         "order_tot": "7717.16"
        },
        {
         "ord_date": "2010-05-28",
         "ord_id": "5556208",
         "order_tot": "4523.95"
        },
        {
         "ord_date": "2019-10-18",
         "ord_id": "5020865",
         "order_tot": "4924.75"
        },
        {
         "ord_date": "2016-11-08",
         "ord_id": "4768143",
         "order_tot": "4757.69"
        },
        {
         "ord_date": "2010-09-15",
         "ord_id": "6006438",
         "order_tot": "3600"
        },
        {
         "ord_date": "2012-11-06",
         "ord_id": "1273092",
         "order_tot": "5666.61"
        },
        {
         "ord_date": "2019-10-30",
         "ord_id": "5443155",
         "order_tot": "4717.93"
        },
        {
         "ord_date": "2018-06-23",
         "ord_id": "2631396",
         "order_tot": "1949.99"
        },
        {
         "ord_date": "2017-10-30",
         "ord_id": "6682691",
         "order_tot": "4471.94"
        },
        {
         "ord_date": "2010-04-19",
         "ord_id": "4512047",
         "order_tot": "4854.99"
        },
        {
         "ord_date": "2015-04-11",
         "ord_id": "7297984",
         "order_tot": "4717.2"
        },
        {
         "ord_date": "2001-02-14",
         "ord_id": "3687415",
         "order_tot": "3744"
        },
        {
         "ord_date": "2018-10-05",
         "ord_id": "4241228",
         "order_tot": "5671.67"
        },
        {
         "ord_date": "2004-11-13",
         "ord_id": "5613292",
         "order_tot": "3204.59"
        },
        {
         "ord_date": "2013-03-23",
         "ord_id": "2670326",
         "order_tot": "4045.94"
        },
        {
         "ord_date": "2016-02-04",
         "ord_id": "4835661",
         "order_tot": "6490.63"
        },
        {
         "ord_date": "2003-05-30",
         "ord_id": "4225044",
         "order_tot": "6852.59"
        },
        {
         "ord_date": "2005-03-01",
         "ord_id": "1174987",
         "order_tot": "5641.03"
        },
        {
         "ord_date": "2008-10-31",
         "ord_id": "3920863",
         "order_tot": "8007.99"
        },
        {
         "ord_date": "2008-09-15",
         "ord_id": "2708318",
         "order_tot": "5745.59"
        },
        {
         "ord_date": "2010-07-05",
         "ord_id": "6550384",
         "order_tot": "4397.11"
        },
        {
         "ord_date": "2005-04-15",
         "ord_id": "2010949",
         "order_tot": "7842.94"
        },
        {
         "ord_date": "2011-08-05",
         "ord_id": "6129814",
         "order_tot": "4924.75"
        },
        {
         "ord_date": "2007-08-31",
         "ord_id": "2876751",
         "order_tot": "5615.22"
        },
        {
         "ord_date": "2004-05-29",
         "ord_id": "4350229",
         "order_tot": "8580"
        },
        {
         "ord_date": "2006-07-13",
         "ord_id": "6293430",
         "order_tot": "4199"
        },
        {
         "ord_date": "2004-01-26",
         "ord_id": "5571075",
         "order_tot": "1850"
        },
        {
         "ord_date": "2010-04-16",
         "ord_id": "3114069",
         "order_tot": "5765.75"
        },
        {
         "ord_date": "2004-12-14",
         "ord_id": "2643335",
         "order_tot": "8356"
        },
        {
         "ord_date": "2014-07-23",
         "ord_id": "6468211",
         "order_tot": "4273.93"
        },
        {
         "ord_date": "2009-11-01",
         "ord_id": "4300954",
         "order_tot": "3816"
        },
        {
         "ord_date": "2006-10-11",
         "ord_id": "1833117",
         "order_tot": "4471.94"
        },
        {
         "ord_date": "2006-01-12",
         "ord_id": "2702576",
         "order_tot": "6179.2"
        },
        {
         "ord_date": "2016-12-05",
         "ord_id": "6701780",
         "order_tot": "4429.95"
        },
        {
         "ord_date": "2008-01-25",
         "ord_id": "3026972",
         "order_tot": "7750.45"
        },
        {
         "ord_date": "2013-08-27",
         "ord_id": "3752401",
         "order_tot": "4959.74"
        },
        {
         "ord_date": "2002-02-05",
         "ord_id": "6998194",
         "order_tot": "6223.45"
        },
        {
         "ord_date": "2001-04-14",
         "ord_id": "1181721",
         "order_tot": "5591.03"
        },
        {
         "ord_date": "2018-02-10",
         "ord_id": "3090621",
         "order_tot": "4543.58"
        },
        {
         "ord_date": "2006-09-11",
         "ord_id": "4539681",
         "order_tot": "7399"
        },
        {
         "ord_date": "2016-06-30",
         "ord_id": "5715127",
         "order_tot": "5379.45"
        },
        {
         "ord_date": "2004-12-05",
         "ord_id": "2527223",
         "order_tot": "3707.25"
        },
        {
         "ord_date": "2011-01-30",
         "ord_id": "7152637",
         "order_tot": "4170.96"
        },
        {
         "ord_date": "2004-01-21",
         "ord_id": "4845161",
         "order_tot": "4484.89"
        },
        {
         "ord_date": "2002-11-30",
         "ord_id": "7313221",
         "order_tot": "5063.75"
        },
        {
         "ord_date": "2000-03-30",
         "ord_id": "1433896",
         "order_tot": "4523.95"
        },
        {
         "ord_date": "2002-03-25",
         "ord_id": "5318762",
         "order_tot": "4557.99"
        },
        {
         "ord_date": "2003-03-18",
         "ord_id": "3862539",
         "order_tot": "3390.94"
        },
        {
         "ord_date": "2016-08-22",
         "ord_id": "7292725",
         "order_tot": "4888"
        },
        {
         "ord_date": "2000-04-11",
         "ord_id": "1785549",
         "order_tot": "4278.93"
        },
        {
         "ord_date": "2001-03-10",
         "ord_id": "4389159",
         "order_tot": "4947.98"
        },
        {
         "ord_date": "2018-06-13",
         "ord_id": "6306290",
         "order_tot": "4654.5"
        },
        {
         "ord_date": "2007-02-18",
         "ord_id": "1548662",
         "order_tot": "4026.94"
        },
        {
         "ord_date": "2001-11-30",
         "ord_id": "6204866",
         "order_tot": "6134.96"
        },
        {
         "ord_date": "2004-04-09",
         "ord_id": "6758597",
         "order_tot": "3722.25"
        },
        {
         "ord_date": "2009-09-30",
         "ord_id": "3340271",
         "order_tot": "6693.46"
        },
        {
         "ord_date": "2014-02-14",
         "ord_id": "6985193",
         "order_tot": "4170.96"
        },
        {
         "ord_date": "2010-08-07",
         "ord_id": "1538267",
         "order_tot": "2639"
        },
        {
         "ord_date": "2007-12-25",
         "ord_id": "5333293",
         "order_tot": "5636.73"
        },
        {
         "ord_date": "2017-06-23",
         "ord_id": "6911763",
         "order_tot": "4158.96"
        },
        {
         "ord_date": "2013-02-19",
         "ord_id": "7324361",
         "order_tot": "6590.49"
        },
        {
         "ord_date": "2003-09-22",
         "ord_id": "5961883",
         "order_tot": "4524"
        },
        {
         "ord_date": "2017-05-08",
         "ord_id": "2834523",
         "order_tot": "4218.95"
        },
        {
         "ord_date": "2010-04-29",
         "ord_id": "5687495",
         "order_tot": "3899.78"
        },
        {
         "ord_date": "2010-02-15",
         "ord_id": "6500330",
         "order_tot": "4273.93"
        },
        {
         "ord_date": "2015-10-06",
         "ord_id": "3969897",
         "order_tot": "1949.99"
        },
        {
         "ord_date": "2000-06-20",
         "ord_id": "7027464",
         "order_tot": "5295.9"
        },
        {
         "ord_date": "2008-04-09",
         "ord_id": "1931953",
         "order_tot": "5725.43"
        },
        {
         "ord_date": "2009-12-24",
         "ord_id": "2847748",
         "order_tot": "3009"
        },
        {
         "ord_date": "2000-11-18",
         "ord_id": "6770061",
         "order_tot": "3278.48"
        },
        {
         "ord_date": "2004-11-21",
         "ord_id": "6552595",
         "order_tot": "4481.67"
        },
        {
         "ord_date": "2008-05-15",
         "ord_id": "7031756",
         "order_tot": "4909.15"
        },
        {
         "ord_date": "2015-01-25",
         "ord_id": "5598550",
         "order_tot": "6229.34"
        },
        {
         "ord_date": "2013-02-11",
         "ord_id": "3675795",
         "order_tot": "5614.67"
        },
        {
         "ord_date": "2006-01-26",
         "ord_id": "2872331",
         "order_tot": "7728.26"
        },
        {
         "ord_date": "2014-01-26",
         "ord_id": "4510926",
         "order_tot": "4420"
        },
        {
         "ord_date": "2002-12-22",
         "ord_id": "3941281",
         "order_tot": "5641.03"
        },
        {
         "ord_date": "2017-09-16",
         "ord_id": "5791770",
         "order_tot": "4678.96"
        },
        {
         "ord_date": "2019-08-17",
         "ord_id": "3691505",
         "order_tot": "2330.94"
        },
        {
         "ord_date": "2013-04-25",
         "ord_id": "6020735",
         "order_tot": "7717.16"
        },
        {
         "ord_date": "2005-11-08",
         "ord_id": "6676673",
         "order_tot": "5029.7"
        },
        {
         "ord_date": "2013-01-06",
         "ord_id": "3885193",
         "order_tot": "5085.6"
        },
        {
         "ord_date": "2003-05-18",
         "ord_id": "4018672",
         "order_tot": "4018.99"
        },
        {
         "ord_date": "2019-02-04",
         "ord_id": "2402430",
         "order_tot": "5507.74"
        },
        {
         "ord_date": "2003-05-15",
         "ord_id": "2762489",
         "order_tot": "4218.95"
        },
        {
         "ord_date": "2011-01-20",
         "ord_id": "7360034",
         "order_tot": "3572.2"
        },
        {
         "ord_date": "2018-06-24",
         "ord_id": "2582762",
         "order_tot": "4611"
        },
        {
         "ord_date": "2019-02-08",
         "ord_id": "1428972",
         "order_tot": "5899"
        },
        {
         "ord_date": "2013-01-22",
         "ord_id": "2373731",
         "order_tot": "5745.59"
        },
        {
         "ord_date": "2008-09-01",
         "ord_id": "2349091",
         "order_tot": "6134.96"
        },
        {
         "ord_date": "2004-12-05",
         "ord_id": "1864749",
         "order_tot": "3480.99"
        },
        {
         "ord_date": "2005-11-01",
         "ord_id": "6160753",
         "order_tot": "6032"
        },
        {
         "ord_date": "2014-08-28",
         "ord_id": "6025341",
         "order_tot": "3614.33"
        },
        {
         "ord_date": "2017-11-23",
         "ord_id": "4701598",
         "order_tot": "6175.94"
        },
        {
         "ord_date": "2019-10-23",
         "ord_id": "4292007",
         "order_tot": "6030.96"
        },
        {
         "ord_date": "2005-02-28",
         "ord_id": "6378566",
         "order_tot": "4200"
        },
        {
         "ord_date": "2008-06-06",
         "ord_id": "7231279",
         "order_tot": "5527.68"
        },
        {
         "ord_date": "2007-10-06",
         "ord_id": "1683323",
         "order_tot": "5005.5"
        },
        {
         "ord_date": "2009-08-30",
         "ord_id": "2901363",
         "order_tot": "4398.45"
        },
        {
         "ord_date": "2001-04-06",
         "ord_id": "3107369",
         "order_tot": "4159.99"
        },
        {
         "ord_date": "2007-06-24",
         "ord_id": "1954255",
         "order_tot": "8000"
        },
        {
         "ord_date": "2010-07-03",
         "ord_id": "2871283",
         "order_tot": "4492.93"
        },
        {
         "ord_date": "2000-12-06",
         "ord_id": "5713953",
         "order_tot": "5484.95"
        },
        {
         "ord_date": "2002-11-17",
         "ord_id": "6037920",
         "order_tot": "4258.94"
        },
        {
         "ord_date": "2002-05-06",
         "ord_id": "3136118",
         "order_tot": "4379.56"
        },
        {
         "ord_date": "2004-09-08",
         "ord_id": "1692789",
         "order_tot": "5857.5"
        },
        {
         "ord_date": "2006-06-26",
         "ord_id": "1753655",
         "order_tot": "2797.34"
        },
        {
         "ord_date": "2002-08-28",
         "ord_id": "5338402",
         "order_tot": "4471.99"
        },
        {
         "ord_date": "2002-05-09",
         "ord_id": "1623005",
         "order_tot": "2286.96"
        },
        {
         "ord_date": "2005-08-09",
         "ord_id": "6112081",
         "order_tot": "4775.29"
        },
        {
         "ord_date": "2006-09-05",
         "ord_id": "1716627",
         "order_tot": "4366.96"
        },
        {
         "ord_date": "2009-03-22",
         "ord_id": "7289838",
         "order_tot": "4273.93"
        },
        {
         "ord_date": "2004-05-14",
         "ord_id": "4457536",
         "order_tot": "4026.94"
        },
        {
         "ord_date": "2002-10-24",
         "ord_id": "3383907",
         "order_tot": "2823.73"
        },
        {
         "ord_date": "2011-05-02",
         "ord_id": "5293031",
         "order_tot": "4906.17"
        },
        {
         "ord_date": "2012-05-28",
         "ord_id": "3135177",
         "order_tot": "3433.72"
        },
        {
         "ord_date": "2002-11-27",
         "ord_id": "2672990",
         "order_tot": "5199"
        },
        {
         "ord_date": "2007-06-24",
         "ord_id": "4614282",
         "order_tot": "8000"
        },
        {
         "ord_date": "2012-04-13",
         "ord_id": "6946141",
         "order_tot": "4199"
        },
        {
         "ord_date": "2013-03-19",
         "ord_id": "2188982",
         "order_tot": "3744"
        },
        {
         "ord_date": "2019-01-05",
         "ord_id": "5327025",
         "order_tot": "3500"
        },
        {
         "ord_date": "2011-08-26",
         "ord_id": "2248192",
         "order_tot": "5591.03"
        },
        {
         "ord_date": "2009-10-16",
         "ord_id": "2129503",
         "order_tot": "2797.34"
        },
        {
         "ord_date": "2010-12-08",
         "ord_id": "4644638",
         "order_tot": "4653"
        },
        {
         "ord_date": "2007-11-06",
         "ord_id": "3091397",
         "order_tot": "4075.62"
        },
        {
         "ord_date": "2013-03-12",
         "ord_id": "1452967",
         "order_tot": "4719"
        },
        {
         "ord_date": "2006-09-13",
         "ord_id": "2319628",
         "order_tot": "2830.33"
        },
        {
         "ord_date": "2006-10-18",
         "ord_id": "6437349",
         "order_tot": "4011.74"
        },
        {
         "ord_date": "2012-11-08",
         "ord_id": "1263588",
         "order_tot": "4662.94"
        },
        {
         "ord_date": "2002-05-14",
         "ord_id": "6300542",
         "order_tot": "6778.7"
        },
        {
         "ord_date": "2006-10-23",
         "ord_id": "6723532",
         "order_tot": "4452"
        },
        {
         "ord_date": "2012-12-10",
         "ord_id": "1734643",
         "order_tot": "4494"
        },
        {
         "ord_date": "2016-11-15",
         "ord_id": "2479298",
         "order_tot": "3209.08"
        },
        {
         "ord_date": "2012-01-17",
         "ord_id": "4437714",
         "order_tot": "4037.53"
        },
        {
         "ord_date": "2001-10-16",
         "ord_id": "1409364",
         "order_tot": "4464.76"
        },
        {
         "ord_date": "2019-03-28",
         "ord_id": "3496466",
         "order_tot": "4717.93"
        },
        {
         "ord_date": "2004-03-29",
         "ord_id": "3962729",
         "order_tot": "4158.96"
        },
        {
         "ord_date": "2001-08-23",
         "ord_id": "3105756",
         "order_tot": "3963.34"
        },
        {
         "ord_date": "2006-08-03",
         "ord_id": "5922915",
         "order_tot": "5507.74"
        },
        {
         "ord_date": "2015-01-08",
         "ord_id": "6322733",
         "order_tot": "2091.36"
        },
        {
         "ord_date": "2013-06-11",
         "ord_id": "1289862",
         "order_tot": "5562.93"
        },
        {
         "ord_date": "2002-03-02",
         "ord_id": "1982827",
         "order_tot": "3247.84"
        },
        {
         "ord_date": "2017-04-24",
         "ord_id": "1323255",
         "order_tot": "5053.43"
        },
        {
         "ord_date": "2016-12-17",
         "ord_id": "6948000",
         "order_tot": "3999"
        },
        {
         "ord_date": "2011-10-19",
         "ord_id": "7192828",
         "order_tot": "4452"
        },
        {
         "ord_date": "2009-08-15",
         "ord_id": "6706549",
         "order_tot": "3354.15"
        },
        {
         "ord_date": "2017-08-23",
         "ord_id": "2805989",
         "order_tot": "6161.51"
        },
        {
         "ord_date": "2003-12-03",
         "ord_id": "7204390",
         "order_tot": "4238.94"
        },
        {
         "ord_date": "2007-12-12",
         "ord_id": "3828848",
         "order_tot": "1961"
        },
        {
         "ord_date": "2002-04-24",
         "ord_id": "1978830",
         "order_tot": "4708"
        },
        {
         "ord_date": "2002-08-18",
         "ord_id": "6032876",
         "order_tot": "5613.65"
        },
        {
         "ord_date": "2015-05-23",
         "ord_id": "2859034",
         "order_tot": "4238.94"
        },
        {
         "ord_date": "2006-08-15",
         "ord_id": "1491482",
         "order_tot": "3982.04"
        },
        {
         "ord_date": "2002-11-13",
         "ord_id": "5896090",
         "order_tot": "5592.47"
        },
        {
         "ord_date": "2000-02-29",
         "ord_id": "2354943",
         "order_tot": "4982"
        },
        {
         "ord_date": "2000-08-07",
         "ord_id": "4569994",
         "order_tot": "4450.94"
        },
        {
         "ord_date": "2011-04-23",
         "ord_id": "1570448",
         "order_tot": "5237.5"
        },
        {
         "ord_date": "2010-11-30",
         "ord_id": "2037976",
         "order_tot": "4503.43"
        },
        {
         "ord_date": "2004-01-26",
         "ord_id": "3513653",
         "order_tot": "4574.96"
        },
        {
         "ord_date": "2019-10-20",
         "ord_id": "6698819",
         "order_tot": "5430.36"
        },
        {
         "ord_date": "2018-08-31",
         "ord_id": "6214371",
         "order_tot": "1937.88"
        },
        {
         "ord_date": "2005-05-12",
         "ord_id": "4233244",
         "order_tot": "5375.99"
        },
        {
         "ord_date": "2012-01-23",
         "ord_id": "3577653",
         "order_tot": "6223.45"
        },
        {
         "ord_date": "2019-05-08",
         "ord_id": "3191867",
         "order_tot": "5899"
        },
        {
         "ord_date": "2012-07-05",
         "ord_id": "5929442",
         "order_tot": "4647.92"
        },
        {
         "ord_date": "2004-03-13",
         "ord_id": "3558480",
         "order_tot": "1937.88"
        },
        {
         "ord_date": "2018-11-21",
         "ord_id": "6772820",
         "order_tot": "5816.25"
        },
        {
         "ord_date": "2006-02-17",
         "ord_id": "5635327",
         "order_tot": "8480"
        },
        {
         "ord_date": "2000-08-13",
         "ord_id": "3660078",
         "order_tot": "6753.12"
        },
        {
         "ord_date": "2019-04-27",
         "ord_id": "5381339",
         "order_tot": "3545.16"
        },
        {
         "ord_date": "2008-12-08",
         "ord_id": "2940684",
         "order_tot": "5876.46"
        },
        {
         "ord_date": "2006-11-04",
         "ord_id": "1327986",
         "order_tot": "5510.94"
        },
        {
         "ord_date": "2015-07-14",
         "ord_id": "7033371",
         "order_tot": "3534.96"
        },
        {
         "ord_date": "2000-05-23",
         "ord_id": "5767252",
         "order_tot": "5720"
        },
        {
         "ord_date": "2010-10-12",
         "ord_id": "6674878",
         "order_tot": "4764.03"
        },
        {
         "ord_date": "2011-06-12",
         "ord_id": "3421210",
         "order_tot": "4238.94"
        },
        {
         "ord_date": "2005-09-17",
         "ord_id": "1855891",
         "order_tot": "4496.47"
        },
        {
         "ord_date": "2006-10-01",
         "ord_id": "4217666",
         "order_tot": "3645.43"
        },
        {
         "ord_date": "2010-03-26",
         "ord_id": "6284721",
         "order_tot": "5765.75"
        },
        {
         "ord_date": "2014-06-11",
         "ord_id": "5057351",
         "order_tot": "7981.77"
        },
        {
         "ord_date": "2014-01-27",
         "ord_id": "5719032",
         "order_tot": "4399"
        },
        {
         "ord_date": "2004-11-22",
         "ord_id": "2825342",
         "order_tot": "5482.87"
        },
        {
         "ord_date": "2010-02-27",
         "ord_id": "1604333",
         "order_tot": "1961"
        },
        {
         "ord_date": "2001-04-04",
         "ord_id": "1734546",
         "order_tot": "5404.94"
        },
        {
         "ord_date": "2018-08-06",
         "ord_id": "3012192",
         "order_tot": "5556.43"
        },
        {
         "ord_date": "2009-01-08",
         "ord_id": "7066266",
         "order_tot": "6048.36"
        },
        {
         "ord_date": "2014-04-18",
         "ord_id": "1863924",
         "order_tot": "7935.43"
        },
        {
         "ord_date": "2002-05-28",
         "ord_id": "3336106",
         "order_tot": "4440.44"
        },
        {
         "ord_date": "2000-06-28",
         "ord_id": "3894500",
         "order_tot": "4664"
        },
        {
         "ord_date": "2018-01-02",
         "ord_id": "6777399",
         "order_tot": "6030.96"
        },
        {
         "ord_date": "2014-11-30",
         "ord_id": "2050261",
         "order_tot": "8161.99"
        },
        {
         "ord_date": "2001-03-25",
         "ord_id": "7133246",
         "order_tot": "5679.85"
        },
        {
         "ord_date": "2007-04-15",
         "ord_id": "4354201",
         "order_tot": "4433.05"
        },
        {
         "ord_date": "2011-07-02",
         "ord_id": "1266062",
         "order_tot": "8065.74"
        },
        {
         "ord_date": "2010-07-03",
         "ord_id": "3463905",
         "order_tot": "5685.11"
        },
        {
         "ord_date": "2000-04-29",
         "ord_id": "3982642",
         "order_tot": "6117.95"
        },
        {
         "ord_date": "2016-06-26",
         "ord_id": "2557474",
         "order_tot": "6132.44"
        },
        {
         "ord_date": "2013-05-18",
         "ord_id": "4228012",
         "order_tot": "5925.09"
        },
        {
         "ord_date": "2014-07-30",
         "ord_id": "3879768",
         "order_tot": "4504.99"
        },
        {
         "ord_date": "2012-10-09",
         "ord_id": "3911168",
         "order_tot": "4571.99"
        },
        {
         "ord_date": "2003-12-26",
         "ord_id": "6053931",
         "order_tot": "3326.96"
        },
        {
         "ord_date": "2003-07-25",
         "ord_id": "1546578",
         "order_tot": "5946.59"
        },
        {
         "ord_date": "2001-08-24",
         "ord_id": "5948403",
         "order_tot": "4662.94"
        },
        {
         "ord_date": "2015-09-13",
         "ord_id": "3731617",
         "order_tot": "8019.6"
        },
        {
         "ord_date": "2017-02-21",
         "ord_id": "5999014",
         "order_tot": "3401.62"
        },
        {
         "ord_date": "2009-03-11",
         "ord_id": "6888342",
         "order_tot": "4678.34"
        },
        {
         "ord_date": "2018-07-21",
         "ord_id": "5279703",
         "order_tot": "4831.6"
        },
        {
         "ord_date": "2008-07-10",
         "ord_id": "2478202",
         "order_tot": "4936.35"
        },
        {
         "ord_date": "2018-04-29",
         "ord_id": "5662865",
         "order_tot": "4831.6"
        },
        {
         "ord_date": "2008-03-09",
         "ord_id": "4350859",
         "order_tot": "3999"
        },
        {
         "ord_date": "2017-09-23",
         "ord_id": "4777486",
         "order_tot": "4176.96"
        },
        {
         "ord_date": "2013-09-11",
         "ord_id": "2722262",
         "order_tot": "6304.56"
        },
        {
         "ord_date": "2018-04-02",
         "ord_id": "4268614",
         "order_tot": "4253.99"
        },
        {
         "ord_date": "2018-01-12",
         "ord_id": "6608242",
         "order_tot": "4018.48"
        },
        {
         "ord_date": "2010-10-28",
         "ord_id": "6373242",
         "order_tot": "4179.75"
        },
        {
         "ord_date": "2008-01-23",
         "ord_id": "1977105",
         "order_tot": "5698.55"
        },
        {
         "ord_date": "2016-06-30",
         "ord_id": "3985028",
         "order_tot": "1961"
        },
        {
         "ord_date": "2016-04-06",
         "ord_id": "1607489",
         "order_tot": "3808.99"
        },
        {
         "ord_date": "2004-09-30",
         "ord_id": "6814817",
         "order_tot": "7805.95"
        },
        {
         "ord_date": "2019-08-28",
         "ord_id": "2126409",
         "order_tot": "5859.63"
        },
        {
         "ord_date": "2011-05-18",
         "ord_id": "1351696",
         "order_tot": "4576"
        },
        {
         "ord_date": "2010-09-27",
         "ord_id": "4688902",
         "order_tot": "4238.94"
        },
        {
         "ord_date": "2015-03-19",
         "ord_id": "6722450",
         "order_tot": "3848.5"
        },
        {
         "ord_date": "2011-02-04",
         "ord_id": "1374948",
         "order_tot": "5641.03"
        },
        {
         "ord_date": "2003-08-20",
         "ord_id": "7081654",
         "order_tot": "4471.94"
        },
        {
         "ord_date": "2004-03-04",
         "ord_id": "3169204",
         "order_tot": "3739"
        },
        {
         "ord_date": "2013-03-06",
         "ord_id": "4917544",
         "order_tot": "4556.94"
        },
        {
         "ord_date": "2007-06-03",
         "ord_id": "5654555",
         "order_tot": "5200"
        },
        {
         "ord_date": "2015-10-25",
         "ord_id": "5760066",
         "order_tot": "4831.83"
        },
        {
         "ord_date": "2019-10-20",
         "ord_id": "5228079",
         "order_tot": "2966.94"
        },
        {
         "ord_date": "2015-12-03",
         "ord_id": "1398693",
         "order_tot": "3390.94"
        },
        {
         "ord_date": "2002-08-16",
         "ord_id": "1251089",
         "order_tot": "8480"
        },
        {
         "ord_date": "2003-06-22",
         "ord_id": "5412548",
         "order_tot": "4556.63"
        },
        {
         "ord_date": "2001-08-12",
         "ord_id": "4797773",
         "order_tot": "4470.96"
        },
        {
         "ord_date": "2017-01-05",
         "ord_id": "2758833",
         "order_tot": "6161.51"
        },
        {
         "ord_date": "2015-02-25",
         "ord_id": "1793724",
         "order_tot": "4010.08"
        },
        {
         "ord_date": "2002-07-17",
         "ord_id": "2123126",
         "order_tot": "5830"
        },
        {
         "ord_date": "2002-12-28",
         "ord_id": "1948942",
         "order_tot": "5609.99"
        },
        {
         "ord_date": "2004-04-04",
         "ord_id": "6367520",
         "order_tot": "4188.95"
        },
        {
         "ord_date": "2012-08-05",
         "ord_id": "5052492",
         "order_tot": "3129.36"
        },
        {
         "ord_date": "2000-05-13",
         "ord_id": "6831837",
         "order_tot": "4761.39"
        },
        {
         "ord_date": "2010-09-17",
         "ord_id": "4108106",
         "order_tot": "8019.6"
        },
        {
         "ord_date": "2005-11-10",
         "ord_id": "4344290",
         "order_tot": "3406.94"
        },
        {
         "ord_date": "2013-12-12",
         "ord_id": "6634138",
         "order_tot": "3572.2"
        },
        {
         "ord_date": "2008-09-19",
         "ord_id": "3328214",
         "order_tot": "3326.96"
        },
        {
         "ord_date": "2008-01-15",
         "ord_id": "3929267",
         "order_tot": "4775.29"
        },
        {
         "ord_date": "2002-05-09",
         "ord_id": "6293650",
         "order_tot": "4273.93"
        },
        {
         "ord_date": "2006-10-07",
         "ord_id": "1946336",
         "order_tot": "7399"
        },
        {
         "ord_date": "2015-06-11",
         "ord_id": "5984235",
         "order_tot": "4664"
        },
        {
         "ord_date": "2016-03-14",
         "ord_id": "5436440",
         "order_tot": "4976.12"
        },
        {
         "ord_date": "2006-11-28",
         "ord_id": "3320199",
         "order_tot": "4238.94"
        },
        {
         "ord_date": "2007-06-05",
         "ord_id": "1592574",
         "order_tot": "4450.94"
        },
        {
         "ord_date": "2008-01-14",
         "ord_id": "2189381",
         "order_tot": "4473"
        },
        {
         "ord_date": "2000-04-10",
         "ord_id": "3756589",
         "order_tot": "4399"
        },
        {
         "ord_date": "2005-03-12",
         "ord_id": "4618479",
         "order_tot": "4481.67"
        },
        {
         "ord_date": "2004-06-18",
         "ord_id": "5291940",
         "order_tot": "5995.79"
        },
        {
         "ord_date": "2014-09-29",
         "ord_id": "1931021",
         "order_tot": "3563.85"
        },
        {
         "ord_date": "2002-10-18",
         "ord_id": "6725243",
         "order_tot": "4535.45"
        },
        {
         "ord_date": "2000-04-25",
         "ord_id": "1159454",
         "order_tot": "5325"
        },
        {
         "ord_date": "2016-06-03",
         "ord_id": "5863781",
         "order_tot": "4238.94"
        },
        {
         "ord_date": "2002-04-26",
         "ord_id": "5010812",
         "order_tot": "3560.45"
        },
        {
         "ord_date": "2015-04-05",
         "ord_id": "6440680",
         "order_tot": "4278.93"
        },
        {
         "ord_date": "2011-03-21",
         "ord_id": "4874205",
         "order_tot": "5406.96"
        },
        {
         "ord_date": "2018-03-11",
         "ord_id": "6162208",
         "order_tot": "5375.99"
        },
        {
         "ord_date": "2015-10-17",
         "ord_id": "6253991",
         "order_tot": "5899"
        },
        {
         "ord_date": "2009-05-19",
         "ord_id": "7211010",
         "order_tot": "4456.13"
        },
        {
         "ord_date": "2013-01-10",
         "ord_id": "6048550",
         "order_tot": "5609.99"
        },
        {
         "ord_date": "2016-01-06",
         "ord_id": "5160033",
         "order_tot": "4492.93"
        },
        {
         "ord_date": "2001-06-18",
         "ord_id": "2092653",
         "order_tot": "5899"
        },
        {
         "ord_date": "2009-07-03",
         "ord_id": "4441591",
         "order_tot": "5857.5"
        },
        {
         "ord_date": "2010-01-23",
         "ord_id": "1476898",
         "order_tot": "3948.38"
        },
        {
         "ord_date": "2009-10-07",
         "ord_id": "3019847",
         "order_tot": "4546.19"
        },
        {
         "ord_date": "2000-09-06",
         "ord_id": "4519159",
         "order_tot": "3263.16"
        },
        {
         "ord_date": "2016-04-16",
         "ord_id": "4129966",
         "order_tot": "3278.48"
        },
        {
         "ord_date": "2006-07-28",
         "ord_id": "1184975",
         "order_tot": "4705.77"
        },
        {
         "ord_date": "2015-03-03",
         "ord_id": "2962843",
         "order_tot": "5848.19"
        },
        {
         "ord_date": "2000-10-20",
         "ord_id": "3783492",
         "order_tot": "6746.73"
        },
        {
         "ord_date": "2007-06-03",
         "ord_id": "3615980",
         "order_tot": "4199"
        },
        {
         "ord_date": "2018-03-30",
         "ord_id": "4886772",
         "order_tot": "5059.8"
        },
        {
         "ord_date": "2012-03-05",
         "ord_id": "7121548",
         "order_tot": "4420"
        },
        {
         "ord_date": "2016-03-08",
         "ord_id": "5001950",
         "order_tot": "4537.05"
        },
        {
         "ord_date": "2014-01-07",
         "ord_id": "1699280",
         "order_tot": "4158.96"
        },
        {
         "ord_date": "2000-09-26",
         "ord_id": "2692295",
         "order_tot": "5029.7"
        },
        {
         "ord_date": "2010-05-20",
         "ord_id": "1749228",
         "order_tot": "4959.74"
        },
        {
         "ord_date": "2015-02-18",
         "ord_id": "7045580",
         "order_tot": "4557.99"
        },
        {
         "ord_date": "2013-10-11",
         "ord_id": "5969548",
         "order_tot": "6229.34"
        },
        {
         "ord_date": "2017-11-16",
         "ord_id": "3589336",
         "order_tot": "4037.53"
        },
        {
         "ord_date": "2017-04-03",
         "ord_id": "6414515",
         "order_tot": "3968.06"
        },
        {
         "ord_date": "2018-06-14",
         "ord_id": "5388332",
         "order_tot": "4037.53"
        },
        {
         "ord_date": "2013-03-07",
         "ord_id": "6518320",
         "order_tot": "1961"
        },
        {
         "ord_date": "2018-12-02",
         "ord_id": "3220241",
         "order_tot": "4471.99"
        },
        {
         "ord_date": "2010-12-13",
         "ord_id": "4745678",
         "order_tot": "4158.96"
        },
        {
         "ord_date": "2018-12-13",
         "ord_id": "7259343",
         "order_tot": "4981.41"
        },
        {
         "ord_date": "2019-10-02",
         "ord_id": "1248651",
         "order_tot": "3534.96"
        },
        {
         "ord_date": "2008-06-12",
         "ord_id": "2289755",
         "order_tot": "5718.96"
        },
        {
         "ord_date": "2012-08-09",
         "ord_id": "4139756",
         "order_tot": "4981.41"
        },
        {
         "ord_date": "2017-01-12",
         "ord_id": "6455351",
         "order_tot": "4698.7"
        },
        {
         "ord_date": "2003-09-12",
         "ord_id": "5924114",
         "order_tot": "3724.66"
        },
        {
         "ord_date": "2001-12-03",
         "ord_id": "3462024",
         "order_tot": "5490.14"
        },
        {
         "ord_date": "2011-03-05",
         "ord_id": "2082559",
         "order_tot": "6134.96"
        },
        {
         "ord_date": "2000-03-03",
         "ord_id": "2804923",
         "order_tot": "6252.94"
        },
        {
         "ord_date": "2013-10-05",
         "ord_id": "4579929",
         "order_tot": "6637.29"
        },
        {
         "ord_date": "2009-06-04",
         "ord_id": "2987599",
         "order_tot": "6868.79"
        },
        {
         "ord_date": "2000-02-13",
         "ord_id": "6749345",
         "order_tot": "4409.79"
        },
        {
         "ord_date": "2008-08-05",
         "ord_id": "2393625",
         "order_tot": "4026.94"
        },
        {
         "ord_date": "2009-06-05",
         "ord_id": "6915316",
         "order_tot": "4288.93"
        },
        {
         "ord_date": "2010-06-11",
         "ord_id": "2554655",
         "order_tot": "3963.34"
        },
        {
         "ord_date": "2015-08-16",
         "ord_id": "6856530",
         "order_tot": "3189.54"
        },
        {
         "ord_date": "2006-10-29",
         "ord_id": "7343359",
         "order_tot": "4909.15"
        },
        {
         "ord_date": "2010-09-06",
         "ord_id": "1642917",
         "order_tot": "4662.94"
        },
        {
         "ord_date": "2000-10-29",
         "ord_id": "2381158",
         "order_tot": "4000.73"
        },
        {
         "ord_date": "2006-07-23",
         "ord_id": "6114801",
         "order_tot": "4699.21"
        },
        {
         "ord_date": "2018-04-04",
         "ord_id": "1996455",
         "order_tot": "6134.96"
        },
        {
         "ord_date": "2018-06-02",
         "ord_id": "5694230",
         "order_tot": "4258.94"
        },
        {
         "ord_date": "2004-05-13",
         "ord_id": "1838849",
         "order_tot": "5029"
        },
        {
         "ord_date": "2014-01-11",
         "ord_id": "2691622",
         "order_tot": "6705.16"
        },
        {
         "ord_date": "2001-11-03",
         "ord_id": "3669890",
         "order_tot": "6016.71"
        },
        {
         "ord_date": "2000-03-06",
         "ord_id": "3006134",
         "order_tot": "3834"
        },
        {
         "ord_date": "2005-08-29",
         "ord_id": "3242409",
         "order_tot": "8000"
        },
        {
         "ord_date": "2000-05-14",
         "ord_id": "2227342",
         "order_tot": "7879.94"
        },
        {
         "ord_date": "2018-06-05",
         "ord_id": "5148735",
         "order_tot": "4678.96"
        },
        {
         "ord_date": "2018-08-28",
         "ord_id": "4298187",
         "order_tot": "7694.96"
        },
        {
         "ord_date": "2006-04-10",
         "ord_id": "6316949",
         "order_tot": "5071.04"
        },
        {
         "ord_date": "2006-07-25",
         "ord_id": "1371258",
         "order_tot": "3605.9"
        },
        {
         "ord_date": "2003-03-05",
         "ord_id": "5599657",
         "order_tot": "6252.94"
        },
        {
         "ord_date": "2000-10-18",
         "ord_id": "3602017",
         "order_tot": "3999"
        },
        {
         "ord_date": "2001-06-22",
         "ord_id": "2033150",
         "order_tot": "2799"
        },
        {
         "ord_date": "2018-06-20",
         "ord_id": "2083561",
         "order_tot": "5507.74"
        },
        {
         "ord_date": "2016-03-22",
         "ord_id": "5548478",
         "order_tot": "4170.96"
        },
        {
         "ord_date": "2016-04-30",
         "ord_id": "1252813",
         "order_tot": "3204.59"
        },
        {
         "ord_date": "2001-06-29",
         "ord_id": "7212565",
         "order_tot": "4238.94"
        },
        {
         "ord_date": "2001-10-21",
         "ord_id": "1903089",
         "order_tot": "3689.85"
        },
        {
         "ord_date": "2014-07-23",
         "ord_id": "1594454",
         "order_tot": "6693.46"
        },
        {
         "ord_date": "2013-10-30",
         "ord_id": "5239723",
         "order_tot": "6177"
        },
        {
         "ord_date": "2012-04-28",
         "ord_id": "2797887",
         "order_tot": "8320"
        },
        {
         "ord_date": "2001-02-02",
         "ord_id": "6489426",
         "order_tot": "4252.94"
        },
        {
         "ord_date": "2018-10-16",
         "ord_id": "4500350",
         "order_tot": "2823.73"
        },
        {
         "ord_date": "2007-01-04",
         "ord_id": "3719687",
         "order_tot": "3744"
        },
        {
         "ord_date": "2015-11-09",
         "ord_id": "6684479",
         "order_tot": "4902.1"
        },
        {
         "ord_date": "2009-04-11",
         "ord_id": "1441785",
         "order_tot": "5967.51"
        },
        {
         "ord_date": "2004-04-26",
         "ord_id": "1674559",
         "order_tot": "3799"
        },
        {
         "ord_date": "2004-12-07",
         "ord_id": "3319096",
         "order_tot": "3001.93"
        },
        {
         "ord_date": "2016-11-12",
         "ord_id": "3013798",
         "order_tot": "3961.35"
        },
        {
         "ord_date": "2004-10-02",
         "ord_id": "4489967",
         "order_tot": "4218.95"
        },
        {
         "ord_date": "2000-09-02",
         "ord_id": "2776195",
         "order_tot": "6030.96"
        },
        {
         "ord_date": "2004-12-03",
         "ord_id": "6904641",
         "order_tot": "5718.96"
        },
        {
         "ord_date": "2006-07-04",
         "ord_id": "6957454",
         "order_tot": "3594.44"
        },
        {
         "ord_date": "2006-05-25",
         "ord_id": "6068805",
         "order_tot": "5300"
        },
        {
         "ord_date": "2000-03-04",
         "ord_id": "5709067",
         "order_tot": "5036.05"
        },
        {
         "ord_date": "2008-07-19",
         "ord_id": "2805274",
         "order_tot": "4611"
        },
        {
         "ord_date": "2018-07-31",
         "ord_id": "4054523",
         "order_tot": "5656.41"
        },
        {
         "ord_date": "2019-05-18",
         "ord_id": "4213716",
         "order_tot": "6282.44"
        },
        {
         "ord_date": "2001-07-30",
         "ord_id": "3414490",
         "order_tot": "4470.96"
        },
        {
         "ord_date": "2017-04-17",
         "ord_id": "2026059",
         "order_tot": "4701.43"
        },
        {
         "ord_date": "2011-11-17",
         "ord_id": "4846904",
         "order_tot": "5918.54"
        },
        {
         "ord_date": "2008-01-23",
         "ord_id": "2139823",
         "order_tot": "3585.95"
        },
        {
         "ord_date": "2008-01-05",
         "ord_id": "3719367",
         "order_tot": "5720"
        },
        {
         "ord_date": "2017-08-01",
         "ord_id": "6666642",
         "order_tot": "8258.24"
        },
        {
         "ord_date": "2008-01-15",
         "ord_id": "2947979",
         "order_tot": "4070.86"
        }
       ],
       "schema": {
        "fields": [
         {
          "name": "ord_id"
         },
         {
          "name": "ord_date"
         },
         {
          "name": "order_tot"
         }
        ]
       }
      },
      "text/html": [
       "<table><tr><th>ord_id</th><th>ord_date</th><th>order_tot</th></tr><tr><td>4825298</td><td>2017-03-28</td><td>5275</td></tr><tr><td>7009183</td><td>2010-10-14</td><td>4503.2</td></tr><tr><td>5186311</td><td>2001-05-12</td><td>8073.44</td></tr><tr><td>4274782</td><td>2002-03-19</td><td>3572.2</td></tr><tr><td>2579402</td><td>2012-11-10</td><td>4158.96</td></tr><tr><td>6921547</td><td>2012-02-26</td><td>5006.53</td></tr><tr><td>6707258</td><td>2008-07-03</td><td>5095.44</td></tr><tr><td>2553970</td><td>2002-05-22</td><td>3640</td></tr><tr><td>4160529</td><td>2007-10-08</td><td>3905.39</td></tr><tr><td>5140837</td><td>2003-09-29</td><td>3999</td></tr><tr><td>2715724</td><td>2013-09-05</td><td>5856.44</td></tr><tr><td>4066723</td><td>2019-03-28</td><td>4399</td></tr><tr><td>7151327</td><td>2013-11-27</td><td>6024.08</td></tr><tr><td>1912588</td><td>2010-12-18</td><td>3999</td></tr><tr><td>1449568</td><td>2019-02-25</td><td>4449.9</td></tr><tr><td>5155394</td><td>2011-04-25</td><td>5856.44</td></tr><tr><td>4595626</td><td>2003-06-19</td><td>2066.99</td></tr><tr><td>1895617</td><td>2003-11-07</td><td>8320</td></tr><tr><td>3417447</td><td>2004-10-20</td><td>4685.19</td></tr><tr><td>4533036</td><td>2013-10-18</td><td>1951.75</td></tr><tr><td>5440045</td><td>2010-04-12</td><td>5698.55</td></tr><tr><td>3846551</td><td>2014-03-05</td><td>4640.95</td></tr><tr><td>4679322</td><td>2000-12-26</td><td>4924.75</td></tr><tr><td>5835237</td><td>2004-03-27</td><td>3948.38</td></tr><tr><td>3333624</td><td>2016-01-13</td><td>6252.94</td></tr><tr><td>4305349</td><td>2006-10-03</td><td>6794.27</td></tr><tr><td>4469762</td><td>2008-01-09</td><td>4706.93</td></tr><tr><td>6072149</td><td>2013-05-07</td><td>5736.5</td></tr><tr><td>2016400</td><td>2015-04-10</td><td>4574.96</td></tr><tr><td>3608797</td><td>2008-11-13</td><td>2086.49</td></tr><tr><td>4044365</td><td>2010-09-08</td><td>4982</td></tr><tr><td>2900047</td><td>2008-07-08</td><td>4200</td></tr><tr><td>2588796</td><td>2001-06-08</td><td>4600.99</td></tr><tr><td>3485081</td><td>2014-11-15</td><td>6058.1</td></tr><tr><td>2358239</td><td>2018-06-10</td><td>3199</td></tr><tr><td>7112703</td><td>2009-11-18</td><td>6146.94</td></tr><tr><td>4185159</td><td>2001-03-24</td><td>3399</td></tr><tr><td>1526982</td><td>2002-05-01</td><td>6810.68</td></tr><tr><td>3357050</td><td>2002-03-19</td><td>3807</td></tr><tr><td>6771690</td><td>2010-12-07</td><td>4609</td></tr><tr><td>1911288</td><td>2014-12-16</td><td>4450.94</td></tr><tr><td>1930308</td><td>2004-09-19</td><td>4158.96</td></tr><tr><td>4218977</td><td>2015-04-23</td><td>3798</td></tr><tr><td>5186226</td><td>2012-02-13</td><td>5752.31</td></tr><tr><td>2208177</td><td>2008-11-16</td><td>4664</td></tr><tr><td>5788991</td><td>2009-05-02</td><td>4880.2</td></tr><tr><td>5105818</td><td>2000-10-12</td><td>3672.44</td></tr><tr><td>4157138</td><td>2004-07-08</td><td>5302.96</td></tr><tr><td>3031547</td><td>2013-06-08</td><td>3534.96</td></tr><tr><td>6960628</td><td>2018-10-23</td><td>4797.81</td></tr><tr><td>4054195</td><td>2002-01-25</td><td>5510.94</td></tr><tr><td>3937927</td><td>2017-02-08</td><td>4523.95</td></tr><tr><td>3307281</td><td>2015-08-24</td><td>4416.14</td></tr><tr><td>6585838</td><td>2010-03-09</td><td>5406.96</td></tr><tr><td>3220422</td><td>2004-01-04</td><td>4018.48</td></tr><tr><td>6711968</td><td>2019-05-02</td><td>3999.99</td></tr><tr><td>5065896</td><td>2009-06-06</td><td>4627.9</td></tr><tr><td>3624763</td><td>2006-04-03</td><td>5654.21</td></tr><tr><td>7187392</td><td>2008-03-02</td><td>2797.34</td></tr><tr><td>3364980</td><td>2005-09-07</td><td>2330.94</td></tr><tr><td>3178673</td><td>2006-05-20</td><td>4192.95</td></tr><tr><td>4521021</td><td>2007-02-26</td><td>3430.93</td></tr><tr><td>1539389</td><td>2017-07-21</td><td>3689.85</td></tr><tr><td>6293114</td><td>2011-12-10</td><td>4519.88</td></tr><tr><td>7197660</td><td>2017-06-24</td><td>1932.33</td></tr><tr><td>5305378</td><td>2000-06-01</td><td>6395</td></tr><tr><td>2356703</td><td>2004-09-19</td><td>4543.58</td></tr><tr><td>5242761</td><td>2010-06-06</td><td>4524</td></tr><tr><td>4080696</td><td>2017-08-20</td><td>2199</td></tr><tr><td>3570845</td><td>2011-04-06</td><td>6220.5</td></tr><tr><td>4389481</td><td>2007-06-14</td><td>2350.18</td></tr><tr><td>6953949</td><td>2013-02-15</td><td>6693.46</td></tr><tr><td>2748922</td><td>2014-11-21</td><td>3999</td></tr><tr><td>1409838</td><td>2005-07-25</td><td>4176.96</td></tr><tr><td>4882154</td><td>2007-12-27</td><td>4222.94</td></tr><tr><td>1499647</td><td>2016-09-27</td><td>7399</td></tr><tr><td>5775992</td><td>2007-07-20</td><td>5659.99</td></tr><tr><td>4711571</td><td>2001-05-21</td><td>5591.03</td></tr><tr><td>5687001</td><td>2011-09-16</td><td>5375.99</td></tr><tr><td>6077808</td><td>2010-03-25</td><td>4218.95</td></tr><tr><td>6241665</td><td>2009-01-22</td><td>3602.94</td></tr><tr><td>6047294</td><td>2014-06-16</td><td>8200.49</td></tr><tr><td>3236261</td><td>2001-10-26</td><td>4701.43</td></tr><tr><td>5868564</td><td>2017-10-03</td><td>3399</td></tr><tr><td>5255967</td><td>2006-04-05</td><td>5800</td></tr><tr><td>6894826</td><td>2015-02-13</td><td>4273.93</td></tr><tr><td>3560653</td><td>2011-01-11</td><td>4158.96</td></tr><tr><td>3779453</td><td>2004-06-30</td><td>7757.85</td></tr><tr><td>7311476</td><td>2012-05-20</td><td>3001.93</td></tr><tr><td>2177932</td><td>2016-01-19</td><td>3745</td></tr><tr><td>4205221</td><td>2006-02-22</td><td>3710</td></tr><tr><td>3193964</td><td>2007-06-02</td><td>5609.99</td></tr><tr><td>6464145</td><td>2015-04-07</td><td>7842.94</td></tr><tr><td>5236088</td><td>2015-06-03</td><td>4158.96</td></tr><tr><td>3681241</td><td>2004-05-08</td><td>4611</td></tr><tr><td>1929235</td><td>2001-08-05</td><td>6842.65</td></tr><tr><td>1694460</td><td>2019-07-11</td><td>5995.79</td></tr><tr><td>6755650</td><td>2018-02-01</td><td>4761.39</td></tr><tr><td>2629583</td><td>2008-08-23</td><td>5499</td></tr><tr><td>1458147</td><td>2006-07-25</td><td>2341.94</td></tr><tr><td>5651788</td><td>2000-07-26</td><td>4400</td></tr><tr><td>6556364</td><td>2017-09-23</td><td>4557.99</td></tr><tr><td>3272347</td><td>2005-02-11</td><td>5830</td></tr><tr><td>2845076</td><td>2004-08-27</td><td>3390.94</td></tr><tr><td>3293788</td><td>2014-08-31</td><td>3199</td></tr><tr><td>2679922</td><td>2011-01-08</td><td>4409.79</td></tr><tr><td>3872219</td><td>2003-03-26</td><td>4228.94</td></tr><tr><td>5417203</td><td>2015-10-14</td><td>5967.51</td></tr><tr><td>6976313</td><td>2006-10-07</td><td>4040.24</td></tr><tr><td>3353836</td><td>2006-06-17</td><td>4260.13</td></tr><tr><td>2140430</td><td>2012-08-11</td><td>3401.62</td></tr><tr><td>1724480</td><td>2018-02-17</td><td>4350</td></tr><tr><td>5385043</td><td>2016-11-04</td><td>3195.75</td></tr><tr><td>7372789</td><td>2000-11-24</td><td>4274.2</td></tr><tr><td>2542761</td><td>2017-08-20</td><td>3707.25</td></tr><tr><td>2796751</td><td>2016-10-13</td><td>4300.32</td></tr><tr><td>4706940</td><td>2003-09-14</td><td>6177</td></tr><tr><td>7083064</td><td>2008-02-18</td><td>6134.96</td></tr><tr><td>4366976</td><td>2018-06-18</td><td>5613.65</td></tr><tr><td>2069011</td><td>2000-06-01</td><td>3673.99</td></tr><tr><td>5968744</td><td>2009-03-29</td><td>4433.05</td></tr><tr><td>3984108</td><td>2017-04-17</td><td>4934.8</td></tr><tr><td>4460714</td><td>2017-08-14</td><td>5634.44</td></tr><tr><td>4206987</td><td>2016-05-04</td><td>4238.94</td></tr><tr><td>1332784</td><td>2015-04-27</td><td>4982.82</td></tr><tr><td>7293392</td><td>2005-07-01</td><td>3189.54</td></tr><tr><td>2678429</td><td>2011-06-30</td><td>2752.48</td></tr><tr><td>3758613</td><td>2004-08-30</td><td>5946.59</td></tr><tr><td>5780157</td><td>2015-12-11</td><td>4678.96</td></tr><tr><td>6419973</td><td>2017-11-29</td><td>4685.19</td></tr><tr><td>5046694</td><td>2010-07-13</td><td>3337.44</td></tr><tr><td>1450563</td><td>2003-01-04</td><td>2639</td></tr><tr><td>2357460</td><td>2007-03-14</td><td>1949.99</td></tr><tr><td>4433548</td><td>2015-05-17</td><td>4797.81</td></tr><tr><td>1229905</td><td>2004-07-22</td><td>8065.74</td></tr><tr><td>4464272</td><td>2001-10-07</td><td>4258.94</td></tr><tr><td>4606107</td><td>2014-05-21</td><td>4589.25</td></tr><tr><td>2804411</td><td>2015-10-15</td><td>7842.94</td></tr><tr><td>4332112</td><td>2009-10-18</td><td>4222.94</td></tr><tr><td>1588017</td><td>2005-07-01</td><td>5484.95</td></tr><tr><td>3670818</td><td>2014-12-18</td><td>1961</td></tr><tr><td>3094136</td><td>2011-11-10</td><td>5575.93</td></tr><tr><td>2640087</td><td>2014-03-25</td><td>6238.19</td></tr><tr><td>4860434</td><td>2016-04-16</td><td>5600.41</td></tr><tr><td>5207861</td><td>2016-09-30</td><td>3534.96</td></tr><tr><td>2581918</td><td>2004-04-17</td><td>6590.49</td></tr><tr><td>5635476</td><td>2019-12-11</td><td>3837.48</td></tr><tr><td>5116839</td><td>2000-03-14</td><td>3944.65</td></tr><tr><td>2993361</td><td>2005-10-18</td><td>2084.05</td></tr><tr><td>6860822</td><td>2002-02-16</td><td>4260.13</td></tr><tr><td>4988395</td><td>2013-11-02</td><td>6326.68</td></tr><tr><td>1214458</td><td>2017-04-30</td><td>3989.92</td></tr><tr><td>3452320</td><td>2000-06-15</td><td>3739</td></tr><tr><td>2640611</td><td>2000-03-23</td><td>4470.96</td></tr><tr><td>4302319</td><td>2009-01-08</td><td>2073.81</td></tr><tr><td>6327203</td><td>2010-07-08</td><td>2305.65</td></tr><tr><td>2435589</td><td>2019-12-16</td><td>3406.94</td></tr><tr><td>7116337</td><td>2000-03-26</td><td>5199</td></tr><tr><td>4782718</td><td>2007-02-22</td><td>5720</td></tr><tr><td>5403544</td><td>2011-10-08</td><td>7824.44</td></tr><tr><td>3807617</td><td>2011-12-13</td><td>4258.94</td></tr><tr><td>7357453</td><td>2001-06-05</td><td>5163.28</td></tr><tr><td>4688382</td><td>2019-11-08</td><td>3589.05</td></tr><tr><td>2627387</td><td>2003-07-25</td><td>4471.1</td></tr><tr><td>3085105</td><td>2017-01-23</td><td>6901.19</td></tr><tr><td>2110096</td><td>2006-03-08</td><td>5613.65</td></tr><tr><td>6720608</td><td>2015-06-23</td><td>4273.93</td></tr><tr><td>1999344</td><td>2008-03-13</td><td>4085.14</td></tr><tr><td>4488444</td><td>2000-07-16</td><td>7932.59</td></tr><tr><td>3534753</td><td>2019-02-03</td><td>5000</td></tr><tr><td>2167687</td><td>2005-11-16</td><td>1961</td></tr><tr><td>7181850</td><td>2016-01-30</td><td>5484.95</td></tr><tr><td>7194135</td><td>2006-08-13</td><td>3692.5</td></tr><tr><td>5467093</td><td>2009-02-01</td><td>4627.9</td></tr><tr><td>6984363</td><td>2015-05-30</td><td>1949.99</td></tr><tr><td>1378848</td><td>2011-01-30</td><td>4983.14</td></tr><tr><td>1527511</td><td>2018-03-05</td><td>4250</td></tr><tr><td>6275886</td><td>2017-10-11</td><td>5451.15</td></tr><tr><td>3670757</td><td>2009-04-06</td><td>4449.9</td></tr><tr><td>2614702</td><td>2002-08-21</td><td>5200</td></tr><tr><td>3143426</td><td>2008-09-26</td><td>6032</td></tr><tr><td>2201303</td><td>2005-06-26</td><td>4260.13</td></tr><tr><td>2501172</td><td>2007-10-12</td><td>6842.65</td></tr><tr><td>3087147</td><td>2012-06-20</td><td>4694.64</td></tr><tr><td>2867041</td><td>2015-09-01</td><td>3888.56</td></tr><tr><td>2419990</td><td>2004-08-19</td><td>3064</td></tr><tr><td>2160272</td><td>2018-05-02</td><td>4504.5</td></tr><tr><td>3400275</td><td>2011-04-14</td><td>4982</td></tr><tr><td>4646893</td><td>2014-03-18</td><td>4578.44</td></tr><tr><td>5642393</td><td>2019-10-22</td><td>3707.25</td></tr><tr><td>1908873</td><td>2012-02-17</td><td>6901.19</td></tr><tr><td>5164194</td><td>2003-12-12</td><td>3433.72</td></tr><tr><td>6439301</td><td>2010-09-25</td><td>4662.94</td></tr><tr><td>1127847</td><td>2010-02-24</td><td>3753.75</td></tr><tr><td>2587112</td><td>2011-04-27</td><td>3739</td></tr><tr><td>5083172</td><td>2007-10-22</td><td>3799</td></tr><tr><td>2443041</td><td>2010-11-04</td><td>6185.1</td></tr><tr><td>2379845</td><td>2000-07-26</td><td>4238.94</td></tr><tr><td>1355067</td><td>2014-02-14</td><td>2066.99</td></tr><tr><td>4854266</td><td>2006-06-04</td><td>4238.94</td></tr><tr><td>1287086</td><td>2010-12-29</td><td>8019.6</td></tr><tr><td>2791283</td><td>2000-03-25</td><td>4557.99</td></tr><tr><td>5802219</td><td>2004-04-12</td><td>6185.1</td></tr><tr><td>3891025</td><td>2006-02-17</td><td>4662.94</td></tr><tr><td>6101377</td><td>2003-01-06</td><td>5023.13</td></tr><tr><td>4003357</td><td>2005-03-27</td><td>8000</td></tr><tr><td>5541384</td><td>2007-11-25</td><td>4654.5</td></tr><tr><td>1306701</td><td>2008-08-08</td><td>7399</td></tr><tr><td>4921354</td><td>2002-11-03</td><td>3689.85</td></tr><tr><td>3877491</td><td>2008-11-05</td><td>4060.18</td></tr><tr><td>6529601</td><td>2006-07-05</td><td>4064.93</td></tr><tr><td>1391031</td><td>2002-03-09</td><td>4611.74</td></tr><tr><td>3525004</td><td>2001-04-01</td><td>5497.94</td></tr><tr><td>7227128</td><td>2019-11-04</td><td>4017.44</td></tr><tr><td>4751917</td><td>2008-04-09</td><td>5242.5</td></tr><tr><td>1517524</td><td>2013-06-27</td><td>3189.54</td></tr><tr><td>5036956</td><td>2005-04-16</td><td>4662.94</td></tr><tr><td>6411985</td><td>2002-10-13</td><td>4218.95</td></tr><tr><td>4905979</td><td>2007-02-19</td><td>3378.14</td></tr><tr><td>1932274</td><td>2011-11-21</td><td>3999</td></tr><tr><td>3896243</td><td>2003-10-15</td><td>4386.9</td></tr><tr><td>4650540</td><td>2006-09-08</td><td>8480</td></tr><tr><td>1430404</td><td>2009-12-21</td><td>4640.95</td></tr><tr><td>4332918</td><td>2008-08-12</td><td>3545.16</td></tr><tr><td>1895438</td><td>2010-08-07</td><td>4574.96</td></tr><tr><td>1977607</td><td>2007-08-21</td><td>8123.49</td></tr><tr><td>3956821</td><td>2016-12-15</td><td>3232.52</td></tr><tr><td>2764320</td><td>2019-05-07</td><td>2286.96</td></tr><tr><td>6965544</td><td>2015-04-01</td><td>3645.43</td></tr><tr><td>6923896</td><td>2000-10-11</td><td>4808.31</td></tr><tr><td>3263076</td><td>2013-05-10</td><td>1961</td></tr><tr><td>6651903</td><td>2011-10-01</td><td>4159.99</td></tr><tr><td>7285715</td><td>2008-03-09</td><td>3861</td></tr><tr><td>3833965</td><td>2007-03-25</td><td>2980.94</td></tr><tr><td>3373348</td><td>2002-11-24</td><td>4679</td></tr><tr><td>3303969</td><td>2011-02-15</td><td>4366.96</td></tr><tr><td>5838540</td><td>2002-09-26</td><td>3337.44</td></tr><tr><td>5001562</td><td>2006-07-03</td><td>5575.93</td></tr><tr><td>3860793</td><td>2010-04-15</td><td>4199</td></tr><tr><td>6462098</td><td>2006-08-13</td><td>6132.44</td></tr><tr><td>5054748</td><td>2015-10-04</td><td>3720.31</td></tr><tr><td>3190336</td><td>2018-02-15</td><td>3337.44</td></tr><tr><td>1306218</td><td>2005-10-29</td><td>4982.82</td></tr><tr><td>6181221</td><td>2001-06-13</td><td>4557.99</td></tr><tr><td>1633362</td><td>2008-03-09</td><td>4470.96</td></tr><tr><td>3048140</td><td>2000-11-18</td><td>3189.54</td></tr><tr><td>4560641</td><td>2009-02-06</td><td>8000.69</td></tr><tr><td>6595312</td><td>2008-09-10</td><td>4866.16</td></tr><tr><td>2230820</td><td>2012-03-18</td><td>4288.93</td></tr><tr><td>2051970</td><td>2005-07-28</td><td>5631.35</td></tr><tr><td>3032913</td><td>2004-08-06</td><td>4060.18</td></tr><tr><td>2972077</td><td>2011-03-06</td><td>3876.06</td></tr><tr><td>3501159</td><td>2004-07-28</td><td>5049.19</td></tr><tr><td>2965867</td><td>2005-07-15</td><td>4158.96</td></tr><tr><td>6944794</td><td>2000-08-26</td><td>5932.56</td></tr><tr><td>2483119</td><td>2004-09-20</td><td>4526.25</td></tr><tr><td>4139607</td><td>2008-03-02</td><td>4179.75</td></tr><tr><td>4601068</td><td>2012-09-15</td><td>3429.7</td></tr><tr><td>1434425</td><td>2012-10-30</td><td>5656.41</td></tr><tr><td>2300238</td><td>2006-07-04</td><td>4982</td></tr><tr><td>2653183</td><td>2019-10-06</td><td>4665.38</td></tr><tr><td>4437977</td><td>2019-11-07</td><td>5834.39</td></tr><tr><td>3948580</td><td>2005-11-28</td><td>4007.95</td></tr><tr><td>4733459</td><td>2019-03-21</td><td>3189.54</td></tr><tr><td>2834231</td><td>2004-03-02</td><td>5717.37</td></tr><tr><td>3417805</td><td>2002-05-31</td><td>3401.62</td></tr><tr><td>7278491</td><td>2003-03-25</td><td>4947.98</td></tr><tr><td>3759584</td><td>2011-08-01</td><td>5510.94</td></tr><tr><td>6680852</td><td>2019-02-10</td><td>7694.96</td></tr><tr><td>7046967</td><td>2009-01-01</td><td>8388</td></tr><tr><td>6107890</td><td>2011-01-07</td><td>5614.67</td></tr><tr><td>4461691</td><td>2007-09-08</td><td>2293.56</td></tr><tr><td>5803492</td><td>2010-04-26</td><td>6167.24</td></tr><tr><td>4352288</td><td>2018-04-06</td><td>2084.05</td></tr><tr><td>3485404</td><td>2010-12-10</td><td>4854.99</td></tr><tr><td>4862907</td><td>2016-06-30</td><td>3666.25</td></tr><tr><td>2657733</td><td>2013-04-20</td><td>6282.44</td></tr><tr><td>6261926</td><td>2011-01-14</td><td>2293.56</td></tr><tr><td>5866376</td><td>2012-07-04</td><td>4982.82</td></tr><tr><td>4939400</td><td>2004-07-26</td><td>6801.08</td></tr><tr><td>2309937</td><td>2005-07-05</td><td>4227.99</td></tr><tr><td>1603961</td><td>2009-10-29</td><td>8161.99</td></tr><tr><td>4028110</td><td>2006-12-04</td><td>5679.85</td></tr><tr><td>6819487</td><td>2003-10-09</td><td>5636.73</td></tr><tr><td>4808218</td><td>2012-11-04</td><td>4218.95</td></tr><tr><td>4207539</td><td>2000-08-03</td><td>5671.67</td></tr><tr><td>2528663</td><td>2003-06-04</td><td>4450.94</td></tr><tr><td>3600012</td><td>2018-02-20</td><td>3820.95</td></tr><tr><td>2308440</td><td>2000-06-01</td><td>7868.29</td></tr><tr><td>1902014</td><td>2015-08-27</td><td>4941.03</td></tr><tr><td>4619675</td><td>2005-01-14</td><td>3219.63</td></tr><tr><td>6181270</td><td>2012-12-17</td><td>5882.07</td></tr><tr><td>5042723</td><td>2002-03-29</td><td>8085.8</td></tr><tr><td>5497244</td><td>2006-04-28</td><td>3894.43</td></tr><tr><td>6779542</td><td>2007-10-27</td><td>4962.41</td></tr><tr><td>5496005</td><td>2001-11-24</td><td>4723.48</td></tr><tr><td>3737347</td><td>2006-01-20</td><td>5698.55</td></tr><tr><td>2129769</td><td>2010-01-05</td><td>4692.46</td></tr><tr><td>2341412</td><td>2016-05-19</td><td>4962.41</td></tr><tr><td>7311961</td><td>2000-07-07</td><td>5199</td></tr><tr><td>3365087</td><td>2012-04-20</td><td>3950.96</td></tr><tr><td>5872629</td><td>2014-09-01</td><td>5375.99</td></tr><tr><td>2831374</td><td>2012-04-07</td><td>7717.16</td></tr><tr><td>1146371</td><td>2017-10-08</td><td>3894.43</td></tr><tr><td>6120639</td><td>2008-10-09</td><td>7728.26</td></tr><tr><td>7145124</td><td>2006-08-15</td><td>4278.93</td></tr><tr><td>3674532</td><td>2000-09-08</td><td>5857.5</td></tr><tr><td>6990345</td><td>2019-12-13</td><td>4716.89</td></tr><tr><td>1544577</td><td>2010-03-20</td><td>4959.74</td></tr><tr><td>3503462</td><td>2001-01-26</td><td>4075.62</td></tr><tr><td>5676049</td><td>2012-04-19</td><td>4299</td></tr><tr><td>2925649</td><td>2000-09-17</td><td>4732.47</td></tr><tr><td>1205837</td><td>2003-12-01</td><td>4982.82</td></tr><tr><td>3907399</td><td>2001-12-06</td><td>4982</td></tr><tr><td>5454867</td><td>2007-11-15</td><td>4768.94</td></tr><tr><td>2774446</td><td>2007-12-19</td><td>6842.65</td></tr><tr><td>7265969</td><td>2011-08-04</td><td>6148</td></tr><tr><td>4463150</td><td>2013-11-04</td><td>2341.94</td></tr><tr><td>3577440</td><td>2017-10-14</td><td>1961</td></tr><tr><td>3953637</td><td>2012-02-02</td><td>2744.56</td></tr><tr><td>2784505</td><td>2000-05-11</td><td>2952.95</td></tr><tr><td>3763197</td><td>2009-06-15</td><td>5591.03</td></tr><tr><td>6271213</td><td>2009-10-03</td><td>6615.45</td></tr><tr><td>5026658</td><td>2007-12-08</td><td>3983.25</td></tr><tr><td>2358499</td><td>2015-11-01</td><td>4026.94</td></tr><tr><td>4610926</td><td>2008-05-07</td><td>3560.45</td></tr><tr><td>5884847</td><td>2010-09-14</td><td>4971.21</td></tr><tr><td>5644109</td><td>2012-01-15</td><td>4238.94</td></tr><tr><td>3992337</td><td>2008-10-29</td><td>5800</td></tr><tr><td>3869814</td><td>2006-07-22</td><td>4752.76</td></tr><tr><td>6960612</td><td>2003-11-20</td><td>4678.96</td></tr><tr><td>4937479</td><td>2002-03-15</td><td>4050.86</td></tr><tr><td>4065119</td><td>2010-03-20</td><td>4177.99</td></tr><tr><td>6085831</td><td>2017-11-06</td><td>5918.54</td></tr><tr><td>4414431</td><td>2002-01-28</td><td>5801.45</td></tr><tr><td>3864544</td><td>2012-06-29</td><td>3558.72</td></tr><tr><td>6285551</td><td>2016-08-23</td><td>4539.74</td></tr><tr><td>6356161</td><td>2004-02-06</td><td>5122.01</td></tr><tr><td>5373267</td><td>2003-11-17</td><td>4179.75</td></tr><tr><td>1273816</td><td>2008-01-15</td><td>8258.24</td></tr><tr><td>3828345</td><td>2015-04-21</td><td>4199</td></tr><tr><td>5136786</td><td>2011-09-13</td><td>5006.53</td></tr><tr><td>4661003</td><td>2015-04-21</td><td>4934.8</td></tr><tr><td>2237269</td><td>2002-12-25</td><td>5830</td></tr><tr><td>5448154</td><td>2017-01-20</td><td>4699.21</td></tr><tr><td>2419545</td><td>2012-10-30</td><td>4526.25</td></tr><tr><td>4531520</td><td>2006-05-09</td><td>3689.85</td></tr><tr><td>2626295</td><td>2007-12-20</td><td>6134.96</td></tr><tr><td>4214996</td><td>2005-05-06</td><td>6252.94</td></tr><tr><td>3712934</td><td>2012-03-10</td><td>4274.2</td></tr><tr><td>3524585</td><td>2009-09-28</td><td>5017.84</td></tr><tr><td>1361232</td><td>2017-12-02</td><td>4487.68</td></tr><tr><td>5851780</td><td>2000-10-05</td><td>3429.7</td></tr><tr><td>5735100</td><td>2001-10-02</td><td>4026.94</td></tr><tr><td>6837701</td><td>2011-03-14</td><td>4192.95</td></tr><tr><td>1849078</td><td>2002-12-17</td><td>3500</td></tr><tr><td>4130135</td><td>2002-10-01</td><td>7842.94</td></tr><tr><td>2217655</td><td>2002-02-22</td><td>2091.36</td></tr><tr><td>3762348</td><td>2010-07-18</td><td>4199</td></tr><tr><td>6810609</td><td>2019-05-05</td><td>5049.19</td></tr><tr><td>1588061</td><td>2000-09-16</td><td>8460</td></tr><tr><td>3015647</td><td>2019-03-17</td><td>6175.94</td></tr><tr><td>2747613</td><td>2019-03-07</td><td>3950.96</td></tr><tr><td>4449585</td><td>2019-04-12</td><td>4982</td></tr><tr><td>1301608</td><td>2007-02-03</td><td>6311.93</td></tr><tr><td>1636048</td><td>2016-06-27</td><td>3999</td></tr><tr><td>3801334</td><td>2014-07-01</td><td>4238.94</td></tr><tr><td>1529016</td><td>2009-08-30</td><td>4238.94</td></tr><tr><td>3280171</td><td>2006-09-09</td><td>4240.03</td></tr><tr><td>7008254</td><td>2009-12-24</td><td>4192.95</td></tr><tr><td>2382046</td><td>2019-11-02</td><td>4784.69</td></tr><tr><td>2421693</td><td>2000-11-19</td><td>4487.68</td></tr><tr><td>2592405</td><td>2009-12-28</td><td>7399</td></tr><tr><td>2052365</td><td>2019-05-10</td><td>3950.96</td></tr><tr><td>6223785</td><td>2016-12-15</td><td>5499</td></tr><tr><td>3767062</td><td>2015-04-05</td><td>4158.96</td></tr><tr><td>6466943</td><td>2016-03-30</td><td>6032</td></tr><tr><td>4791962</td><td>2004-03-05</td><td>4238.94</td></tr><tr><td>4839789</td><td>2005-11-22</td><td>2319.95</td></tr><tr><td>2049307</td><td>2000-11-06</td><td>2910.96</td></tr><tr><td>5231753</td><td>2017-06-14</td><td>4600.99</td></tr><tr><td>5172140</td><td>2012-12-16</td><td>3799</td></tr><tr><td>3335994</td><td>2018-07-10</td><td>5317.5</td></tr><tr><td>1477139</td><td>2000-10-13</td><td>6778.7</td></tr><tr><td>5334387</td><td>2017-07-18</td><td>5200</td></tr><tr><td>1462501</td><td>2005-10-16</td><td>6858.64</td></tr><tr><td>3459711</td><td>2005-02-26</td><td>4200</td></tr><tr><td>5803731</td><td>2006-06-30</td><td>4250</td></tr><tr><td>7146033</td><td>2014-03-27</td><td>5200</td></tr><tr><td>2686012</td><td>2017-02-21</td><td>3820.95</td></tr><tr><td>7187578</td><td>2013-12-06</td><td>1924</td></tr><tr><td>4578037</td><td>2014-11-05</td><td>4831.83</td></tr><tr><td>4160912</td><td>2009-07-27</td><td>4775.29</td></tr><tr><td>2214446</td><td>2014-06-18</td><td>4752.76</td></tr><tr><td>4176801</td><td>2016-03-23</td><td>3500</td></tr><tr><td>3938629</td><td>2018-04-14</td><td>3199</td></tr><tr><td>2055683</td><td>2010-03-13</td><td>4460.53</td></tr><tr><td>4207952</td><td>2005-11-06</td><td>4981.41</td></tr><tr><td>3672680</td><td>2001-05-12</td><td>4662.94</td></tr><tr><td>4043884</td><td>2018-11-15</td><td>4026.94</td></tr><tr><td>3446980</td><td>2001-07-27</td><td>6030.96</td></tr><tr><td>4251083</td><td>2010-03-26</td><td>4526.25</td></tr><tr><td>5039118</td><td>2011-01-18</td><td>4177.99</td></tr><tr><td>3820920</td><td>2011-08-04</td><td>4547.24</td></tr><tr><td>6427555</td><td>2015-12-14</td><td>5974.64</td></tr><tr><td>2113844</td><td>2015-03-28</td><td>3632.68</td></tr><tr><td>3291924</td><td>2018-12-29</td><td>3962.36</td></tr><tr><td>5246931</td><td>2012-05-25</td><td>3385.58</td></tr><tr><td>2240360</td><td>2015-09-26</td><td>4594.76</td></tr><tr><td>6675691</td><td>2000-01-14</td><td>5745.59</td></tr><tr><td>4488404</td><td>2014-03-12</td><td>2066.99</td></tr><tr><td>6964456</td><td>2018-07-25</td><td>6698.76</td></tr><tr><td>7225076</td><td>2001-08-05</td><td>4845.77</td></tr><tr><td>4208799</td><td>2007-03-31</td><td>2073.81</td></tr><tr><td>6158947</td><td>2019-05-16</td><td>4170.96</td></tr><tr><td>6786039</td><td>2016-02-22</td><td>4499</td></tr><tr><td>6058763</td><td>2001-09-30</td><td>4176.96</td></tr><tr><td>4841909</td><td>2015-12-25</td><td>3402.14</td></tr><tr><td>5514722</td><td>2006-11-18</td><td>6778.7</td></tr><tr><td>5465904</td><td>2018-03-23</td><td>3999</td></tr><tr><td>1384208</td><td>2000-03-30</td><td>3799</td></tr><tr><td>3367016</td><td>2016-05-30</td><td>6282.44</td></tr><tr><td>6675832</td><td>2011-09-13</td><td>3999</td></tr><tr><td>6713954</td><td>2012-12-06</td><td>3963.34</td></tr><tr><td>2774572</td><td>2004-07-07</td><td>1984.13</td></tr><tr><td>4101862</td><td>2002-02-17</td><td>6842.65</td></tr><tr><td>2369958</td><td>2019-10-15</td><td>5089.01</td></tr><tr><td>3886172</td><td>2007-04-22</td><td>3326.96</td></tr><tr><td>4889545</td><td>2014-12-15</td><td>3798</td></tr><tr><td>2380664</td><td>2003-01-11</td><td>4260.13</td></tr><tr><td>1798847</td><td>2001-07-14</td><td>4645.99</td></tr><tr><td>4821192</td><td>2002-02-26</td><td>4449.9</td></tr><tr><td>5670932</td><td>2014-03-01</td><td>4450.94</td></tr><tr><td>6848326</td><td>2001-08-01</td><td>2066.99</td></tr><tr><td>7207824</td><td>2015-09-22</td><td>5529.14</td></tr><tr><td>2067116</td><td>2019-02-23</td><td>6223.45</td></tr><tr><td>6246934</td><td>2005-08-08</td><td>3258.56</td></tr><tr><td>5234755</td><td>2006-03-12</td><td>8114.17</td></tr><tr><td>5472777</td><td>2014-07-06</td><td>3500</td></tr><tr><td>4493102</td><td>2008-01-10</td><td>6739.19</td></tr><tr><td>2687185</td><td>2012-05-23</td><td>4450.94</td></tr><tr><td>5821289</td><td>2012-10-17</td><td>5040.75</td></tr><tr><td>2808624</td><td>2009-05-14</td><td>3879.73</td></tr><tr><td>4199323</td><td>2011-05-07</td><td>5801.45</td></tr><tr><td>6412341</td><td>2009-08-07</td><td>7805.95</td></tr><tr><td>3619484</td><td>2003-01-12</td><td>4854.99</td></tr><tr><td>4833388</td><td>2006-09-24</td><td>3799</td></tr><tr><td>3691747</td><td>2001-01-27</td><td>4239.99</td></tr><tr><td>1172361</td><td>2016-01-21</td><td>5609.99</td></tr><tr><td>6864350</td><td>2010-11-08</td><td>4050.86</td></tr><tr><td>5357833</td><td>2003-06-13</td><td>4170.96</td></tr><tr><td>1246462</td><td>2007-07-25</td><td>4213.91</td></tr><tr><td>3442266</td><td>2018-11-08</td><td>6650.8</td></tr><tr><td>1140771</td><td>2014-11-08</td><td>4026.94</td></tr><tr><td>5234282</td><td>2017-11-21</td><td>4379.56</td></tr><tr><td>6742978</td><td>2018-12-30</td><td>4252.94</td></tr><tr><td>5709935</td><td>2003-06-18</td><td>4218.95</td></tr><tr><td>4209890</td><td>2007-10-05</td><td>4757.27</td></tr><tr><td>6185199</td><td>2012-01-03</td><td>6252.94</td></tr><tr><td>5787053</td><td>2015-03-23</td><td>4745</td></tr><tr><td>2548837</td><td>2019-06-18</td><td>4218.95</td></tr><tr><td>2818640</td><td>2013-12-10</td><td>3979.45</td></tr><tr><td>2927778</td><td>2016-08-09</td><td>3186.56</td></tr><tr><td>3116201</td><td>2000-07-03</td><td>2784.15</td></tr><tr><td>6273327</td><td>2013-03-09</td><td>7842.94</td></tr><tr><td>2168680</td><td>2016-01-26</td><td>4772.52</td></tr><tr><td>5396896</td><td>2018-04-20</td><td>4573.04</td></tr><tr><td>5037972</td><td>2000-05-26</td><td>8085.8</td></tr><tr><td>7246407</td><td>2011-07-07</td><td>4866.67</td></tr><tr><td>6383954</td><td>2012-09-11</td><td>3799</td></tr><tr><td>2722756</td><td>2002-12-14</td><td>3533.45</td></tr><tr><td>3018905</td><td>2012-04-14</td><td>3876.06</td></tr><tr><td>5130549</td><td>2009-10-07</td><td>3701.25</td></tr><tr><td>3538702</td><td>2006-04-10</td><td>3820.95</td></tr><tr><td>1769703</td><td>2012-03-27</td><td>4238.94</td></tr><tr><td>3962687</td><td>2015-11-17</td><td>2797.34</td></tr><tr><td>1229180</td><td>2016-10-06</td><td>4397.11</td></tr><tr><td>3369203</td><td>2011-05-12</td><td>3710</td></tr><tr><td>4731252</td><td>2004-12-09</td><td>6646.65</td></tr><tr><td>6791181</td><td>2014-04-08</td><td>4429.95</td></tr><tr><td>6939168</td><td>2009-02-01</td><td>3799</td></tr><tr><td>6854408</td><td>2016-03-01</td><td>2744.56</td></tr><tr><td>6482725</td><td>2016-06-04</td><td>6615.45</td></tr><tr><td>6831036</td><td>2018-06-25</td><td>4000.73</td></tr><tr><td>3279679</td><td>2004-02-02</td><td>4350</td></tr><tr><td>5210057</td><td>2003-05-26</td><td>6175.94</td></tr><tr><td>5633060</td><td>2007-05-13</td><td>5350</td></tr><tr><td>6762728</td><td>2004-07-15</td><td>4750.99</td></tr><tr><td>2097092</td><td>2018-08-16</td><td>4238.94</td></tr><tr><td>4455545</td><td>2011-06-04</td><td>1850</td></tr><tr><td>2940056</td><td>2015-06-24</td><td>4428.82</td></tr><tr><td>3496272</td><td>2009-05-09</td><td>6753.12</td></tr><tr><td>6747341</td><td>2001-05-13</td><td>5422.56</td></tr><tr><td>4657920</td><td>2012-03-09</td><td>4288.93</td></tr><tr><td>5090258</td><td>2010-01-11</td><td>1961</td></tr><tr><td>1636234</td><td>2006-06-24</td><td>4535.45</td></tr><tr><td>4719022</td><td>2008-03-15</td><td>4627.9</td></tr><tr><td>6978783</td><td>2003-08-09</td><td>3138.39</td></tr><tr><td>1273630</td><td>2014-05-24</td><td>4199</td></tr><tr><td>4260411</td><td>2012-09-30</td><td>4571.99</td></tr><tr><td>5892291</td><td>2014-11-25</td><td>6177</td></tr><tr><td>4913089</td><td>2005-04-22</td><td>4450.94</td></tr><tr><td>6015635</td><td>2010-10-17</td><td>4588.16</td></tr><tr><td>4448635</td><td>2003-03-05</td><td>5677.05</td></tr><tr><td>3613935</td><td>2005-01-13</td><td>4739.14</td></tr><tr><td>4031996</td><td>2003-07-20</td><td>3585.95</td></tr><tr><td>2028513</td><td>2017-01-19</td><td>8238.99</td></tr><tr><td>6100898</td><td>2011-12-06</td><td>3799</td></tr><tr><td>1733812</td><td>2013-11-07</td><td>4158.96</td></tr><tr><td>7148611</td><td>2016-08-03</td><td>3274.65</td></tr><tr><td>6093441</td><td>2005-10-17</td><td>4496.47</td></tr><tr><td>1388801</td><td>2014-05-05</td><td>4218.95</td></tr><tr><td>7098092</td><td>2017-12-19</td><td>4746.45</td></tr><tr><td>1924372</td><td>2015-05-23</td><td>7813.34</td></tr><tr><td>3572324</td><td>2011-04-20</td><td>3247.84</td></tr><tr><td>5029172</td><td>2019-04-09</td><td>4000.73</td></tr><tr><td>1470833</td><td>2018-08-25</td><td>4524</td></tr><tr><td>4519696</td><td>2016-07-21</td><td>3605.9</td></tr><tr><td>4723877</td><td>2014-06-19</td><td>4641.25</td></tr><tr><td>4999938</td><td>2005-07-20</td><td>8123.49</td></tr><tr><td>4479302</td><td>2014-07-17</td><td>3186.56</td></tr><tr><td>6133719</td><td>2008-01-05</td><td>4238.94</td></tr><tr><td>4708157</td><td>2016-09-29</td><td>3174.5</td></tr><tr><td>4923506</td><td>2018-02-05</td><td>2639</td></tr><tr><td>1650104</td><td>2004-06-15</td><td>5575.93</td></tr><tr><td>3523424</td><td>2006-04-24</td><td>3619.94</td></tr><tr><td>1882503</td><td>2008-07-06</td><td>3589.05</td></tr><tr><td>5542779</td><td>2009-10-20</td><td>3894.43</td></tr><tr><td>1304561</td><td>2010-12-10</td><td>5300</td></tr><tr><td>6027084</td><td>2010-09-26</td><td>5685.11</td></tr><tr><td>2187369</td><td>2004-12-04</td><td>4288.93</td></tr><tr><td>6525498</td><td>2002-04-14</td><td>4679.4</td></tr><tr><td>4406804</td><td>2008-03-06</td><td>4481.67</td></tr><tr><td>1500489</td><td>2009-06-10</td><td>3594.44</td></tr><tr><td>3480213</td><td>2008-09-29</td><td>4983.14</td></tr><tr><td>5923911</td><td>2018-01-03</td><td>4227.99</td></tr><tr><td>5335195</td><td>2000-04-13</td><td>4158.96</td></tr><tr><td>1551985</td><td>2013-02-03</td><td>4466.7</td></tr><tr><td>3573660</td><td>2009-09-18</td><td>4278.93</td></tr><tr><td>3150922</td><td>2013-07-06</td><td>3940.35</td></tr><tr><td>7093023</td><td>2010-06-22</td><td>3944.65</td></tr><tr><td>5305023</td><td>2000-09-29</td><td>8073.44</td></tr><tr><td>2690647</td><td>2006-03-14</td><td>5005.98</td></tr><tr><td>4651685</td><td>2017-09-02</td><td>4350</td></tr><tr><td>3570977</td><td>2013-03-14</td><td>4665.72</td></tr><tr><td>3245169</td><td>2006-06-12</td><td>4481.67</td></tr><tr><td>6981719</td><td>2005-01-31</td><td>5717.37</td></tr><tr><td>5528311</td><td>2001-01-07</td><td>3816</td></tr><tr><td>3891860</td><td>2014-06-01</td><td>4579.49</td></tr><tr><td>5326545</td><td>2010-09-30</td><td>6778.7</td></tr><tr><td>1455039</td><td>2019-02-24</td><td>4238.94</td></tr><tr><td>3573989</td><td>2017-07-16</td><td>4473</td></tr><tr><td>4807740</td><td>2018-10-07</td><td>4654.5</td></tr><tr><td>6014487</td><td>2011-06-16</td><td>4209.89</td></tr><tr><td>5408819</td><td>2012-03-25</td><td>4866.16</td></tr><tr><td>7308341</td><td>2014-05-15</td><td>4037.53</td></tr><tr><td>3563869</td><td>2014-08-02</td><td>4399</td></tr><tr><td>5833318</td><td>2017-06-13</td><td>3274.65</td></tr><tr><td>6327006</td><td>2000-02-28</td><td>6032</td></tr><tr><td>3972753</td><td>2011-03-09</td><td>6395</td></tr><tr><td>4811446</td><td>2018-01-25</td><td>4662.94</td></tr><tr><td>6931090</td><td>2005-06-11</td><td>5271.99</td></tr><tr><td>5705414</td><td>2013-01-12</td><td>8000.69</td></tr><tr><td>1636222</td><td>2004-09-12</td><td>7694.96</td></tr><tr><td>6607676</td><td>2012-06-30</td><td>5567.22</td></tr><tr><td>2325289</td><td>2012-04-01</td><td>5828.94</td></tr><tr><td>2555784</td><td>2012-08-22</td><td>5591.03</td></tr><tr><td>7150691</td><td>2018-02-26</td><td>6146.94</td></tr><tr><td>3335955</td><td>2015-04-02</td><td>4064.93</td></tr><tr><td>3427894</td><td>2002-11-10</td><td>4547.24</td></tr><tr><td>1383811</td><td>2005-11-25</td><td>6273.59</td></tr><tr><td>2528103</td><td>2018-02-08</td><td>4959.74</td></tr><tr><td>7066356</td><td>2007-01-22</td><td>6238.19</td></tr><tr><td>5696072</td><td>2008-04-11</td><td>4310.37</td></tr><tr><td>6373767</td><td>2005-03-01</td><td>4982</td></tr><tr><td>4983918</td><td>2006-03-24</td><td>3816</td></tr><tr><td>4706253</td><td>2007-11-30</td><td>5760.2</td></tr><tr><td>3271044</td><td>2017-11-04</td><td>3247.84</td></tr><tr><td>2018377</td><td>2018-07-12</td><td>5885</td></tr><tr><td>1534284</td><td>2015-12-28</td><td>4368</td></tr><tr><td>3349886</td><td>2011-12-23</td><td>4295.3</td></tr><tr><td>6321524</td><td>2004-07-19</td><td>4594.56</td></tr><tr><td>2147989</td><td>2004-11-04</td><td>3999</td></tr><tr><td>2484916</td><td>2001-11-03</td><td>4026.94</td></tr><tr><td>7186061</td><td>2005-05-19</td><td>4503.43</td></tr><tr><td>3784718</td><td>2013-01-05</td><td>4238.94</td></tr><tr><td>4368387</td><td>2000-05-04</td><td>3417.67</td></tr><tr><td>6604948</td><td>2009-04-12</td><td>3999</td></tr><tr><td>4443535</td><td>2001-07-05</td><td>3710</td></tr><tr><td>5962075</td><td>2015-10-27</td><td>3337.44</td></tr><tr><td>6909016</td><td>2009-09-13</td><td>5126.87</td></tr><tr><td>7011789</td><td>2015-04-03</td><td>4708</td></tr><tr><td>2986704</td><td>2011-12-05</td><td>6024.08</td></tr><tr><td>6702155</td><td>2005-09-03</td><td>2057.24</td></tr><tr><td>7320941</td><td>2007-06-23</td><td>4600.13</td></tr><tr><td>1137722</td><td>2005-01-05</td><td>3500</td></tr><tr><td>3740745</td><td>2017-04-15</td><td>8448</td></tr><tr><td>4901577</td><td>2017-07-25</td><td>3999</td></tr><tr><td>6243253</td><td>2012-04-21</td><td>2296.86</td></tr><tr><td>6949188</td><td>2004-11-20</td><td>5206.98</td></tr><tr><td>3635772</td><td>2005-03-15</td><td>3572.2</td></tr><tr><td>4393068</td><td>2007-10-13</td><td>4368</td></tr><tr><td>5883659</td><td>2016-08-27</td><td>6282.44</td></tr><tr><td>1265070</td><td>2009-01-04</td><td>4679</td></tr><tr><td>5117452</td><td>2016-10-13</td><td>3999</td></tr><tr><td>3192604</td><td>2000-07-23</td><td>4250</td></tr><tr><td>4949218</td><td>2008-04-24</td><td>4278.93</td></tr><tr><td>6467378</td><td>2019-07-27</td><td>5325</td></tr><tr><td>2568174</td><td>2013-03-20</td><td>4158.96</td></tr><tr><td>6704361</td><td>2012-04-28</td><td>3326.96</td></tr><tr><td>5640940</td><td>2012-11-06</td><td>2341.94</td></tr><tr><td>4215702</td><td>2011-12-08</td><td>4543.58</td></tr><tr><td>2446168</td><td>2010-12-21</td><td>5636.73</td></tr><tr><td>3881193</td><td>2001-09-08</td><td>5995.79</td></tr><tr><td>3058523</td><td>2000-06-04</td><td>4574.96</td></tr><tr><td>1678526</td><td>2011-06-02</td><td>5300</td></tr><tr><td>6397713</td><td>2016-09-25</td><td>4022.29</td></tr><tr><td>2303576</td><td>2005-05-07</td><td>6746.73</td></tr><tr><td>3048373</td><td>2018-11-05</td><td>2341.94</td></tr><tr><td>6386246</td><td>2016-10-20</td><td>5040.75</td></tr><tr><td>1516790</td><td>2000-08-16</td><td>5271.99</td></tr><tr><td>2163435</td><td>2007-03-22</td><td>5718.96</td></tr><tr><td>4894372</td><td>2013-02-19</td><td>6669.99</td></tr><tr><td>3068948</td><td>2005-02-08</td><td>5499</td></tr><tr><td>2101595</td><td>2002-07-23</td><td>3999</td></tr><tr><td>2099756</td><td>2006-10-25</td><td>4449.9</td></tr><tr><td>5769323</td><td>2000-08-23</td><td>4400</td></tr><tr><td>2351281</td><td>2006-04-04</td><td>4600.99</td></tr><tr><td>1511190</td><td>2003-03-20</td><td>6615.45</td></tr><tr><td>6741014</td><td>2002-05-08</td><td>5406.96</td></tr><tr><td>5365859</td><td>2000-10-02</td><td>7916.93</td></tr><tr><td>6997790</td><td>2011-02-09</td><td>6252.94</td></tr><tr><td>3612146</td><td>2018-08-05</td><td>5083.56</td></tr><tr><td>6208308</td><td>2000-04-04</td><td>3382.94</td></tr><tr><td>2098429</td><td>2011-03-29</td><td>5828.94</td></tr><tr><td>4056716</td><td>2001-03-30</td><td>4483.86</td></tr><tr><td>3946505</td><td>2011-05-01</td><td>4556.63</td></tr><tr><td>7299277</td><td>2010-01-04</td><td>3989.92</td></tr><tr><td>6310841</td><td>2011-10-28</td><td>8123.49</td></tr><tr><td>4173891</td><td>2000-08-12</td><td>7399</td></tr><tr><td>1705258</td><td>2006-08-25</td><td>4664</td></tr><tr><td>3219860</td><td>2015-09-07</td><td>6778.7</td></tr><tr><td>2453663</td><td>2011-01-17</td><td>4947.98</td></tr><tr><td>6876791</td><td>2006-09-16</td><td>4450.94</td></tr><tr><td>3233574</td><td>2009-01-29</td><td>6753.12</td></tr><tr><td>6278913</td><td>2003-01-12</td><td>6132.44</td></tr><tr><td>3341636</td><td>2004-11-30</td><td>7916.93</td></tr><tr><td>4033621</td><td>2012-08-29</td><td>4399</td></tr><tr><td>4976747</td><td>2002-11-11</td><td>5029</td></tr><tr><td>1781248</td><td>2010-06-26</td><td>3963.34</td></tr><tr><td>3220490</td><td>2002-10-26</td><td>3999</td></tr><tr><td>6907264</td><td>2007-01-06</td><td>4222.94</td></tr><tr><td>2869777</td><td>2019-12-18</td><td>3820.95</td></tr><tr><td>1210336</td><td>2014-11-12</td><td>3940.35</td></tr><tr><td>1317867</td><td>2018-12-19</td><td>4258.94</td></tr><tr><td>4055987</td><td>2007-02-17</td><td>3999</td></tr><tr><td>2238326</td><td>2019-10-04</td><td>2959.94</td></tr><tr><td>5949297</td><td>2002-06-30</td><td>4576</td></tr><tr><td>1550955</td><td>2016-02-19</td><td>4238.94</td></tr><tr><td>3634237</td><td>2017-08-11</td><td>4239.99</td></tr><tr><td>3021006</td><td>2005-11-01</td><td>3894.43</td></tr><tr><td>1949830</td><td>2007-12-15</td><td>5588.31</td></tr><tr><td>4611661</td><td>2001-06-10</td><td>2352.93</td></tr><tr><td>3992432</td><td>2008-05-27</td><td>4492.93</td></tr><tr><td>4304070</td><td>2018-11-20</td><td>4238.94</td></tr><tr><td>3823807</td><td>2018-08-18</td><td>3589.05</td></tr><tr><td>5992300</td><td>2004-09-18</td><td>8114.17</td></tr><tr><td>1727573</td><td>2001-04-02</td><td>3907.29</td></tr><tr><td>5155967</td><td>2016-05-28</td><td>4250.08</td></tr><tr><td>3357626</td><td>2012-09-18</td><td>5946.59</td></tr><tr><td>2940115</td><td>2002-12-23</td><td>6933.59</td></tr><tr><td>3279357</td><td>2011-09-07</td><td>4258.94</td></tr><tr><td>3967475</td><td>2018-12-03</td><td>5677.05</td></tr><tr><td>6011122</td><td>2002-09-12</td><td>5899</td></tr><tr><td>3982943</td><td>2014-05-05</td><td>5882.67</td></tr><tr><td>6715387</td><td>2017-05-19</td><td>4784.69</td></tr><tr><td>1282368</td><td>2007-06-04</td><td>5404.94</td></tr><tr><td>3351731</td><td>2019-04-22</td><td>2966.94</td></tr><tr><td>3648251</td><td>2018-05-03</td><td>6223.45</td></tr><tr><td>6353751</td><td>2001-06-07</td><td>1977.19</td></tr><tr><td>6554008</td><td>2004-06-26</td><td>6016.71</td></tr><tr><td>6017416</td><td>2018-03-21</td><td>3500</td></tr><tr><td>6311142</td><td>2009-09-10</td><td>5406.96</td></tr><tr><td>1794189</td><td>2001-12-26</td><td>3480.99</td></tr><tr><td>6098256</td><td>2010-11-02</td><td>4662.94</td></tr><tr><td>3589784</td><td>2011-07-15</td><td>5718.96</td></tr><tr><td>2680115</td><td>2005-05-22</td><td>5482.87</td></tr><tr><td>5885102</td><td>2009-01-24</td><td>4238.94</td></tr><tr><td>2965252</td><td>2000-08-28</td><td>4222.94</td></tr><tr><td>7239906</td><td>2004-01-18</td><td>4640.95</td></tr><tr><td>1886415</td><td>2008-09-17</td><td>5636.73</td></tr><tr><td>2547240</td><td>2001-11-30</td><td>8123.49</td></tr><tr><td>5118679</td><td>2015-07-10</td><td>3645.43</td></tr><tr><td>5576076</td><td>2006-10-28</td><td>4179.75</td></tr><tr><td>4348370</td><td>2014-03-12</td><td>3999</td></tr><tr><td>1240460</td><td>2001-10-27</td><td>4503.43</td></tr><tr><td>7337778</td><td>2019-09-02</td><td>6161.51</td></tr><tr><td>3712495</td><td>2003-09-30</td><td>3834</td></tr><tr><td>2807590</td><td>2006-06-10</td><td>4429.95</td></tr><tr><td>3095416</td><td>2005-04-10</td><td>5005.5</td></tr><tr><td>7154590</td><td>2007-02-27</td><td>6146.94</td></tr><tr><td>6158906</td><td>2018-01-04</td><td>4260.13</td></tr><tr><td>3799340</td><td>2002-10-11</td><td>5575.13</td></tr><tr><td>4595252</td><td>2002-08-15</td><td>3681.15</td></tr><tr><td>2837022</td><td>2004-04-23</td><td>6134.96</td></tr><tr><td>5946900</td><td>2016-09-17</td><td>4273.93</td></tr><tr><td>1698973</td><td>2008-02-13</td><td>4574.96</td></tr><tr><td>3065701</td><td>2016-09-28</td><td>4645.34</td></tr><tr><td>7225383</td><td>2008-03-27</td><td>4449.9</td></tr><tr><td>6574015</td><td>2011-12-23</td><td>3001.93</td></tr><tr><td>3327943</td><td>2007-02-17</td><td>5671.67</td></tr><tr><td>4606617</td><td>2006-10-10</td><td>3999</td></tr><tr><td>6487845</td><td>2019-01-21</td><td>5024.17</td></tr><tr><td>2159284</td><td>2018-07-08</td><td>6901.19</td></tr><tr><td>6220593</td><td>2014-09-15</td><td>6693.46</td></tr><tr><td>1928298</td><td>2001-04-10</td><td>4702.5</td></tr><tr><td>3048118</td><td>2005-05-22</td><td>4654.5</td></tr><tr><td>2485512</td><td>2010-01-09</td><td>4188.95</td></tr><tr><td>5674322</td><td>2000-06-05</td><td>5882.67</td></tr><tr><td>5364611</td><td>2002-01-25</td><td>5404.94</td></tr><tr><td>4470329</td><td>2019-04-22</td><td>6238.19</td></tr><tr><td>5534307</td><td>2003-05-12</td><td>8000</td></tr><tr><td>1164924</td><td>2013-10-27</td><td>3963.34</td></tr><tr><td>4665839</td><td>2010-12-06</td><td>4199</td></tr><tr><td>4347140</td><td>2017-10-13</td><td>5899</td></tr><tr><td>2758805</td><td>2018-10-30</td><td>5698.55</td></tr><tr><td>2927703</td><td>2012-03-02</td><td>3744</td></tr><tr><td>6325624</td><td>2017-12-29</td><td>4768.94</td></tr><tr><td>1555689</td><td>2008-07-15</td><td>3630.67</td></tr><tr><td>7207331</td><td>2010-05-21</td><td>6223.45</td></tr><tr><td>4830064</td><td>2015-04-06</td><td>2296.86</td></tr><tr><td>4169254</td><td>2011-11-19</td><td>3189.54</td></tr><tr><td>1979839</td><td>2005-07-25</td><td>3480.99</td></tr><tr><td>1548862</td><td>2017-06-01</td><td>4502.81</td></tr><tr><td>7370016</td><td>2012-11-25</td><td>4700</td></tr><tr><td>3316785</td><td>2000-04-14</td><td>5036.05</td></tr><tr><td>1217439</td><td>2003-06-29</td><td>4238.94</td></tr><tr><td>7055600</td><td>2003-04-14</td><td>3399</td></tr><tr><td>2246174</td><td>2005-01-31</td><td>5834.39</td></tr><tr><td>6412306</td><td>2005-03-26</td><td>3999</td></tr><tr><td>5553460</td><td>2000-01-23</td><td>2199</td></tr><tr><td>2087487</td><td>2014-02-22</td><td>1924</td></tr><tr><td>4127340</td><td>2017-01-01</td><td>3370</td></tr><tr><td>5253750</td><td>2002-09-18</td><td>4199</td></tr><tr><td>1751585</td><td>2005-11-06</td><td>4647.92</td></tr><tr><td>4770294</td><td>2005-12-25</td><td>4820.34</td></tr><tr><td>4298585</td><td>2018-06-16</td><td>5857.5</td></tr><tr><td>5867277</td><td>2010-08-02</td><td>3258.56</td></tr><tr><td>2567235</td><td>2001-10-21</td><td>5876.46</td></tr><tr><td>2114241</td><td>2003-03-16</td><td>4611</td></tr><tr><td>4191351</td><td>2019-04-19</td><td>4959.74</td></tr><tr><td>7334338</td><td>2002-12-04</td><td>3370</td></tr><tr><td>4616040</td><td>2005-02-06</td><td>5698.55</td></tr><tr><td>2980870</td><td>2006-12-09</td><td>4258.94</td></tr><tr><td>1756854</td><td>2002-08-21</td><td>3861</td></tr><tr><td>3383217</td><td>2007-11-09</td><td>4022.29</td></tr><tr><td>2436367</td><td>2016-12-29</td><td>4752.76</td></tr><tr><td>2404993</td><td>2018-04-07</td><td>3640</td></tr><tr><td>6161857</td><td>2002-05-04</td><td>4941.03</td></tr><tr><td>3101387</td><td>2016-05-03</td><td>4927.95</td></tr><tr><td>2399548</td><td>2010-10-15</td><td>4941.02</td></tr><tr><td>2029617</td><td>2003-12-17</td><td>6148</td></tr><tr><td>5056034</td><td>2001-04-22</td><td>2042.61</td></tr><tr><td>1564158</td><td>2010-10-30</td><td>5848.19</td></tr><tr><td>5807444</td><td>2001-03-12</td><td>5006.53</td></tr><tr><td>3543924</td><td>2008-04-29</td><td>5587.17</td></tr><tr><td>6717027</td><td>2009-04-15</td><td>6615.45</td></tr><tr><td>1190048</td><td>2015-03-07</td><td>5882.07</td></tr><tr><td>4210104</td><td>2013-07-25</td><td>6240.99</td></tr><tr><td>5374467</td><td>2011-11-01</td><td>6081.3</td></tr><tr><td>2563108</td><td>2008-09-02</td><td>3600</td></tr><tr><td>1386825</td><td>2007-03-25</td><td>3894.43</td></tr><tr><td>6534804</td><td>2000-05-06</td><td>5899</td></tr><tr><td>3883613</td><td>2005-11-23</td><td>4504.24</td></tr><tr><td>2595311</td><td>2017-04-30</td><td>3999</td></tr><tr><td>3850505</td><td>2007-11-25</td><td>4449.9</td></tr><tr><td>3586571</td><td>2014-06-16</td><td>3154.94</td></tr><tr><td>4517199</td><td>2007-04-15</td><td>5698.55</td></tr><tr><td>3923128</td><td>2013-04-16</td><td>4278.93</td></tr><tr><td>3039943</td><td>2005-09-04</td><td>5587.17</td></tr><tr><td>3298120</td><td>2007-04-08</td><td>2286.96</td></tr><tr><td>4443017</td><td>2009-01-05</td><td>3129.36</td></tr><tr><td>1982899</td><td>2014-10-11</td><td>3996.06</td></tr><tr><td>6526153</td><td>2015-06-11</td><td>4499</td></tr><tr><td>4771988</td><td>2011-12-31</td><td>4279.99</td></tr><tr><td>4584291</td><td>2000-05-22</td><td>5588.31</td></tr><tr><td>4328842</td><td>2000-11-12</td><td>4432.75</td></tr><tr><td>7188213</td><td>2005-12-23</td><td>3620.23</td></tr><tr><td>2525567</td><td>2003-12-30</td><td>3433.72</td></tr><tr><td>3024469</td><td>2010-10-04</td><td>5828.94</td></tr><tr><td>1186708</td><td>2001-11-04</td><td>8000</td></tr><tr><td>4312665</td><td>2017-06-25</td><td>4717.93</td></tr><tr><td>2965446</td><td>2017-02-09</td><td>1850</td></tr><tr><td>4138673</td><td>2004-05-31</td><td>4901.25</td></tr><tr><td>3425702</td><td>2001-10-25</td><td>7902.33</td></tr><tr><td>5557402</td><td>2017-02-17</td><td>6590.49</td></tr><tr><td>5725406</td><td>2000-03-28</td><td>5406.96</td></tr><tr><td>1956172</td><td>2008-05-01</td><td>4963.2</td></tr><tr><td>6199197</td><td>2008-07-27</td><td>8000</td></tr><tr><td>4536857</td><td>2014-07-01</td><td>6052.36</td></tr><tr><td>5393037</td><td>2006-10-18</td><td>4547.5</td></tr><tr><td>1621956</td><td>2010-09-25</td><td>3418.93</td></tr><tr><td>3854004</td><td>2001-06-07</td><td>5851.22</td></tr><tr><td>5774217</td><td>2008-03-10</td><td>4213.91</td></tr><tr><td>5512801</td><td>2002-09-23</td><td>3174.5</td></tr><tr><td>4793436</td><td>2015-01-31</td><td>4366.96</td></tr><tr><td>4191939</td><td>2010-06-14</td><td>4924.75</td></tr><tr><td>6761385</td><td>2002-01-21</td><td>5567.22</td></tr><tr><td>5708272</td><td>2010-10-13</td><td>4483.75</td></tr><tr><td>6399921</td><td>2019-07-24</td><td>3999</td></tr><tr><td>4862701</td><td>2000-01-07</td><td>4797.81</td></tr><tr><td>4682893</td><td>2005-09-24</td><td>6223.45</td></tr><tr><td>4983307</td><td>2018-08-23</td><td>5059.8</td></tr><tr><td>3495920</td><td>2015-02-13</td><td>4661.27</td></tr><tr><td>1696154</td><td>2014-03-08</td><td>4238.94</td></tr><tr><td>4965418</td><td>2010-08-09</td><td>3799</td></tr><tr><td>2654691</td><td>2002-08-16</td><td>5089.01</td></tr><tr><td>3821345</td><td>2001-11-10</td><td>4170.96</td></tr><tr><td>6461950</td><td>2001-01-20</td><td>5052.68</td></tr><tr><td>4974256</td><td>2013-06-03</td><td>4158.96</td></tr><tr><td>3915791</td><td>2010-08-07</td><td>6229.34</td></tr><tr><td>2448460</td><td>2017-06-04</td><td>2744.56</td></tr><tr><td>5919706</td><td>2012-09-19</td><td>7842.94</td></tr><tr><td>4816624</td><td>2003-06-14</td><td>3963.34</td></tr><tr><td>6698490</td><td>2005-07-19</td><td>6030.96</td></tr><tr><td>6674165</td><td>2014-12-28</td><td>7824.44</td></tr><tr><td>6064703</td><td>2008-12-02</td><td>4252.94</td></tr><tr><td>2399306</td><td>2017-04-18</td><td>4524</td></tr><tr><td>5586170</td><td>2016-04-08</td><td>4664</td></tr><tr><td>3990048</td><td>2006-06-14</td><td>6252.94</td></tr><tr><td>3623990</td><td>2017-10-08</td><td>4948.04</td></tr><tr><td>1249068</td><td>2019-09-26</td><td>3798</td></tr><tr><td>1213420</td><td>2019-02-21</td><td>4400</td></tr><tr><td>4242440</td><td>2016-05-22</td><td>6240.99</td></tr><tr><td>4705989</td><td>2002-04-17</td><td>6081.3</td></tr><tr><td>3228107</td><td>2018-07-13</td><td>3433.72</td></tr><tr><td>7152184</td><td>2019-02-06</td><td>4716.89</td></tr><tr><td>3756509</td><td>2002-11-21</td><td>4901.25</td></tr><tr><td>4520668</td><td>2011-03-30</td><td>6787.79</td></tr><tr><td>7072980</td><td>2003-08-17</td><td>4503.2</td></tr><tr><td>5850613</td><td>2001-10-07</td><td>4026.94</td></tr><tr><td>1920344</td><td>2008-11-24</td><td>4556.63</td></tr><tr><td>2750638</td><td>2002-08-28</td><td>4209.89</td></tr><tr><td>2024990</td><td>2002-02-06</td><td>4288.93</td></tr><tr><td>2332798</td><td>2008-08-15</td><td>5698.55</td></tr><tr><td>2454071</td><td>2013-05-04</td><td>8320</td></tr><tr><td>5151191</td><td>2019-09-29</td><td>4278.93</td></tr><tr><td>6959598</td><td>2004-10-05</td><td>5500</td></tr><tr><td>4889408</td><td>2007-10-29</td><td>5698.55</td></tr><tr><td>6656410</td><td>2009-08-05</td><td>7824.44</td></tr><tr><td>2148975</td><td>2004-07-26</td><td>6240.99</td></tr><tr><td>7081855</td><td>2006-02-07</td><td>6252.94</td></tr><tr><td>5271578</td><td>2017-08-21</td><td>4505</td></tr><tr><td>2921302</td><td>2006-06-04</td><td>5406.96</td></tr><tr><td>4408518</td><td>2009-06-03</td><td>1924</td></tr><tr><td>3704949</td><td>2005-07-06</td><td>2823.73</td></tr><tr><td>2250709</td><td>2011-04-10</td><td>4797.81</td></tr><tr><td>2582205</td><td>2018-12-30</td><td>7824.44</td></tr><tr><td>2104244</td><td>2001-03-11</td><td>4854.99</td></tr><tr><td>2596420</td><td>2013-08-16</td><td>1850</td></tr><tr><td>4489273</td><td>2003-07-24</td><td>5095.44</td></tr><tr><td>1329366</td><td>2012-08-02</td><td>5973.17</td></tr><tr><td>4470822</td><td>2002-09-27</td><td>4611</td></tr><tr><td>5848962</td><td>2013-02-11</td><td>3744</td></tr><tr><td>2621265</td><td>2005-03-23</td><td>3337.44</td></tr><tr><td>1334536</td><td>2015-07-25</td><td>3441.74</td></tr><tr><td>6758513</td><td>2006-07-18</td><td>5883.93</td></tr><tr><td>4147781</td><td>2016-09-16</td><td>4366.96</td></tr><tr><td>3094931</td><td>2000-09-20</td><td>3953.99</td></tr><tr><td>4219621</td><td>2012-06-14</td><td>3001.93</td></tr><tr><td>1356426</td><td>2006-03-04</td><td>4662.94</td></tr><tr><td>5230612</td><td>2011-08-09</td><td>3189.54</td></tr><tr><td>2701340</td><td>2005-11-10</td><td>6836.39</td></tr><tr><td>2086294</td><td>2016-02-07</td><td>4350</td></tr><tr><td>5277255</td><td>2011-12-12</td><td>6679.58</td></tr><tr><td>5400236</td><td>2009-08-06</td><td>4640.95</td></tr><tr><td>6779348</td><td>2011-05-03</td><td>1949.99</td></tr><tr><td>3246407</td><td>2010-09-06</td><td>4579.49</td></tr><tr><td>4204767</td><td>2014-05-06</td><td>7728.26</td></tr><tr><td>4619251</td><td>2013-08-07</td><td>3401.62</td></tr><tr><td>3676597</td><td>2002-02-05</td><td>3382.94</td></tr><tr><td>6126190</td><td>2002-08-06</td><td>4685.19</td></tr><tr><td>5788077</td><td>2003-10-30</td><td>2756.44</td></tr><tr><td>4635506</td><td>2005-11-21</td><td>4488.75</td></tr><tr><td>4236743</td><td>2006-08-09</td><td>6175.94</td></tr><tr><td>3979972</td><td>2001-09-04</td><td>3189.54</td></tr><tr><td>3378675</td><td>2014-09-13</td><td>4018.48</td></tr><tr><td>1701472</td><td>2009-06-12</td><td>8057.43</td></tr><tr><td>3604057</td><td>2018-12-15</td><td>2810.54</td></tr><tr><td>5299726</td><td>2005-04-05</td><td>4611</td></tr><tr><td>5899635</td><td>2006-11-04</td><td>4171.99</td></tr><tr><td>4557828</td><td>2016-07-16</td><td>5882.67</td></tr><tr><td>2004885</td><td>2017-10-20</td><td>5899</td></tr><tr><td>5768219</td><td>2010-05-24</td><td>4543.58</td></tr><tr><td>3672701</td><td>2004-03-18</td><td>4692.46</td></tr><tr><td>5067739</td><td>2010-10-23</td><td>4274.99</td></tr><tr><td>1550463</td><td>2000-01-31</td><td>4397.11</td></tr><tr><td>6433551</td><td>2013-07-28</td><td>6650.8</td></tr><tr><td>1158428</td><td>2009-01-14</td><td>4399</td></tr><tr><td>1123484</td><td>2002-11-07</td><td>3744</td></tr><tr><td>1521673</td><td>2003-01-14</td><td>4420</td></tr><tr><td>3158959</td><td>2011-12-02</td><td>4450.94</td></tr><tr><td>4046632</td><td>2012-04-18</td><td>4199</td></tr><tr><td>1753344</td><td>2014-11-08</td><td>4420</td></tr><tr><td>6705301</td><td>2016-12-05</td><td>4717.93</td></tr><tr><td>4906339</td><td>2001-11-25</td><td>7805.95</td></tr><tr><td>1756068</td><td>2016-05-09</td><td>5656.41</td></tr><tr><td>5664379</td><td>2014-06-23</td><td>2744.56</td></tr><tr><td>4558193</td><td>2019-06-29</td><td>5698.55</td></tr><tr><td>2270347</td><td>2016-10-01</td><td>5497.94</td></tr><tr><td>4740728</td><td>2019-09-27</td><td>4560.98</td></tr><tr><td>4424690</td><td>2009-08-21</td><td>3999</td></tr><tr><td>6898801</td><td>2011-03-05</td><td>2639</td></tr><tr><td>5737787</td><td>2002-09-27</td><td>5974.64</td></tr><tr><td>1933348</td><td>2015-08-26</td><td>5059.8</td></tr><tr><td>3794878</td><td>2004-12-23</td><td>4238.94</td></tr><tr><td>4703033</td><td>2013-03-27</td><td>4831.83</td></tr><tr><td>6050817</td><td>2007-04-11</td><td>6637.29</td></tr><tr><td>2278706</td><td>2018-12-17</td><td>5607.16</td></tr><tr><td>6032695</td><td>2013-03-29</td><td>3337.44</td></tr><tr><td>3904710</td><td>2005-01-08</td><td>4399</td></tr><tr><td>4431923</td><td>2013-07-06</td><td>5974.64</td></tr><tr><td>1423085</td><td>2009-06-12</td><td>8042.64</td></tr><tr><td>6298824</td><td>2015-01-24</td><td>4228.94</td></tr><tr><td>4144370</td><td>2011-06-25</td><td>3186.56</td></tr><tr><td>5153527</td><td>2016-04-24</td><td>3999</td></tr><tr><td>6085124</td><td>2006-10-24</td><td>2744.56</td></tr><tr><td>2961791</td><td>2016-08-27</td><td>4300.32</td></tr><tr><td>2101804</td><td>2004-04-24</td><td>5406.96</td></tr><tr><td>4359734</td><td>2012-12-09</td><td>4250.08</td></tr><tr><td>3242707</td><td>2001-12-10</td><td>4299.99</td></tr><tr><td>3128311</td><td>2000-03-25</td><td>4949.04</td></tr><tr><td>2206021</td><td>2000-04-04</td><td>4716.89</td></tr><tr><td>4643710</td><td>2005-03-12</td><td>3605.9</td></tr><tr><td>3276678</td><td>2011-12-05</td><td>3602.94</td></tr><tr><td>2955124</td><td>2000-05-28</td><td>5828.94</td></tr><tr><td>5990300</td><td>2018-05-22</td><td>7890.98</td></tr><tr><td>5272106</td><td>2005-01-15</td><td>4176.96</td></tr><tr><td>5524185</td><td>2006-03-07</td><td>6152.66</td></tr><tr><td>5026895</td><td>2005-04-07</td><td>3799</td></tr><tr><td>4508617</td><td>2007-08-01</td><td>3724.66</td></tr><tr><td>6094066</td><td>2001-06-16</td><td>3710</td></tr><tr><td>4574001</td><td>2012-10-13</td><td>3675.93</td></tr><tr><td>1660555</td><td>2000-12-10</td><td>4706.93</td></tr><tr><td>4978938</td><td>2014-07-17</td><td>5885</td></tr><tr><td>1848120</td><td>2017-06-20</td><td>4366.96</td></tr><tr><td>1257140</td><td>2008-07-17</td><td>5499</td></tr><tr><td>1588040</td><td>2009-03-26</td><td>3655.75</td></tr><tr><td>1520330</td><td>2000-02-06</td><td>6081.3</td></tr><tr><td>3507926</td><td>2006-09-14</td><td>4505</td></tr><tr><td>6088058</td><td>2004-01-31</td><td>5099</td></tr><tr><td>3427044</td><td>2016-04-24</td><td>3707.25</td></tr><tr><td>6462685</td><td>2009-07-29</td><td>4040.24</td></tr><tr><td>3252464</td><td>2008-07-02</td><td>5588.31</td></tr><tr><td>4831395</td><td>2006-10-16</td><td>3837.48</td></tr><tr><td>2162626</td><td>2014-10-16</td><td>4218.95</td></tr><tr><td>5847369</td><td>2004-03-14</td><td>3286.14</td></tr><tr><td>2539346</td><td>2010-09-13</td><td>6146.94</td></tr><tr><td>2217267</td><td>2011-02-27</td><td>8019.6</td></tr><tr><td>1894953</td><td>2019-12-01</td><td>4450.94</td></tr><tr><td>5832154</td><td>2017-09-18</td><td>5735.46</td></tr><tr><td>1712241</td><td>2016-05-17</td><td>3905.39</td></tr><tr><td>3118121</td><td>2015-03-20</td><td>4871.32</td></tr><tr><td>5894664</td><td>2006-10-17</td><td>6646.65</td></tr><tr><td>3243806</td><td>2004-03-08</td><td>6081.3</td></tr><tr><td>2410742</td><td>2005-04-04</td><td>8520</td></tr><tr><td>2537962</td><td>2006-08-25</td><td>5275</td></tr><tr><td>6177746</td><td>2001-01-03</td><td>7717.16</td></tr><tr><td>5556208</td><td>2010-05-28</td><td>4523.95</td></tr><tr><td>5020865</td><td>2019-10-18</td><td>4924.75</td></tr><tr><td>4768143</td><td>2016-11-08</td><td>4757.69</td></tr><tr><td>6006438</td><td>2010-09-15</td><td>3600</td></tr><tr><td>1273092</td><td>2012-11-06</td><td>5666.61</td></tr><tr><td>5443155</td><td>2019-10-30</td><td>4717.93</td></tr><tr><td>2631396</td><td>2018-06-23</td><td>1949.99</td></tr><tr><td>6682691</td><td>2017-10-30</td><td>4471.94</td></tr><tr><td>4512047</td><td>2010-04-19</td><td>4854.99</td></tr><tr><td>7297984</td><td>2015-04-11</td><td>4717.2</td></tr><tr><td>3687415</td><td>2001-02-14</td><td>3744</td></tr><tr><td>4241228</td><td>2018-10-05</td><td>5671.67</td></tr><tr><td>5613292</td><td>2004-11-13</td><td>3204.59</td></tr><tr><td>2670326</td><td>2013-03-23</td><td>4045.94</td></tr><tr><td>4835661</td><td>2016-02-04</td><td>6490.63</td></tr><tr><td>4225044</td><td>2003-05-30</td><td>6852.59</td></tr><tr><td>1174987</td><td>2005-03-01</td><td>5641.03</td></tr><tr><td>3920863</td><td>2008-10-31</td><td>8007.99</td></tr><tr><td>2708318</td><td>2008-09-15</td><td>5745.59</td></tr><tr><td>6550384</td><td>2010-07-05</td><td>4397.11</td></tr><tr><td>2010949</td><td>2005-04-15</td><td>7842.94</td></tr><tr><td>6129814</td><td>2011-08-05</td><td>4924.75</td></tr><tr><td>2876751</td><td>2007-08-31</td><td>5615.22</td></tr><tr><td>4350229</td><td>2004-05-29</td><td>8580</td></tr><tr><td>6293430</td><td>2006-07-13</td><td>4199</td></tr><tr><td>5571075</td><td>2004-01-26</td><td>1850</td></tr><tr><td>3114069</td><td>2010-04-16</td><td>5765.75</td></tr><tr><td>2643335</td><td>2004-12-14</td><td>8356</td></tr><tr><td>6468211</td><td>2014-07-23</td><td>4273.93</td></tr><tr><td>4300954</td><td>2009-11-01</td><td>3816</td></tr><tr><td>1833117</td><td>2006-10-11</td><td>4471.94</td></tr><tr><td>2702576</td><td>2006-01-12</td><td>6179.2</td></tr><tr><td>6701780</td><td>2016-12-05</td><td>4429.95</td></tr><tr><td>3026972</td><td>2008-01-25</td><td>7750.45</td></tr><tr><td>3752401</td><td>2013-08-27</td><td>4959.74</td></tr><tr><td>6998194</td><td>2002-02-05</td><td>6223.45</td></tr><tr><td>1181721</td><td>2001-04-14</td><td>5591.03</td></tr><tr><td>3090621</td><td>2018-02-10</td><td>4543.58</td></tr><tr><td>4539681</td><td>2006-09-11</td><td>7399</td></tr><tr><td>5715127</td><td>2016-06-30</td><td>5379.45</td></tr><tr><td>2527223</td><td>2004-12-05</td><td>3707.25</td></tr><tr><td>7152637</td><td>2011-01-30</td><td>4170.96</td></tr><tr><td>4845161</td><td>2004-01-21</td><td>4484.89</td></tr><tr><td>7313221</td><td>2002-11-30</td><td>5063.75</td></tr><tr><td>1433896</td><td>2000-03-30</td><td>4523.95</td></tr><tr><td>5318762</td><td>2002-03-25</td><td>4557.99</td></tr><tr><td>3862539</td><td>2003-03-18</td><td>3390.94</td></tr><tr><td>7292725</td><td>2016-08-22</td><td>4888</td></tr><tr><td>1785549</td><td>2000-04-11</td><td>4278.93</td></tr><tr><td>4389159</td><td>2001-03-10</td><td>4947.98</td></tr><tr><td>6306290</td><td>2018-06-13</td><td>4654.5</td></tr><tr><td>1548662</td><td>2007-02-18</td><td>4026.94</td></tr><tr><td>6204866</td><td>2001-11-30</td><td>6134.96</td></tr><tr><td>6758597</td><td>2004-04-09</td><td>3722.25</td></tr><tr><td>3340271</td><td>2009-09-30</td><td>6693.46</td></tr><tr><td>6985193</td><td>2014-02-14</td><td>4170.96</td></tr><tr><td>1538267</td><td>2010-08-07</td><td>2639</td></tr><tr><td>5333293</td><td>2007-12-25</td><td>5636.73</td></tr><tr><td>6911763</td><td>2017-06-23</td><td>4158.96</td></tr><tr><td>7324361</td><td>2013-02-19</td><td>6590.49</td></tr><tr><td>5961883</td><td>2003-09-22</td><td>4524</td></tr><tr><td>2834523</td><td>2017-05-08</td><td>4218.95</td></tr><tr><td>5687495</td><td>2010-04-29</td><td>3899.78</td></tr><tr><td>6500330</td><td>2010-02-15</td><td>4273.93</td></tr><tr><td>3969897</td><td>2015-10-06</td><td>1949.99</td></tr><tr><td>7027464</td><td>2000-06-20</td><td>5295.9</td></tr><tr><td>1931953</td><td>2008-04-09</td><td>5725.43</td></tr><tr><td>2847748</td><td>2009-12-24</td><td>3009</td></tr><tr><td>6770061</td><td>2000-11-18</td><td>3278.48</td></tr><tr><td>6552595</td><td>2004-11-21</td><td>4481.67</td></tr><tr><td>7031756</td><td>2008-05-15</td><td>4909.15</td></tr><tr><td>5598550</td><td>2015-01-25</td><td>6229.34</td></tr><tr><td>3675795</td><td>2013-02-11</td><td>5614.67</td></tr><tr><td>2872331</td><td>2006-01-26</td><td>7728.26</td></tr><tr><td>4510926</td><td>2014-01-26</td><td>4420</td></tr><tr><td>3941281</td><td>2002-12-22</td><td>5641.03</td></tr><tr><td>5791770</td><td>2017-09-16</td><td>4678.96</td></tr><tr><td>3691505</td><td>2019-08-17</td><td>2330.94</td></tr><tr><td>6020735</td><td>2013-04-25</td><td>7717.16</td></tr><tr><td>6676673</td><td>2005-11-08</td><td>5029.7</td></tr><tr><td>3885193</td><td>2013-01-06</td><td>5085.6</td></tr><tr><td>4018672</td><td>2003-05-18</td><td>4018.99</td></tr><tr><td>2402430</td><td>2019-02-04</td><td>5507.74</td></tr><tr><td>2762489</td><td>2003-05-15</td><td>4218.95</td></tr><tr><td>7360034</td><td>2011-01-20</td><td>3572.2</td></tr><tr><td>2582762</td><td>2018-06-24</td><td>4611</td></tr><tr><td>1428972</td><td>2019-02-08</td><td>5899</td></tr><tr><td>2373731</td><td>2013-01-22</td><td>5745.59</td></tr><tr><td>2349091</td><td>2008-09-01</td><td>6134.96</td></tr><tr><td>1864749</td><td>2004-12-05</td><td>3480.99</td></tr><tr><td>6160753</td><td>2005-11-01</td><td>6032</td></tr><tr><td>6025341</td><td>2014-08-28</td><td>3614.33</td></tr><tr><td>4701598</td><td>2017-11-23</td><td>6175.94</td></tr><tr><td>4292007</td><td>2019-10-23</td><td>6030.96</td></tr><tr><td>6378566</td><td>2005-02-28</td><td>4200</td></tr><tr><td>7231279</td><td>2008-06-06</td><td>5527.68</td></tr><tr><td>1683323</td><td>2007-10-06</td><td>5005.5</td></tr><tr><td>2901363</td><td>2009-08-30</td><td>4398.45</td></tr><tr><td>3107369</td><td>2001-04-06</td><td>4159.99</td></tr><tr><td>1954255</td><td>2007-06-24</td><td>8000</td></tr><tr><td>2871283</td><td>2010-07-03</td><td>4492.93</td></tr><tr><td>5713953</td><td>2000-12-06</td><td>5484.95</td></tr><tr><td>6037920</td><td>2002-11-17</td><td>4258.94</td></tr><tr><td>3136118</td><td>2002-05-06</td><td>4379.56</td></tr><tr><td>1692789</td><td>2004-09-08</td><td>5857.5</td></tr><tr><td>1753655</td><td>2006-06-26</td><td>2797.34</td></tr><tr><td>5338402</td><td>2002-08-28</td><td>4471.99</td></tr><tr><td>1623005</td><td>2002-05-09</td><td>2286.96</td></tr><tr><td>6112081</td><td>2005-08-09</td><td>4775.29</td></tr><tr><td>1716627</td><td>2006-09-05</td><td>4366.96</td></tr><tr><td>7289838</td><td>2009-03-22</td><td>4273.93</td></tr><tr><td>4457536</td><td>2004-05-14</td><td>4026.94</td></tr><tr><td>3383907</td><td>2002-10-24</td><td>2823.73</td></tr><tr><td>5293031</td><td>2011-05-02</td><td>4906.17</td></tr><tr><td>3135177</td><td>2012-05-28</td><td>3433.72</td></tr><tr><td>2672990</td><td>2002-11-27</td><td>5199</td></tr><tr><td>4614282</td><td>2007-06-24</td><td>8000</td></tr><tr><td>6946141</td><td>2012-04-13</td><td>4199</td></tr><tr><td>2188982</td><td>2013-03-19</td><td>3744</td></tr><tr><td>5327025</td><td>2019-01-05</td><td>3500</td></tr><tr><td>2248192</td><td>2011-08-26</td><td>5591.03</td></tr><tr><td>2129503</td><td>2009-10-16</td><td>2797.34</td></tr><tr><td>4644638</td><td>2010-12-08</td><td>4653</td></tr><tr><td>3091397</td><td>2007-11-06</td><td>4075.62</td></tr><tr><td>1452967</td><td>2013-03-12</td><td>4719</td></tr><tr><td>2319628</td><td>2006-09-13</td><td>2830.33</td></tr><tr><td>6437349</td><td>2006-10-18</td><td>4011.74</td></tr><tr><td>1263588</td><td>2012-11-08</td><td>4662.94</td></tr><tr><td>6300542</td><td>2002-05-14</td><td>6778.7</td></tr><tr><td>6723532</td><td>2006-10-23</td><td>4452</td></tr><tr><td>1734643</td><td>2012-12-10</td><td>4494</td></tr><tr><td>2479298</td><td>2016-11-15</td><td>3209.08</td></tr><tr><td>4437714</td><td>2012-01-17</td><td>4037.53</td></tr><tr><td>1409364</td><td>2001-10-16</td><td>4464.76</td></tr><tr><td>3496466</td><td>2019-03-28</td><td>4717.93</td></tr><tr><td>3962729</td><td>2004-03-29</td><td>4158.96</td></tr><tr><td>3105756</td><td>2001-08-23</td><td>3963.34</td></tr><tr><td>5922915</td><td>2006-08-03</td><td>5507.74</td></tr><tr><td>6322733</td><td>2015-01-08</td><td>2091.36</td></tr><tr><td>1289862</td><td>2013-06-11</td><td>5562.93</td></tr><tr><td>1982827</td><td>2002-03-02</td><td>3247.84</td></tr><tr><td>1323255</td><td>2017-04-24</td><td>5053.43</td></tr><tr><td>6948000</td><td>2016-12-17</td><td>3999</td></tr><tr><td>7192828</td><td>2011-10-19</td><td>4452</td></tr><tr><td>6706549</td><td>2009-08-15</td><td>3354.15</td></tr><tr><td>2805989</td><td>2017-08-23</td><td>6161.51</td></tr><tr><td>7204390</td><td>2003-12-03</td><td>4238.94</td></tr><tr><td>3828848</td><td>2007-12-12</td><td>1961</td></tr><tr><td>1978830</td><td>2002-04-24</td><td>4708</td></tr><tr><td>6032876</td><td>2002-08-18</td><td>5613.65</td></tr><tr><td>2859034</td><td>2015-05-23</td><td>4238.94</td></tr><tr><td>1491482</td><td>2006-08-15</td><td>3982.04</td></tr><tr><td>5896090</td><td>2002-11-13</td><td>5592.47</td></tr><tr><td>2354943</td><td>2000-02-29</td><td>4982</td></tr><tr><td>4569994</td><td>2000-08-07</td><td>4450.94</td></tr><tr><td>1570448</td><td>2011-04-23</td><td>5237.5</td></tr><tr><td>2037976</td><td>2010-11-30</td><td>4503.43</td></tr><tr><td>3513653</td><td>2004-01-26</td><td>4574.96</td></tr><tr><td>6698819</td><td>2019-10-20</td><td>5430.36</td></tr><tr><td>6214371</td><td>2018-08-31</td><td>1937.88</td></tr><tr><td>4233244</td><td>2005-05-12</td><td>5375.99</td></tr><tr><td>3577653</td><td>2012-01-23</td><td>6223.45</td></tr><tr><td>3191867</td><td>2019-05-08</td><td>5899</td></tr><tr><td>5929442</td><td>2012-07-05</td><td>4647.92</td></tr><tr><td>3558480</td><td>2004-03-13</td><td>1937.88</td></tr><tr><td>6772820</td><td>2018-11-21</td><td>5816.25</td></tr><tr><td>5635327</td><td>2006-02-17</td><td>8480</td></tr><tr><td>3660078</td><td>2000-08-13</td><td>6753.12</td></tr><tr><td>5381339</td><td>2019-04-27</td><td>3545.16</td></tr><tr><td>2940684</td><td>2008-12-08</td><td>5876.46</td></tr><tr><td>1327986</td><td>2006-11-04</td><td>5510.94</td></tr><tr><td>7033371</td><td>2015-07-14</td><td>3534.96</td></tr><tr><td>5767252</td><td>2000-05-23</td><td>5720</td></tr><tr><td>6674878</td><td>2010-10-12</td><td>4764.03</td></tr><tr><td>3421210</td><td>2011-06-12</td><td>4238.94</td></tr><tr><td>1855891</td><td>2005-09-17</td><td>4496.47</td></tr><tr><td>4217666</td><td>2006-10-01</td><td>3645.43</td></tr><tr><td>6284721</td><td>2010-03-26</td><td>5765.75</td></tr><tr><td>5057351</td><td>2014-06-11</td><td>7981.77</td></tr><tr><td>5719032</td><td>2014-01-27</td><td>4399</td></tr><tr><td>2825342</td><td>2004-11-22</td><td>5482.87</td></tr><tr><td>1604333</td><td>2010-02-27</td><td>1961</td></tr><tr><td>1734546</td><td>2001-04-04</td><td>5404.94</td></tr><tr><td>3012192</td><td>2018-08-06</td><td>5556.43</td></tr><tr><td>7066266</td><td>2009-01-08</td><td>6048.36</td></tr><tr><td>1863924</td><td>2014-04-18</td><td>7935.43</td></tr><tr><td>3336106</td><td>2002-05-28</td><td>4440.44</td></tr><tr><td>3894500</td><td>2000-06-28</td><td>4664</td></tr><tr><td>6777399</td><td>2018-01-02</td><td>6030.96</td></tr><tr><td>2050261</td><td>2014-11-30</td><td>8161.99</td></tr><tr><td>7133246</td><td>2001-03-25</td><td>5679.85</td></tr><tr><td>4354201</td><td>2007-04-15</td><td>4433.05</td></tr><tr><td>1266062</td><td>2011-07-02</td><td>8065.74</td></tr><tr><td>3463905</td><td>2010-07-03</td><td>5685.11</td></tr><tr><td>3982642</td><td>2000-04-29</td><td>6117.95</td></tr><tr><td>2557474</td><td>2016-06-26</td><td>6132.44</td></tr><tr><td>4228012</td><td>2013-05-18</td><td>5925.09</td></tr><tr><td>3879768</td><td>2014-07-30</td><td>4504.99</td></tr><tr><td>3911168</td><td>2012-10-09</td><td>4571.99</td></tr><tr><td>6053931</td><td>2003-12-26</td><td>3326.96</td></tr><tr><td>1546578</td><td>2003-07-25</td><td>5946.59</td></tr><tr><td>5948403</td><td>2001-08-24</td><td>4662.94</td></tr><tr><td>3731617</td><td>2015-09-13</td><td>8019.6</td></tr><tr><td>5999014</td><td>2017-02-21</td><td>3401.62</td></tr><tr><td>6888342</td><td>2009-03-11</td><td>4678.34</td></tr><tr><td>5279703</td><td>2018-07-21</td><td>4831.6</td></tr><tr><td>2478202</td><td>2008-07-10</td><td>4936.35</td></tr><tr><td>5662865</td><td>2018-04-29</td><td>4831.6</td></tr><tr><td>4350859</td><td>2008-03-09</td><td>3999</td></tr><tr><td>4777486</td><td>2017-09-23</td><td>4176.96</td></tr><tr><td>2722262</td><td>2013-09-11</td><td>6304.56</td></tr><tr><td>4268614</td><td>2018-04-02</td><td>4253.99</td></tr><tr><td>6608242</td><td>2018-01-12</td><td>4018.48</td></tr><tr><td>6373242</td><td>2010-10-28</td><td>4179.75</td></tr><tr><td>1977105</td><td>2008-01-23</td><td>5698.55</td></tr><tr><td>3985028</td><td>2016-06-30</td><td>1961</td></tr><tr><td>1607489</td><td>2016-04-06</td><td>3808.99</td></tr><tr><td>6814817</td><td>2004-09-30</td><td>7805.95</td></tr><tr><td>2126409</td><td>2019-08-28</td><td>5859.63</td></tr><tr><td>1351696</td><td>2011-05-18</td><td>4576</td></tr><tr><td>4688902</td><td>2010-09-27</td><td>4238.94</td></tr><tr><td>6722450</td><td>2015-03-19</td><td>3848.5</td></tr><tr><td>1374948</td><td>2011-02-04</td><td>5641.03</td></tr><tr><td>7081654</td><td>2003-08-20</td><td>4471.94</td></tr><tr><td>3169204</td><td>2004-03-04</td><td>3739</td></tr><tr><td>4917544</td><td>2013-03-06</td><td>4556.94</td></tr><tr><td>5654555</td><td>2007-06-03</td><td>5200</td></tr><tr><td>5760066</td><td>2015-10-25</td><td>4831.83</td></tr><tr><td>5228079</td><td>2019-10-20</td><td>2966.94</td></tr><tr><td>1398693</td><td>2015-12-03</td><td>3390.94</td></tr><tr><td>1251089</td><td>2002-08-16</td><td>8480</td></tr><tr><td>5412548</td><td>2003-06-22</td><td>4556.63</td></tr><tr><td>4797773</td><td>2001-08-12</td><td>4470.96</td></tr><tr><td>2758833</td><td>2017-01-05</td><td>6161.51</td></tr><tr><td>1793724</td><td>2015-02-25</td><td>4010.08</td></tr><tr><td>2123126</td><td>2002-07-17</td><td>5830</td></tr><tr><td>1948942</td><td>2002-12-28</td><td>5609.99</td></tr><tr><td>6367520</td><td>2004-04-04</td><td>4188.95</td></tr><tr><td>5052492</td><td>2012-08-05</td><td>3129.36</td></tr><tr><td>6831837</td><td>2000-05-13</td><td>4761.39</td></tr><tr><td>4108106</td><td>2010-09-17</td><td>8019.6</td></tr><tr><td>4344290</td><td>2005-11-10</td><td>3406.94</td></tr><tr><td>6634138</td><td>2013-12-12</td><td>3572.2</td></tr><tr><td>3328214</td><td>2008-09-19</td><td>3326.96</td></tr><tr><td>3929267</td><td>2008-01-15</td><td>4775.29</td></tr><tr><td>6293650</td><td>2002-05-09</td><td>4273.93</td></tr><tr><td>1946336</td><td>2006-10-07</td><td>7399</td></tr><tr><td>5984235</td><td>2015-06-11</td><td>4664</td></tr><tr><td>5436440</td><td>2016-03-14</td><td>4976.12</td></tr><tr><td>3320199</td><td>2006-11-28</td><td>4238.94</td></tr><tr><td>1592574</td><td>2007-06-05</td><td>4450.94</td></tr><tr><td>2189381</td><td>2008-01-14</td><td>4473</td></tr><tr><td>3756589</td><td>2000-04-10</td><td>4399</td></tr><tr><td>4618479</td><td>2005-03-12</td><td>4481.67</td></tr><tr><td>5291940</td><td>2004-06-18</td><td>5995.79</td></tr><tr><td>1931021</td><td>2014-09-29</td><td>3563.85</td></tr><tr><td>6725243</td><td>2002-10-18</td><td>4535.45</td></tr><tr><td>1159454</td><td>2000-04-25</td><td>5325</td></tr><tr><td>5863781</td><td>2016-06-03</td><td>4238.94</td></tr><tr><td>5010812</td><td>2002-04-26</td><td>3560.45</td></tr><tr><td>6440680</td><td>2015-04-05</td><td>4278.93</td></tr><tr><td>4874205</td><td>2011-03-21</td><td>5406.96</td></tr><tr><td>6162208</td><td>2018-03-11</td><td>5375.99</td></tr><tr><td>6253991</td><td>2015-10-17</td><td>5899</td></tr><tr><td>7211010</td><td>2009-05-19</td><td>4456.13</td></tr><tr><td>6048550</td><td>2013-01-10</td><td>5609.99</td></tr><tr><td>5160033</td><td>2016-01-06</td><td>4492.93</td></tr><tr><td>2092653</td><td>2001-06-18</td><td>5899</td></tr><tr><td>4441591</td><td>2009-07-03</td><td>5857.5</td></tr><tr><td>1476898</td><td>2010-01-23</td><td>3948.38</td></tr><tr><td>3019847</td><td>2009-10-07</td><td>4546.19</td></tr><tr><td>4519159</td><td>2000-09-06</td><td>3263.16</td></tr><tr><td>4129966</td><td>2016-04-16</td><td>3278.48</td></tr><tr><td>1184975</td><td>2006-07-28</td><td>4705.77</td></tr><tr><td>2962843</td><td>2015-03-03</td><td>5848.19</td></tr><tr><td>3783492</td><td>2000-10-20</td><td>6746.73</td></tr><tr><td>3615980</td><td>2007-06-03</td><td>4199</td></tr><tr><td>4886772</td><td>2018-03-30</td><td>5059.8</td></tr><tr><td>7121548</td><td>2012-03-05</td><td>4420</td></tr><tr><td>5001950</td><td>2016-03-08</td><td>4537.05</td></tr><tr><td>1699280</td><td>2014-01-07</td><td>4158.96</td></tr><tr><td>2692295</td><td>2000-09-26</td><td>5029.7</td></tr><tr><td>1749228</td><td>2010-05-20</td><td>4959.74</td></tr><tr><td>7045580</td><td>2015-02-18</td><td>4557.99</td></tr><tr><td>5969548</td><td>2013-10-11</td><td>6229.34</td></tr><tr><td>3589336</td><td>2017-11-16</td><td>4037.53</td></tr><tr><td>6414515</td><td>2017-04-03</td><td>3968.06</td></tr><tr><td>5388332</td><td>2018-06-14</td><td>4037.53</td></tr><tr><td>6518320</td><td>2013-03-07</td><td>1961</td></tr><tr><td>3220241</td><td>2018-12-02</td><td>4471.99</td></tr><tr><td>4745678</td><td>2010-12-13</td><td>4158.96</td></tr><tr><td>7259343</td><td>2018-12-13</td><td>4981.41</td></tr><tr><td>1248651</td><td>2019-10-02</td><td>3534.96</td></tr><tr><td>2289755</td><td>2008-06-12</td><td>5718.96</td></tr><tr><td>4139756</td><td>2012-08-09</td><td>4981.41</td></tr><tr><td>6455351</td><td>2017-01-12</td><td>4698.7</td></tr><tr><td>5924114</td><td>2003-09-12</td><td>3724.66</td></tr><tr><td>3462024</td><td>2001-12-03</td><td>5490.14</td></tr><tr><td>2082559</td><td>2011-03-05</td><td>6134.96</td></tr><tr><td>2804923</td><td>2000-03-03</td><td>6252.94</td></tr><tr><td>4579929</td><td>2013-10-05</td><td>6637.29</td></tr><tr><td>2987599</td><td>2009-06-04</td><td>6868.79</td></tr><tr><td>6749345</td><td>2000-02-13</td><td>4409.79</td></tr><tr><td>2393625</td><td>2008-08-05</td><td>4026.94</td></tr><tr><td>6915316</td><td>2009-06-05</td><td>4288.93</td></tr><tr><td>2554655</td><td>2010-06-11</td><td>3963.34</td></tr><tr><td>6856530</td><td>2015-08-16</td><td>3189.54</td></tr><tr><td>7343359</td><td>2006-10-29</td><td>4909.15</td></tr><tr><td>1642917</td><td>2010-09-06</td><td>4662.94</td></tr><tr><td>2381158</td><td>2000-10-29</td><td>4000.73</td></tr><tr><td>6114801</td><td>2006-07-23</td><td>4699.21</td></tr><tr><td>1996455</td><td>2018-04-04</td><td>6134.96</td></tr><tr><td>5694230</td><td>2018-06-02</td><td>4258.94</td></tr><tr><td>1838849</td><td>2004-05-13</td><td>5029</td></tr><tr><td>2691622</td><td>2014-01-11</td><td>6705.16</td></tr><tr><td>3669890</td><td>2001-11-03</td><td>6016.71</td></tr><tr><td>3006134</td><td>2000-03-06</td><td>3834</td></tr><tr><td>3242409</td><td>2005-08-29</td><td>8000</td></tr><tr><td>2227342</td><td>2000-05-14</td><td>7879.94</td></tr><tr><td>5148735</td><td>2018-06-05</td><td>4678.96</td></tr><tr><td>4298187</td><td>2018-08-28</td><td>7694.96</td></tr><tr><td>6316949</td><td>2006-04-10</td><td>5071.04</td></tr><tr><td>1371258</td><td>2006-07-25</td><td>3605.9</td></tr><tr><td>5599657</td><td>2003-03-05</td><td>6252.94</td></tr><tr><td>3602017</td><td>2000-10-18</td><td>3999</td></tr><tr><td>2033150</td><td>2001-06-22</td><td>2799</td></tr><tr><td>2083561</td><td>2018-06-20</td><td>5507.74</td></tr><tr><td>5548478</td><td>2016-03-22</td><td>4170.96</td></tr><tr><td>1252813</td><td>2016-04-30</td><td>3204.59</td></tr><tr><td>7212565</td><td>2001-06-29</td><td>4238.94</td></tr><tr><td>1903089</td><td>2001-10-21</td><td>3689.85</td></tr><tr><td>1594454</td><td>2014-07-23</td><td>6693.46</td></tr><tr><td>5239723</td><td>2013-10-30</td><td>6177</td></tr><tr><td>2797887</td><td>2012-04-28</td><td>8320</td></tr><tr><td>6489426</td><td>2001-02-02</td><td>4252.94</td></tr><tr><td>4500350</td><td>2018-10-16</td><td>2823.73</td></tr><tr><td>3719687</td><td>2007-01-04</td><td>3744</td></tr><tr><td>6684479</td><td>2015-11-09</td><td>4902.1</td></tr><tr><td>1441785</td><td>2009-04-11</td><td>5967.51</td></tr><tr><td>1674559</td><td>2004-04-26</td><td>3799</td></tr><tr><td>3319096</td><td>2004-12-07</td><td>3001.93</td></tr><tr><td>3013798</td><td>2016-11-12</td><td>3961.35</td></tr><tr><td>4489967</td><td>2004-10-02</td><td>4218.95</td></tr><tr><td>2776195</td><td>2000-09-02</td><td>6030.96</td></tr><tr><td>6904641</td><td>2004-12-03</td><td>5718.96</td></tr><tr><td>6957454</td><td>2006-07-04</td><td>3594.44</td></tr><tr><td>6068805</td><td>2006-05-25</td><td>5300</td></tr><tr><td>5709067</td><td>2000-03-04</td><td>5036.05</td></tr><tr><td>2805274</td><td>2008-07-19</td><td>4611</td></tr><tr><td>4054523</td><td>2018-07-31</td><td>5656.41</td></tr><tr><td>4213716</td><td>2019-05-18</td><td>6282.44</td></tr><tr><td>3414490</td><td>2001-07-30</td><td>4470.96</td></tr><tr><td>2026059</td><td>2017-04-17</td><td>4701.43</td></tr><tr><td>4846904</td><td>2011-11-17</td><td>5918.54</td></tr><tr><td>2139823</td><td>2008-01-23</td><td>3585.95</td></tr><tr><td>3719367</td><td>2008-01-05</td><td>5720</td></tr><tr><td>6666642</td><td>2017-08-01</td><td>8258.24</td></tr><tr><td>2947979</td><td>2008-01-15</td><td>4070.86</td></tr></table>"
      ]
     },
     "execution_count": 72,
     "metadata": {},
     "output_type": "execute_result"
    }
   ],
   "source": [
    "-- select order id , date and total where order ship = false\n",
    "SELECT orders.ord_id, orders.ord_date, orders.order_tot\n",
    "FROM dsci_504.orders\n",
    "WHERE orders.ord_ship_add = 'false';\n"
   ]
  },
  {
   "cell_type": "code",
   "execution_count": 74,
   "metadata": {
    "azdata_cell_guid": "c456ecdb-6ad2-41cb-af38-1f51f7aa42b7",
    "language": "sql"
   },
   "outputs": [
    {
     "data": {
      "text/html": [
       "(10 row(s) affected)"
      ]
     },
     "metadata": {},
     "output_type": "display_data"
    },
    {
     "data": {
      "text/html": [
       "Total execution time: 00:00:00.002"
      ]
     },
     "metadata": {},
     "output_type": "display_data"
    },
    {
     "data": {
      "application/vnd.dataresource+json": {
       "data": [
        {
         "tax_id": "4",
         "tax_loc": "CA",
         "tax_rate": "8.66"
        },
        {
         "tax_id": "9",
         "tax_loc": "GA",
         "tax_rate": "7.31"
        },
        {
         "tax_id": "18",
         "tax_loc": "NC",
         "tax_rate": "6.97"
        },
        {
         "tax_id": "20",
         "tax_loc": "OH",
         "tax_rate": "7.17"
        },
        {
         "tax_id": "23",
         "tax_loc": "RI",
         "tax_rate": "7.00"
        },
        {
         "tax_id": "25",
         "tax_loc": "TN",
         "tax_rate": "8.52"
        },
        {
         "tax_id": "26",
         "tax_loc": "UT",
         "tax_rate": "7.18"
        },
        {
         "tax_id": "31",
         "tax_loc": "NY",
         "tax_rate": "8.52"
        },
        {
         "tax_id": "22",
         "tax_loc": "PA",
         "tax_rate": "6.34"
        },
        {
         "tax_id": "13",
         "tax_loc": "KS",
         "tax_rate": "8.52"
        }
       ],
       "schema": {
        "fields": [
         {
          "name": "tax_id"
         },
         {
          "name": "tax_loc"
         },
         {
          "name": "tax_rate"
         }
        ]
       }
      },
      "text/html": [
       "<table><tr><th>tax_id</th><th>tax_loc</th><th>tax_rate</th></tr><tr><td>4</td><td>CA</td><td>8.66</td></tr><tr><td>9</td><td>GA</td><td>7.31</td></tr><tr><td>18</td><td>NC</td><td>6.97</td></tr><tr><td>20</td><td>OH</td><td>7.17</td></tr><tr><td>23</td><td>RI</td><td>7.00</td></tr><tr><td>25</td><td>TN</td><td>8.52</td></tr><tr><td>26</td><td>UT</td><td>7.18</td></tr><tr><td>31</td><td>NY</td><td>8.52</td></tr><tr><td>22</td><td>PA</td><td>6.34</td></tr><tr><td>13</td><td>KS</td><td>8.52</td></tr></table>"
      ]
     },
     "execution_count": 74,
     "metadata": {},
     "output_type": "execute_result"
    }
   ],
   "source": [
    "-- select all data from taxes table when the rate more than 2\n",
    "select *\n",
    "FROM dsci_504.taxes\n",
    "where taxes.tax_rate > 2"
   ]
  },
  {
   "cell_type": "code",
   "execution_count": 75,
   "metadata": {
    "azdata_cell_guid": "43253dc0-84e6-4553-aa4a-6c0e7d1df767",
    "language": "sql"
   },
   "outputs": [
    {
     "data": {
      "text/html": [
       "(5 row(s) affected)"
      ]
     },
     "metadata": {},
     "output_type": "display_data"
    },
    {
     "data": {
      "text/html": [
       "Total execution time: 00:00:00.004"
      ]
     },
     "metadata": {},
     "output_type": "display_data"
    },
    {
     "data": {
      "application/vnd.dataresource+json": {
       "data": [
        {
         "cus_id": "27",
         "ord_id": "5920416",
         "warehouse_id": "2"
        },
        {
         "cus_id": "28",
         "ord_id": "4825298",
         "warehouse_id": "3"
        },
        {
         "cus_id": "29",
         "ord_id": "7009183",
         "warehouse_id": "1"
        },
        {
         "cus_id": "30",
         "ord_id": "5186311",
         "warehouse_id": "1"
        },
        {
         "cus_id": "31",
         "ord_id": "4274782",
         "warehouse_id": "3"
        }
       ],
       "schema": {
        "fields": [
         {
          "name": "cus_id"
         },
         {
          "name": "warehouse_id"
         },
         {
          "name": "ord_id"
         }
        ]
       }
      },
      "text/html": [
       "<table><tr><th>cus_id</th><th>warehouse_id</th><th>ord_id</th></tr><tr><td>27</td><td>2</td><td>5920416</td></tr><tr><td>28</td><td>3</td><td>4825298</td></tr><tr><td>29</td><td>1</td><td>7009183</td></tr><tr><td>30</td><td>1</td><td>5186311</td></tr><tr><td>31</td><td>3</td><td>4274782</td></tr></table>"
      ]
     },
     "execution_count": 75,
     "metadata": {},
     "output_type": "execute_result"
    }
   ],
   "source": [
    "-- select all data from customerhouseorders limit 5\n",
    "SELECT *\n",
    "FROM dsci_504.customerwarehouseorders\n",
    "LIMIT 5;"
   ]
  },
  {
   "cell_type": "markdown",
   "metadata": {
    "azdata_cell_guid": "56efe00b-6bec-4371-8937-36b8b14e7773",
    "extensions": {
     "azuredatastudio": {
      "views": []
     }
    }
   },
   "source": [
    "**Q: Write a few paragraphs about what you learned this week in the course. What exciting things did you discover in this assignment with simple queries?**\n",
    "\n",
    "```\n",
    "A: This assignment has provided a practical introduction to SQL querying, highlighting the importance of retrieving, filtering, and joining data to extract meaningful insights from a relational database. SQL is a powerful tool for data manipulation and retrieval, and understanding its fundamentals is crucial for anyone working with databases and data analysis.\n",
    "\n",
    "```"
   ]
  }
 ],
 "metadata": {
  "extensions": {
   "azuredatastudio": {
    "version": 1,
    "views": []
   }
  },
  "kernelspec": {
   "display_name": "SQL",
   "language": "sql",
   "name": "SQL"
  },
  "language_info": {
   "name": "sql",
   "version": ""
  }
 },
 "nbformat": 4,
 "nbformat_minor": 2
}
